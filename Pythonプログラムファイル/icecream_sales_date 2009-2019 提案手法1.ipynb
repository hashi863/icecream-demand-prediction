{
 "cells": [
  {
   "cell_type": "code",
   "execution_count": 1,
   "id": "75120fe8",
   "metadata": {},
   "outputs": [],
   "source": [
    "#ADF検定により、1,4,7,8,9,10,12月には単位根がないことが判明する。\n",
    "#単位根がある月については差分系列への回帰を行うことで1年の予測をする。"
   ]
  },
  {
   "cell_type": "code",
   "execution_count": 2,
   "id": "e12792da",
   "metadata": {},
   "outputs": [
    {
     "data": {
      "text/plain": [
       "[name: \"/device:CPU:0\"\n",
       " device_type: \"CPU\"\n",
       " memory_limit: 268435456\n",
       " locality {\n",
       " }\n",
       " incarnation: 11832656121797759444\n",
       " xla_global_id: -1]"
      ]
     },
     "execution_count": 2,
     "metadata": {},
     "output_type": "execute_result"
    }
   ],
   "source": [
    "from tensorflow.python.client import device_lib\n",
    "device_lib.list_local_devices()"
   ]
  },
  {
   "cell_type": "code",
   "execution_count": 3,
   "id": "88eb9047",
   "metadata": {},
   "outputs": [],
   "source": [
    "import numpy as np\n",
    "import pandas as pd\n",
    "from matplotlib import pyplot as plt\n",
    "%matplotlib inline\n",
    "import statsmodels.api as sm\n",
    "import itertools\n",
    "import warnings\n",
    "warnings.filterwarnings(\"ignore\")\n",
    "\n",
    "\n",
    "from keras.models import Sequential\n",
    "from keras.layers import Dense\n",
    "from keras.layers import LSTM\n",
    "from keras.optimizers import Adam\n",
    "\n",
    "import seaborn as sns\n",
    "import random\n",
    "import csv\n",
    "\n",
    "from keras.preprocessing.sequence import TimeseriesGenerator\n",
    "from sklearn.preprocessing import MinMaxScaler\n",
    "\n"
   ]
  },
  {
   "cell_type": "code",
   "execution_count": 4,
   "id": "034a70b6",
   "metadata": {},
   "outputs": [],
   "source": [
    "import numpy as np\n",
    "import pandas as pd\n",
    "import pmdarima as pm\n",
    "from pmdarima import utils\n",
    "from pmdarima import arima\n",
    "from pmdarima import model_selection\n",
    "from tensorflow.keras.layers import LSTM\n",
    "\n",
    "import statsmodels.api as sm\n",
    "from statsmodels.tsa.statespace.sarimax import SARIMAX\n",
    "\n",
    "from sklearn.metrics import mean_absolute_error\n",
    "from sklearn.metrics import mean_squared_error\n",
    "from sklearn.metrics import mean_absolute_percentage_error\n",
    "\n",
    "from matplotlib import pyplot as plt"
   ]
  },
  {
   "cell_type": "code",
   "execution_count": 5,
   "id": "be68b9f8",
   "metadata": {},
   "outputs": [
    {
     "name": "stdout",
     "output_type": "stream",
     "text": [
      "Using TensorFlow backend\n"
     ]
    }
   ],
   "source": [
    "import numpy as np\n",
    "import matplotlib.pyplot as plt\n",
    "import tensorflow as tf\n",
    "from tensorflow import keras\n",
    "\n",
    "from tensorflow.keras.models import Sequential\n",
    "from tensorflow.keras.layers import Dense, ReLU, PReLU\n",
    "from keras_tuner.tuners import RandomSearch\n",
    "import statsmodels.api as sm\n",
    "from sklearn.metrics import mean_absolute_percentage_error"
   ]
  },
  {
   "cell_type": "code",
   "execution_count": 6,
   "id": "7480c158",
   "metadata": {
    "scrolled": true
   },
   "outputs": [
    {
     "data": {
      "text/html": [
       "<div>\n",
       "<style scoped>\n",
       "    .dataframe tbody tr th:only-of-type {\n",
       "        vertical-align: middle;\n",
       "    }\n",
       "\n",
       "    .dataframe tbody tr th {\n",
       "        vertical-align: top;\n",
       "    }\n",
       "\n",
       "    .dataframe thead th {\n",
       "        text-align: right;\n",
       "    }\n",
       "</style>\n",
       "<table border=\"1\" class=\"dataframe\">\n",
       "  <thead>\n",
       "    <tr style=\"text-align: right;\">\n",
       "      <th></th>\n",
       "      <th>sales</th>\n",
       "      <th>tokyo_temperature</th>\n",
       "      <th>holiday</th>\n",
       "      <th>Unnamed: 4</th>\n",
       "      <th>temperature_difference_2009_2018</th>\n",
       "      <th>temperature_difference_2019_2021</th>\n",
       "      <th>Unnamed: 7</th>\n",
       "      <th>2009</th>\n",
       "      <th>2010</th>\n",
       "      <th>2011</th>\n",
       "      <th>...</th>\n",
       "      <th>2015</th>\n",
       "      <th>2016</th>\n",
       "      <th>2017</th>\n",
       "      <th>2018</th>\n",
       "      <th>2019</th>\n",
       "      <th>2020</th>\n",
       "      <th>2021</th>\n",
       "      <th>2022</th>\n",
       "      <th>AVERAGE2009-2018</th>\n",
       "      <th>AVERAGE2019-2021</th>\n",
       "    </tr>\n",
       "    <tr>\n",
       "      <th>date</th>\n",
       "      <th></th>\n",
       "      <th></th>\n",
       "      <th></th>\n",
       "      <th></th>\n",
       "      <th></th>\n",
       "      <th></th>\n",
       "      <th></th>\n",
       "      <th></th>\n",
       "      <th></th>\n",
       "      <th></th>\n",
       "      <th></th>\n",
       "      <th></th>\n",
       "      <th></th>\n",
       "      <th></th>\n",
       "      <th></th>\n",
       "      <th></th>\n",
       "      <th></th>\n",
       "      <th></th>\n",
       "      <th></th>\n",
       "      <th></th>\n",
       "      <th></th>\n",
       "    </tr>\n",
       "  </thead>\n",
       "  <tbody>\n",
       "    <tr>\n",
       "      <th>2009-01-01</th>\n",
       "      <td>17.59</td>\n",
       "      <td>10.6</td>\n",
       "      <td>1</td>\n",
       "      <td>NaN</td>\n",
       "      <td>0.521429</td>\n",
       "      <td>0.033333</td>\n",
       "      <td>1.0</td>\n",
       "      <td>10.2</td>\n",
       "      <td>11.0</td>\n",
       "      <td>9.1</td>\n",
       "      <td>...</td>\n",
       "      <td>10.4</td>\n",
       "      <td>10.6</td>\n",
       "      <td>10.8</td>\n",
       "      <td>9.4</td>\n",
       "      <td>10.3</td>\n",
       "      <td>11.1</td>\n",
       "      <td>10.3</td>\n",
       "      <td>9.4</td>\n",
       "      <td>10.078571</td>\n",
       "      <td>10.566667</td>\n",
       "    </tr>\n",
       "    <tr>\n",
       "      <th>2009-01-02</th>\n",
       "      <td>23.83</td>\n",
       "      <td>11.6</td>\n",
       "      <td>1</td>\n",
       "      <td>NaN</td>\n",
       "      <td>1.521429</td>\n",
       "      <td>1.033333</td>\n",
       "      <td>2.0</td>\n",
       "      <td>11.5</td>\n",
       "      <td>9.9</td>\n",
       "      <td>11.2</td>\n",
       "      <td>...</td>\n",
       "      <td>10.4</td>\n",
       "      <td>12.2</td>\n",
       "      <td>12.1</td>\n",
       "      <td>10.1</td>\n",
       "      <td>11.6</td>\n",
       "      <td>13.3</td>\n",
       "      <td>14.0</td>\n",
       "      <td>10.5</td>\n",
       "      <td>11.142857</td>\n",
       "      <td>12.966667</td>\n",
       "    </tr>\n",
       "    <tr>\n",
       "      <th>2009-01-03</th>\n",
       "      <td>22.94</td>\n",
       "      <td>10.7</td>\n",
       "      <td>1</td>\n",
       "      <td>NaN</td>\n",
       "      <td>0.621429</td>\n",
       "      <td>0.133333</td>\n",
       "      <td>3.0</td>\n",
       "      <td>13.7</td>\n",
       "      <td>13.2</td>\n",
       "      <td>12.3</td>\n",
       "      <td>...</td>\n",
       "      <td>15.5</td>\n",
       "      <td>14.9</td>\n",
       "      <td>13.4</td>\n",
       "      <td>16.9</td>\n",
       "      <td>15.4</td>\n",
       "      <td>16.0</td>\n",
       "      <td>17.9</td>\n",
       "      <td>16.6</td>\n",
       "      <td>14.942857</td>\n",
       "      <td>16.433333</td>\n",
       "    </tr>\n",
       "    <tr>\n",
       "      <th>2009-01-04</th>\n",
       "      <td>17.14</td>\n",
       "      <td>11.1</td>\n",
       "      <td>1</td>\n",
       "      <td>NaN</td>\n",
       "      <td>1.021429</td>\n",
       "      <td>0.533333</td>\n",
       "      <td>4.0</td>\n",
       "      <td>20.2</td>\n",
       "      <td>16.6</td>\n",
       "      <td>18.9</td>\n",
       "      <td>...</td>\n",
       "      <td>19.3</td>\n",
       "      <td>20.3</td>\n",
       "      <td>19.9</td>\n",
       "      <td>22.1</td>\n",
       "      <td>19.0</td>\n",
       "      <td>18.2</td>\n",
       "      <td>20.6</td>\n",
       "      <td>20.2</td>\n",
       "      <td>19.471429</td>\n",
       "      <td>19.266667</td>\n",
       "    </tr>\n",
       "    <tr>\n",
       "      <th>2009-01-05</th>\n",
       "      <td>10.32</td>\n",
       "      <td>11.8</td>\n",
       "      <td>0</td>\n",
       "      <td>NaN</td>\n",
       "      <td>1.721429</td>\n",
       "      <td>1.233333</td>\n",
       "      <td>5.0</td>\n",
       "      <td>23.6</td>\n",
       "      <td>23.0</td>\n",
       "      <td>22.2</td>\n",
       "      <td>...</td>\n",
       "      <td>26.4</td>\n",
       "      <td>25.2</td>\n",
       "      <td>25.1</td>\n",
       "      <td>24.6</td>\n",
       "      <td>25.3</td>\n",
       "      <td>24.0</td>\n",
       "      <td>24.1</td>\n",
       "      <td>23.5</td>\n",
       "      <td>24.242857</td>\n",
       "      <td>24.466667</td>\n",
       "    </tr>\n",
       "  </tbody>\n",
       "</table>\n",
       "<p>5 rows × 23 columns</p>\n",
       "</div>"
      ],
      "text/plain": [
       "            sales  tokyo_temperature  holiday  Unnamed: 4  \\\n",
       "date                                                        \n",
       "2009-01-01  17.59               10.6        1         NaN   \n",
       "2009-01-02  23.83               11.6        1         NaN   \n",
       "2009-01-03  22.94               10.7        1         NaN   \n",
       "2009-01-04  17.14               11.1        1         NaN   \n",
       "2009-01-05  10.32               11.8        0         NaN   \n",
       "\n",
       "            temperature_difference_2009_2018  \\\n",
       "date                                           \n",
       "2009-01-01                          0.521429   \n",
       "2009-01-02                          1.521429   \n",
       "2009-01-03                          0.621429   \n",
       "2009-01-04                          1.021429   \n",
       "2009-01-05                          1.721429   \n",
       "\n",
       "            temperature_difference_2019_2021  Unnamed: 7  2009  2010  2011  \\\n",
       "date                                                                         \n",
       "2009-01-01                          0.033333         1.0  10.2  11.0   9.1   \n",
       "2009-01-02                          1.033333         2.0  11.5   9.9  11.2   \n",
       "2009-01-03                          0.133333         3.0  13.7  13.2  12.3   \n",
       "2009-01-04                          0.533333         4.0  20.2  16.6  18.9   \n",
       "2009-01-05                          1.233333         5.0  23.6  23.0  22.2   \n",
       "\n",
       "            ...  2015  2016  2017  2018  2019  2020  2021  2022  \\\n",
       "date        ...                                                   \n",
       "2009-01-01  ...  10.4  10.6  10.8   9.4  10.3  11.1  10.3   9.4   \n",
       "2009-01-02  ...  10.4  12.2  12.1  10.1  11.6  13.3  14.0  10.5   \n",
       "2009-01-03  ...  15.5  14.9  13.4  16.9  15.4  16.0  17.9  16.6   \n",
       "2009-01-04  ...  19.3  20.3  19.9  22.1  19.0  18.2  20.6  20.2   \n",
       "2009-01-05  ...  26.4  25.2  25.1  24.6  25.3  24.0  24.1  23.5   \n",
       "\n",
       "            AVERAGE2009-2018  AVERAGE2019-2021  \n",
       "date                                            \n",
       "2009-01-01         10.078571         10.566667  \n",
       "2009-01-02         11.142857         12.966667  \n",
       "2009-01-03         14.942857         16.433333  \n",
       "2009-01-04         19.471429         19.266667  \n",
       "2009-01-05         24.242857         24.466667  \n",
       "\n",
       "[5 rows x 23 columns]"
      ]
     },
     "execution_count": 6,
     "metadata": {},
     "output_type": "execute_result"
    }
   ],
   "source": [
    "df=pd.read_csv('icecream_sales_date 2009-2022.csv', index_col='date', parse_dates=True,encoding=\"utf-8\")\n",
    "df.head()"
   ]
  },
  {
   "cell_type": "code",
   "execution_count": 7,
   "id": "f024e45e",
   "metadata": {},
   "outputs": [],
   "source": [
    "df_train=df[:\"2018-12-31\"]\n",
    "df_test=df[\"2019-01-01\":\"2019-12-31\"]"
   ]
  },
  {
   "cell_type": "code",
   "execution_count": 8,
   "id": "d3967ff3",
   "metadata": {},
   "outputs": [],
   "source": [
    "def plot_series(time, series, format=\"-\", start=0, end=None):\n",
    "    plt.plot(time[start:end], series[start:end], format)\n",
    "    plt.xlabel(\"Time\")\n",
    "    plt.ylabel(\"Value\")\n",
    "    plt.grid(True)"
   ]
  },
  {
   "cell_type": "code",
   "execution_count": 9,
   "id": "84b4cee7",
   "metadata": {},
   "outputs": [
    {
     "data": {
      "text/plain": [
       "date\n",
       "2009-01-01    17.59\n",
       "2009-01-02    23.83\n",
       "2009-01-03    22.94\n",
       "2009-01-04    17.14\n",
       "2009-01-05    10.32\n",
       "              ...  \n",
       "2022-12-27    21.51\n",
       "2022-12-28    21.46\n",
       "2022-12-29    27.37\n",
       "2022-12-30    30.94\n",
       "2022-12-31    41.60\n",
       "Name: sales, Length: 5110, dtype: float64"
      ]
     },
     "execution_count": 9,
     "metadata": {},
     "output_type": "execute_result"
    }
   ],
   "source": [
    "year=10\n",
    "sales=df[\"sales\"]\n",
    "sales"
   ]
  },
  {
   "cell_type": "code",
   "execution_count": 10,
   "id": "22e20ba6",
   "metadata": {},
   "outputs": [
    {
     "data": {
      "image/png": "[encoded data removed]",
      "text/plain": [
       "<Figure size 640x480 with 1 Axes>"
      ]
     },
     "metadata": {},
     "output_type": "display_data"
    }
   ],
   "source": [
    "sales.plot()                                 #残差（resid）のグラフ描写\n",
    "plt.title('STL')                            #グラフタイトル\n",
    "plt.ylabel('Sales') #タテ軸のラベル\n",
    "plt.xlabel('date')                                #ヨコ軸のラベル\n",
    "plt.legend()                                       #凡例表示\n",
    "plt.show()"
   ]
  },
  {
   "cell_type": "code",
   "execution_count": 11,
   "id": "5fef35f1",
   "metadata": {},
   "outputs": [],
   "source": [
    "import statsmodels.api"
   ]
  },
  {
   "cell_type": "code",
   "execution_count": 12,
   "id": "17c4250e",
   "metadata": {},
   "outputs": [],
   "source": [
    "from statsmodels.formula.api import ols\n",
    "from statsmodels.formula.api import gls\n",
    "import matplotlib.pyplot as plt\n",
    "import seaborn as sns; sns.set()\n",
    "import numpy as np\n",
    "import statsmodels.api as sm"
   ]
  },
  {
   "cell_type": "code",
   "execution_count": 13,
   "id": "b45cd026",
   "metadata": {},
   "outputs": [],
   "source": [
    "import statsmodels.formula.api as smf\n",
    "from scipy.linalg import toeplitz\n",
    "import statsmodels.api as sm\n",
    "import statsmodels.formula.api as smf\n",
    "from statsmodels.stats.stattools import durbin_watson\n",
    "from statsmodels.tsa.seasonal import STL, seasonal_decompose\n",
    "from statsmodels.tsa.stattools import adfuller\n",
    "from statsmodels.tsa.deterministic import Fourier, DeterministicProcess\n",
    "from statsmodels.graphics.tsaplots import plot_acf"
   ]
  },
  {
   "cell_type": "code",
   "execution_count": 14,
   "id": "4fd35f21",
   "metadata": {},
   "outputs": [],
   "source": [
    "import statsmodels.formula.api as smf\n",
    "from scipy.linalg import toeplitz\n",
    "import statsmodels.api as sm\n",
    "import statsmodels.formula.api as smf\n",
    "from statsmodels.stats.stattools import durbin_watson\n",
    "from statsmodels.tsa.seasonal import STL, seasonal_decompose\n",
    "from statsmodels.tsa.stattools import adfuller\n",
    "from statsmodels.tsa.deterministic import Fourier, DeterministicProcess\n",
    "from statsmodels.graphics.tsaplots import plot_acf"
   ]
  },
  {
   "cell_type": "code",
   "execution_count": 15,
   "id": "17a661f3",
   "metadata": {},
   "outputs": [
    {
     "data": {
      "text/plain": [
       "date\n",
       "2009-01-01    0.521429\n",
       "2009-01-02    1.521429\n",
       "2009-01-03    0.621429\n",
       "2009-01-04    1.021429\n",
       "2009-01-05    1.721429\n",
       "                ...   \n",
       "2018-12-27    1.100000\n",
       "2018-12-28   -3.700000\n",
       "2018-12-29   -2.300000\n",
       "2018-12-30   -2.000000\n",
       "2018-12-31   -3.200000\n",
       "Name: temperature_difference_2009_2018, Length: 3650, dtype: float64"
      ]
     },
     "execution_count": 15,
     "metadata": {},
     "output_type": "execute_result"
    }
   ],
   "source": [
    "df_temperature=df_train[\"temperature_difference_2009_2018\"]\n",
    "df_temperature"
   ]
  },
  {
   "cell_type": "code",
   "execution_count": 16,
   "id": "ce119627",
   "metadata": {},
   "outputs": [],
   "source": [
    "df_holiday=df_train[\"holiday\"]"
   ]
  },
  {
   "cell_type": "code",
   "execution_count": 17,
   "id": "7f164c93",
   "metadata": {},
   "outputs": [],
   "source": [
    "holiday_np = np.array(df_holiday, dtype=float)"
   ]
  },
  {
   "cell_type": "code",
   "execution_count": 18,
   "id": "9c14e7b5",
   "metadata": {},
   "outputs": [
    {
     "data": {
      "text/plain": [
       "array([ 0.52142857,  1.52142857,  0.62142857, ..., -2.3       ,\n",
       "       -2.        , -3.2       ])"
      ]
     },
     "execution_count": 18,
     "metadata": {},
     "output_type": "execute_result"
    }
   ],
   "source": [
    "temperature_np = np.array(df_temperature, dtype=float)\n",
    "temperature_np"
   ]
  },
  {
   "cell_type": "code",
   "execution_count": 19,
   "id": "0aeb7f06",
   "metadata": {},
   "outputs": [],
   "source": [
    "import numpy as np\n",
    "import plotly.graph_objects as go"
   ]
  },
  {
   "cell_type": "code",
   "execution_count": 20,
   "id": "40e18602",
   "metadata": {},
   "outputs": [
    {
     "data": {
      "text/plain": [
       "(3650,)"
      ]
     },
     "execution_count": 20,
     "metadata": {},
     "output_type": "execute_result"
    }
   ],
   "source": [
    "# s_temperature：一つ目の説明変数\n",
    "x1=temperature_np\n",
    "x1.shape"
   ]
  },
  {
   "cell_type": "code",
   "execution_count": 21,
   "id": "c7fb0355",
   "metadata": {},
   "outputs": [
    {
     "data": {
      "text/plain": [
       "array([1., 1., 1., ..., 1., 1., 1.])"
      ]
     },
     "execution_count": 21,
     "metadata": {},
     "output_type": "execute_result"
    }
   ],
   "source": [
    "#holiday_np:二つ目の説明変数\n",
    "x2=holiday_np\n",
    "x2"
   ]
  },
  {
   "cell_type": "code",
   "execution_count": 22,
   "id": "96c2c601",
   "metadata": {},
   "outputs": [
    {
     "data": {
      "text/plain": [
       "(3650,)"
      ]
     },
     "execution_count": 22,
     "metadata": {},
     "output_type": "execute_result"
    }
   ],
   "source": [
    "# stl_r:目的変数\n",
    "y=sales[:365*year]\n",
    "y.shape"
   ]
  },
  {
   "cell_type": "code",
   "execution_count": 23,
   "id": "91a6e275",
   "metadata": {},
   "outputs": [],
   "source": [
    "janday=31\n",
    "febday=janday+28\n",
    "marday=febday+31\n",
    "aprday=marday+30\n",
    "mayday=aprday+31\n",
    "junday=mayday+30\n",
    "julday=junday+31\n",
    "augday=julday+31\n",
    "sepday=augday+30\n",
    "octday=sepday+31\n",
    "novday=octday+30\n",
    "decday=novday+31"
   ]
  },
  {
   "cell_type": "code",
   "execution_count": 24,
   "id": "62a6f306",
   "metadata": {},
   "outputs": [],
   "source": [
    "janx1=[]\n",
    "janx2=[]\n",
    "jany=[]\n",
    "i=0\n",
    "for i in range(year):\n",
    "    janx1=np.append(janx1,x1[i*365:i*365+janday])\n",
    "    janx2=np.append(janx2,x2[i*365:i*365+janday])\n",
    "    jany=np.append(jany,y[i*365:i*365+janday])\n",
    "    \n",
    "febx1=[]\n",
    "febx2=[]\n",
    "feby=[]\n",
    "i=0\n",
    "for i in range(year):\n",
    "    febx1=np.append(febx1,x1[i*365+janday:i*365+febday])\n",
    "    febx2=np.append(febx2,x2[i*365+janday:i*365+febday])\n",
    "    feby=np.append(feby,y[i*365+janday:i*365+febday])\n",
    "    \n",
    "marx1=[]\n",
    "marx2=[]\n",
    "mary=[]\n",
    "i=0\n",
    "for i in range(year):\n",
    "    marx1=np.append(marx1,x1[i*365+febday:i*365+marday])\n",
    "    marx2=np.append(marx2,x2[i*365+febday:i*365+marday])\n",
    "    mary=np.append(mary,y[i*365+febday:i*365+marday])\n",
    "    \n",
    "aprx1=[]\n",
    "aprx2=[]\n",
    "apry=[]\n",
    "i=0\n",
    "for i in range(year):\n",
    "    aprx1=np.append(aprx1,x1[i*365+marday:i*365+aprday])\n",
    "    aprx2=np.append(aprx2,x2[i*365+marday:i*365+aprday])\n",
    "    apry=np.append(apry,y[i*365+marday:i*365+aprday])\n",
    "\n",
    "mayx1=[]\n",
    "mayx2=[]\n",
    "mayy=[]\n",
    "i=0\n",
    "for i in range(year):\n",
    "    mayx1=np.append(mayx1,x1[i*365+aprday:i*365+mayday])\n",
    "    mayx2=np.append(mayx2,x2[i*365+aprday:i*365+mayday])\n",
    "    mayy=np.append(mayy,y[i*365+aprday:i*365+mayday])\n",
    "    \n",
    "junx1=[]\n",
    "junx2=[]\n",
    "juny=[]\n",
    "i=0\n",
    "for i in range(year):\n",
    "    junx1=np.append(junx1,x1[i*365+mayday:i*365+junday])\n",
    "    junx2=np.append(junx2,x2[i*365+mayday:i*365+junday])\n",
    "    juny=np.append(juny,y[i*365+mayday:i*365+junday])\n",
    "    \n",
    "julx1=[]\n",
    "julx2=[]\n",
    "july=[]\n",
    "i=0\n",
    "for i in range(year):\n",
    "    julx1=np.append(julx1,x1[i*365+junday:i*365+julday])\n",
    "    julx2=np.append(julx2,x2[i*365+junday:i*365+julday])\n",
    "    july=np.append(july,y[i*365+junday:i*365+julday])\n",
    "    \n",
    "augx1=[]\n",
    "augx2=[]\n",
    "augy=[]\n",
    "i=0\n",
    "for i in range(year):\n",
    "    augx1=np.append(augx1,x1[i*365+julday:i*365+augday])\n",
    "    augx2=np.append(augx2,x2[i*365+julday:i*365+augday])\n",
    "    augy=np.append(augy,y[i*365+julday:i*365+augday])\n",
    "    \n",
    "sepx1=[]\n",
    "sepx2=[]\n",
    "sepy=[]\n",
    "i=0\n",
    "for i in range(year):\n",
    "    sepx1=np.append(sepx1,x1[i*365+augday:i*365+sepday])\n",
    "    sepx2=np.append(sepx2,x2[i*365+augday:i*365+sepday])\n",
    "    sepy=np.append(sepy,y[i*365+augday:i*365+sepday])\n",
    "    \n",
    "octx1=[]\n",
    "octx2=[]\n",
    "octy=[]\n",
    "i=0\n",
    "for i in range(year):\n",
    "    octx1=np.append(octx1,x1[i*365+sepday:i*365+octday])\n",
    "    octx2=np.append(octx2,x2[i*365+sepday:i*365+octday])\n",
    "    octy=np.append(octy,y[i*365+sepday:i*365+octday])\n",
    "    \n",
    "novx1=[]\n",
    "novx2=[]\n",
    "novy=[]\n",
    "i=0\n",
    "for i in range(year):\n",
    "    novx1=np.append(novx1,x1[i*365+octday:i*365+novday])\n",
    "    novx2=np.append(novx2,x2[i*365+octday:i*365+novday])\n",
    "    novy=np.append(novy,y[i*365+octday:i*365+novday])\n",
    "    \n",
    "decx1=[]\n",
    "decx2=[]\n",
    "decy=[]\n",
    "i=0\n",
    "for i in range(year):\n",
    "    decx1=np.append(decx1,x1[i*365+novday:i*365+decday])\n",
    "    decx2=np.append(decx2,x2[i*365+novday:i*365+decday])\n",
    "    decy=np.append(decy,y[i*365+novday:i*365+decday])"
   ]
  },
  {
   "cell_type": "code",
   "execution_count": 25,
   "id": "9524b203",
   "metadata": {},
   "outputs": [],
   "source": [
    "col1 = jany\n",
    "col2 = janx1\n",
    "col3 = janx2\n",
    "jandf = pd.DataFrame({'sales':col1,'temperature':col2, 'holiday':col3})\n",
    "\n",
    "col1 = feby\n",
    "col2 = febx1\n",
    "col3 = febx2\n",
    "febdf = pd.DataFrame({'sales':col1,'temperature':col2, 'holiday':col3})\n",
    "\n",
    "col1 = mary\n",
    "col2 = marx1\n",
    "col3 = marx2\n",
    "mardf = pd.DataFrame({'sales':col1,'temperature':col2, 'holiday':col3})\n",
    "\n",
    "col1 = apry\n",
    "col2 = aprx1\n",
    "col3 = aprx2\n",
    "aprdf = pd.DataFrame({'sales':col1,'temperature':col2, 'holiday':col3})\n",
    "\n",
    "col1 = mayy\n",
    "col2 = mayx1\n",
    "col3 = mayx2\n",
    "maydf = pd.DataFrame({'sales':col1,'temperature':col2, 'holiday':col3})\n",
    "\n",
    "col1 = juny\n",
    "col2 = junx1\n",
    "col3 = junx2\n",
    "jundf = pd.DataFrame({'sales':col1,'temperature':col2, 'holiday':col3})\n",
    "\n",
    "col1 = july\n",
    "col2 = julx1\n",
    "col3 = julx2\n",
    "juldf = pd.DataFrame({'sales':col1,'temperature':col2, 'holiday':col3})\n",
    "\n",
    "col1 = augy\n",
    "col2 = augx1\n",
    "col3 = augx2\n",
    "augdf = pd.DataFrame({'sales':col1,'temperature':col2, 'holiday':col3})\n",
    "\n",
    "col1 = sepy\n",
    "col2 = sepx1\n",
    "col3 = sepx2\n",
    "sepdf = pd.DataFrame({'sales':col1,'temperature':col2, 'holiday':col3})\n",
    "\n",
    "col1 = octy\n",
    "col2 = octx1\n",
    "col3 = octx2\n",
    "octdf = pd.DataFrame({'sales':col1,'temperature':col2, 'holiday':col3})\n",
    "\n",
    "col1 = novy\n",
    "col2 = novx1\n",
    "col3 = novx2\n",
    "novdf = pd.DataFrame({'sales':col1,'temperature':col2, 'holiday':col3})\n",
    "\n",
    "col1 = decy\n",
    "col2 = decx1\n",
    "col3 = decx2\n",
    "decdf = pd.DataFrame({'sales':col1,'temperature':col2, 'holiday':col3})"
   ]
  },
  {
   "cell_type": "code",
   "execution_count": 26,
   "id": "a6b73229",
   "metadata": {},
   "outputs": [
    {
     "name": "stdout",
     "output_type": "stream",
     "text": [
      "ADF Statistic: -11.763037\n",
      "p-value: 0.000000\n",
      "Critical values :\n",
      "\t 1% -3.45169128009473\n",
      "\t 5% -2.8709394227049154\n",
      "\t 10% -2.5717780602423517\n"
     ]
    }
   ],
   "source": [
    "# ADF検定（原系列）\n",
    "dftest = adfuller(janx1)\n",
    "print('ADF Statistic: %f' % dftest[0])\n",
    "print('p-value: %f' % dftest[1])\n",
    "print('Critical values :')\n",
    "for k, v in dftest[4].items():\n",
    "    print('\\t', k, v)"
   ]
  },
  {
   "cell_type": "code",
   "execution_count": 27,
   "id": "ada0f52b",
   "metadata": {},
   "outputs": [
    {
     "name": "stdout",
     "output_type": "stream",
     "text": [
      "ADF Statistic: -5.752239\n",
      "p-value: 0.000001\n",
      "Critical values :\n",
      "\t 1% -3.4524113009049935\n",
      "\t 5% -2.8712554127251764\n",
      "\t 10% -2.571946570731871\n"
     ]
    }
   ],
   "source": [
    "# ADF検定（原系列）\n",
    "dftest = adfuller(janx2)\n",
    "print('ADF Statistic: %f' % dftest[0])\n",
    "print('p-value: %f' % dftest[1])\n",
    "print('Critical values :')\n",
    "for k, v in dftest[4].items():\n",
    "    print('\\t', k, v)"
   ]
  },
  {
   "cell_type": "code",
   "execution_count": 28,
   "id": "3264ef43",
   "metadata": {},
   "outputs": [
    {
     "name": "stdout",
     "output_type": "stream",
     "text": [
      "ADF Statistic: -5.061560\n",
      "p-value: 0.000017\n",
      "Critical values :\n",
      "\t 1% -3.4521902441030963\n",
      "\t 5% -2.871158406898617\n",
      "\t 10% -2.5718948388228586\n"
     ]
    }
   ],
   "source": [
    "# ADF検定（原系列）\n",
    "dftest = adfuller(jany)\n",
    "print('ADF Statistic: %f' % dftest[0])\n",
    "print('p-value: %f' % dftest[1])\n",
    "print('Critical values :')\n",
    "for k, v in dftest[4].items():\n",
    "    print('\\t', k, v)"
   ]
  },
  {
   "cell_type": "code",
   "execution_count": 29,
   "id": "1714a00b",
   "metadata": {},
   "outputs": [
    {
     "name": "stdout",
     "output_type": "stream",
     "text": [
      "ADF Statistic: -8.018951\n",
      "p-value: 0.000000\n",
      "Critical values :\n",
      "\t 1% -3.4540935579190495\n",
      "\t 5% -2.8719934111688965\n",
      "\t 10% -2.5723401594120388\n"
     ]
    }
   ],
   "source": [
    "# ADF検定（原系列）\n",
    "dftest = adfuller(febx1)\n",
    "print('ADF Statistic: %f' % dftest[0])\n",
    "print('p-value: %f' % dftest[1])\n",
    "print('Critical values :')\n",
    "for k, v in dftest[4].items():\n",
    "    print('\\t', k, v)"
   ]
  },
  {
   "cell_type": "code",
   "execution_count": 30,
   "id": "0461b107",
   "metadata": {},
   "outputs": [
    {
     "name": "stdout",
     "output_type": "stream",
     "text": [
      "ADF Statistic: -5.778611\n",
      "p-value: 0.000001\n",
      "Critical values :\n",
      "\t 1% -3.4554613060274972\n",
      "\t 5% -2.8725931472675046\n",
      "\t 10% -2.5726600403359887\n"
     ]
    }
   ],
   "source": [
    "# ADF検定（原系列）\n",
    "dftest = adfuller(febx2)\n",
    "print('ADF Statistic: %f' % dftest[0])\n",
    "print('p-value: %f' % dftest[1])\n",
    "print('Critical values :')\n",
    "for k, v in dftest[4].items():\n",
    "    print('\\t', k, v)"
   ]
  },
  {
   "cell_type": "code",
   "execution_count": 31,
   "id": "8b05b7aa",
   "metadata": {},
   "outputs": [
    {
     "name": "stdout",
     "output_type": "stream",
     "text": [
      "ADF Statistic: -0.991981\n",
      "p-value: 0.756178\n",
      "Critical values :\n",
      "\t 1% -3.455175292841607\n",
      "\t 5% -2.8724677563219485\n",
      "\t 10% -2.57259315846006\n"
     ]
    }
   ],
   "source": [
    "# ADF検定（原系列）\n",
    "dftest = adfuller(feby)\n",
    "print('ADF Statistic: %f' % dftest[0])\n",
    "print('p-value: %f' % dftest[1])\n",
    "print('Critical values :')\n",
    "for k, v in dftest[4].items():\n",
    "    print('\\t', k, v)"
   ]
  },
  {
   "cell_type": "code",
   "execution_count": 32,
   "id": "aa0fa79f",
   "metadata": {},
   "outputs": [
    {
     "name": "stdout",
     "output_type": "stream",
     "text": [
      "ADF Statistic: -9.033091\n",
      "p-value: 0.000000\n",
      "Critical values :\n",
      "\t 1% -3.45169128009473\n",
      "\t 5% -2.8709394227049154\n",
      "\t 10% -2.5717780602423517\n"
     ]
    }
   ],
   "source": [
    "# ADF検定（原系列）\n",
    "dftest = adfuller(marx1)\n",
    "print('ADF Statistic: %f' % dftest[0])\n",
    "print('p-value: %f' % dftest[1])\n",
    "print('Critical values :')\n",
    "for k, v in dftest[4].items():\n",
    "    print('\\t', k, v)"
   ]
  },
  {
   "cell_type": "code",
   "execution_count": 33,
   "id": "2aa1ebb1",
   "metadata": {},
   "outputs": [
    {
     "name": "stdout",
     "output_type": "stream",
     "text": [
      "ADF Statistic: -4.615260\n",
      "p-value: 0.000121\n",
      "Critical values :\n",
      "\t 1% -3.452789844280995\n",
      "\t 5% -2.871421512222641\n",
      "\t 10% -2.5720351510944512\n"
     ]
    }
   ],
   "source": [
    "# ADF検定（原系列）\n",
    "dftest = adfuller(marx2)\n",
    "print('ADF Statistic: %f' % dftest[0])\n",
    "print('p-value: %f' % dftest[1])\n",
    "print('Critical values :')\n",
    "for k, v in dftest[4].items():\n",
    "    print('\\t', k, v)"
   ]
  },
  {
   "cell_type": "code",
   "execution_count": 34,
   "id": "5b41e3f6",
   "metadata": {},
   "outputs": [
    {
     "name": "stdout",
     "output_type": "stream",
     "text": [
      "ADF Statistic: -1.233404\n",
      "p-value: 0.659064\n",
      "Critical values :\n",
      "\t 1% -3.452867117291862\n",
      "\t 5% -2.8714554160827745\n",
      "\t 10% -2.5720532321867466\n"
     ]
    }
   ],
   "source": [
    "# ADF検定（原系列）\n",
    "dftest = adfuller(mary)\n",
    "print('ADF Statistic: %f' % dftest[0])\n",
    "print('p-value: %f' % dftest[1])\n",
    "print('Critical values :')\n",
    "for k, v in dftest[4].items():\n",
    "    print('\\t', k, v)"
   ]
  },
  {
   "cell_type": "code",
   "execution_count": 35,
   "id": "7fd35891",
   "metadata": {},
   "outputs": [
    {
     "name": "stdout",
     "output_type": "stream",
     "text": [
      "ADF Statistic: -9.994604\n",
      "p-value: 0.000000\n",
      "Critical values :\n",
      "\t 1% -3.4524113009049935\n",
      "\t 5% -2.8712554127251764\n",
      "\t 10% -2.571946570731871\n"
     ]
    }
   ],
   "source": [
    "# ADF検定（原系列）\n",
    "dftest = adfuller(aprx1)\n",
    "print('ADF Statistic: %f' % dftest[0])\n",
    "print('p-value: %f' % dftest[1])\n",
    "print('Critical values :')\n",
    "for k, v in dftest[4].items():\n",
    "    print('\\t', k, v)"
   ]
  },
  {
   "cell_type": "code",
   "execution_count": 36,
   "id": "310d2ade",
   "metadata": {},
   "outputs": [
    {
     "name": "stdout",
     "output_type": "stream",
     "text": [
      "ADF Statistic: -7.116647\n",
      "p-value: 0.000000\n",
      "Critical values :\n",
      "\t 1% -3.453342167806272\n",
      "\t 5% -2.871663828287282\n",
      "\t 10% -2.572164381381345\n"
     ]
    }
   ],
   "source": [
    "# ADF検定（原系列）\n",
    "dftest = adfuller(aprx2)\n",
    "print('ADF Statistic: %f' % dftest[0])\n",
    "print('p-value: %f' % dftest[1])\n",
    "print('Critical values :')\n",
    "for k, v in dftest[4].items():\n",
    "    print('\\t', k, v)"
   ]
  },
  {
   "cell_type": "code",
   "execution_count": 37,
   "id": "ff085ada",
   "metadata": {},
   "outputs": [
    {
     "name": "stdout",
     "output_type": "stream",
     "text": [
      "ADF Statistic: -3.141737\n",
      "p-value: 0.023615\n",
      "Critical values :\n",
      "\t 1% -3.4529449243622383\n",
      "\t 5% -2.871489553425686\n",
      "\t 10% -2.572071437887033\n"
     ]
    }
   ],
   "source": [
    "# ADF検定（原系列）\n",
    "dftest = adfuller(apry)\n",
    "print('ADF Statistic: %f' % dftest[0])\n",
    "print('p-value: %f' % dftest[1])\n",
    "print('Critical values :')\n",
    "for k, v in dftest[4].items():\n",
    "    print('\\t', k, v)"
   ]
  },
  {
   "cell_type": "code",
   "execution_count": 38,
   "id": "61f48854",
   "metadata": {},
   "outputs": [
    {
     "name": "stdout",
     "output_type": "stream",
     "text": [
      "ADF Statistic: -7.342562\n",
      "p-value: 0.000000\n",
      "Critical values :\n",
      "\t 1% -3.4518314994261337\n",
      "\t 5% -2.8710009653519166\n",
      "\t 10% -2.571810878948318\n"
     ]
    }
   ],
   "source": [
    "# ADF検定（原系列）\n",
    "dftest = adfuller(mayx1)\n",
    "print('ADF Statistic: %f' % dftest[0])\n",
    "print('p-value: %f' % dftest[1])\n",
    "print('Critical values :')\n",
    "for k, v in dftest[4].items():\n",
    "    print('\\t', k, v)"
   ]
  },
  {
   "cell_type": "code",
   "execution_count": 39,
   "id": "b7b1e8f5",
   "metadata": {},
   "outputs": [
    {
     "name": "stdout",
     "output_type": "stream",
     "text": [
      "ADF Statistic: -5.389804\n",
      "p-value: 0.000004\n",
      "Critical values :\n",
      "\t 1% -3.452867117291862\n",
      "\t 5% -2.8714554160827745\n",
      "\t 10% -2.5720532321867466\n"
     ]
    }
   ],
   "source": [
    "# ADF検定（原系列）\n",
    "dftest = adfuller(mayx2)\n",
    "print('ADF Statistic: %f' % dftest[0])\n",
    "print('p-value: %f' % dftest[1])\n",
    "print('Critical values :')\n",
    "for k, v in dftest[4].items():\n",
    "    print('\\t', k, v)"
   ]
  },
  {
   "cell_type": "code",
   "execution_count": 40,
   "id": "e28561ae",
   "metadata": {},
   "outputs": [
    {
     "name": "stdout",
     "output_type": "stream",
     "text": [
      "ADF Statistic: -2.779564\n",
      "p-value: 0.061253\n",
      "Critical values :\n",
      "\t 1% -3.452867117291862\n",
      "\t 5% -2.8714554160827745\n",
      "\t 10% -2.5720532321867466\n"
     ]
    }
   ],
   "source": [
    "# ADF検定（原系列）\n",
    "dftest = adfuller(mayy)\n",
    "print('ADF Statistic: %f' % dftest[0])\n",
    "print('p-value: %f' % dftest[1])\n",
    "print('Critical values :')\n",
    "for k, v in dftest[4].items():\n",
    "    print('\\t', k, v)"
   ]
  },
  {
   "cell_type": "code",
   "execution_count": 41,
   "id": "cfed8cd0",
   "metadata": {},
   "outputs": [
    {
     "name": "stdout",
     "output_type": "stream",
     "text": [
      "ADF Statistic: -10.963805\n",
      "p-value: 0.000000\n",
      "Critical values :\n",
      "\t 1% -3.4524113009049935\n",
      "\t 5% -2.8712554127251764\n",
      "\t 10% -2.571946570731871\n"
     ]
    }
   ],
   "source": [
    "# ADF検定（原系列）\n",
    "dftest = adfuller(junx1)\n",
    "print('ADF Statistic: %f' % dftest[0])\n",
    "print('p-value: %f' % dftest[1])\n",
    "print('Critical values :')\n",
    "for k, v in dftest[4].items():\n",
    "    print('\\t', k, v)"
   ]
  },
  {
   "cell_type": "code",
   "execution_count": 42,
   "id": "1f14d7fe",
   "metadata": {},
   "outputs": [
    {
     "name": "stdout",
     "output_type": "stream",
     "text": [
      "ADF Statistic: -6.436551\n",
      "p-value: 0.000000\n",
      "Critical values :\n",
      "\t 1% -3.453102162983312\n",
      "\t 5% -2.871558538275452\n",
      "\t 10% -2.5721082282996433\n"
     ]
    }
   ],
   "source": [
    "# ADF検定（原系列）\n",
    "dftest = adfuller(junx2)\n",
    "print('ADF Statistic: %f' % dftest[0])\n",
    "print('p-value: %f' % dftest[1])\n",
    "print('Critical values :')\n",
    "for k, v in dftest[4].items():\n",
    "    print('\\t', k, v)"
   ]
  },
  {
   "cell_type": "code",
   "execution_count": 43,
   "id": "1153abb7",
   "metadata": {},
   "outputs": [
    {
     "name": "stdout",
     "output_type": "stream",
     "text": [
      "ADF Statistic: -2.640891\n",
      "p-value: 0.084837\n",
      "Critical values :\n",
      "\t 1% -3.4535050041524245\n",
      "\t 5% -2.8717352599720294\n",
      "\t 10% -2.5722024776854417\n"
     ]
    }
   ],
   "source": [
    "# ADF検定（原系列）\n",
    "dftest = adfuller(juny)\n",
    "print('ADF Statistic: %f' % dftest[0])\n",
    "print('p-value: %f' % dftest[1])\n",
    "print('Critical values :')\n",
    "for k, v in dftest[4].items():\n",
    "    print('\\t', k, v)"
   ]
  },
  {
   "cell_type": "code",
   "execution_count": 44,
   "id": "76f49e5d",
   "metadata": {},
   "outputs": [
    {
     "name": "stdout",
     "output_type": "stream",
     "text": [
      "ADF Statistic: -6.278738\n",
      "p-value: 0.000000\n",
      "Critical values :\n",
      "\t 1% -3.451973573620699\n",
      "\t 5% -2.8710633193086648\n",
      "\t 10% -2.5718441306100512\n"
     ]
    }
   ],
   "source": [
    "# ADF検定（原系列）\n",
    "dftest = adfuller(julx1)\n",
    "print('ADF Statistic: %f' % dftest[0])\n",
    "print('p-value: %f' % dftest[1])\n",
    "print('Critical values :')\n",
    "for k, v in dftest[4].items():\n",
    "    print('\\t', k, v)"
   ]
  },
  {
   "cell_type": "code",
   "execution_count": 45,
   "id": "ed5ea353",
   "metadata": {},
   "outputs": [
    {
     "name": "stdout",
     "output_type": "stream",
     "text": [
      "ADF Statistic: -7.496542\n",
      "p-value: 0.000000\n",
      "Critical values :\n",
      "\t 1% -3.4525611751768914\n",
      "\t 5% -2.87132117782556\n",
      "\t 10% -2.5719816428028888\n"
     ]
    }
   ],
   "source": [
    "# ADF検定（原系列）\n",
    "dftest = adfuller(julx2)\n",
    "print('ADF Statistic: %f' % dftest[0])\n",
    "print('p-value: %f' % dftest[1])\n",
    "print('Critical values :')\n",
    "for k, v in dftest[4].items():\n",
    "    print('\\t', k, v)"
   ]
  },
  {
   "cell_type": "code",
   "execution_count": 46,
   "id": "5615ea74",
   "metadata": {},
   "outputs": [
    {
     "name": "stdout",
     "output_type": "stream",
     "text": [
      "ADF Statistic: -4.151760\n",
      "p-value: 0.000794\n",
      "Critical values :\n",
      "\t 1% -3.4521902441030963\n",
      "\t 5% -2.871158406898617\n",
      "\t 10% -2.5718948388228586\n"
     ]
    }
   ],
   "source": [
    "# ADF検定（原系列）\n",
    "dftest = adfuller(july)\n",
    "print('ADF Statistic: %f' % dftest[0])\n",
    "print('p-value: %f' % dftest[1])\n",
    "print('Critical values :')\n",
    "for k, v in dftest[4].items():\n",
    "    print('\\t', k, v)"
   ]
  },
  {
   "cell_type": "code",
   "execution_count": 47,
   "id": "f12dc5e2",
   "metadata": {},
   "outputs": [
    {
     "name": "stdout",
     "output_type": "stream",
     "text": [
      "ADF Statistic: -8.315885\n",
      "p-value: 0.000000\n",
      "Critical values :\n",
      "\t 1% -3.45169128009473\n",
      "\t 5% -2.8709394227049154\n",
      "\t 10% -2.5717780602423517\n"
     ]
    }
   ],
   "source": [
    "# ADF検定（原系列）\n",
    "dftest = adfuller(augx1)\n",
    "print('ADF Statistic: %f' % dftest[0])\n",
    "print('p-value: %f' % dftest[1])\n",
    "print('Critical values :')\n",
    "for k, v in dftest[4].items():\n",
    "    print('\\t', k, v)"
   ]
  },
  {
   "cell_type": "code",
   "execution_count": 48,
   "id": "100d95a9",
   "metadata": {},
   "outputs": [
    {
     "name": "stdout",
     "output_type": "stream",
     "text": [
      "ADF Statistic: -5.051480\n",
      "p-value: 0.000018\n",
      "Critical values :\n",
      "\t 1% -3.452867117291862\n",
      "\t 5% -2.8714554160827745\n",
      "\t 10% -2.5720532321867466\n"
     ]
    }
   ],
   "source": [
    "# ADF検定（原系列）\n",
    "dftest = adfuller(augx2)\n",
    "print('ADF Statistic: %f' % dftest[0])\n",
    "print('p-value: %f' % dftest[1])\n",
    "print('Critical values :')\n",
    "for k, v in dftest[4].items():\n",
    "    print('\\t', k, v)"
   ]
  },
  {
   "cell_type": "code",
   "execution_count": 49,
   "id": "dafc4c4d",
   "metadata": {},
   "outputs": [
    {
     "name": "stdout",
     "output_type": "stream",
     "text": [
      "ADF Statistic: -6.946188\n",
      "p-value: 0.000000\n",
      "Critical values :\n",
      "\t 1% -3.452867117291862\n",
      "\t 5% -2.8714554160827745\n",
      "\t 10% -2.5720532321867466\n"
     ]
    }
   ],
   "source": [
    "# ADF検定（原系列）\n",
    "dftest = adfuller(augy)\n",
    "print('ADF Statistic: %f' % dftest[0])\n",
    "print('p-value: %f' % dftest[1])\n",
    "print('Critical values :')\n",
    "for k, v in dftest[4].items():\n",
    "    print('\\t', k, v)"
   ]
  },
  {
   "cell_type": "code",
   "execution_count": 50,
   "id": "14d4c2f2",
   "metadata": {},
   "outputs": [
    {
     "name": "stdout",
     "output_type": "stream",
     "text": [
      "ADF Statistic: -8.739011\n",
      "p-value: 0.000000\n",
      "Critical values :\n",
      "\t 1% -3.4524113009049935\n",
      "\t 5% -2.8712554127251764\n",
      "\t 10% -2.571946570731871\n"
     ]
    }
   ],
   "source": [
    "# ADF検定（原系列）\n",
    "dftest = adfuller(sepx1)\n",
    "print('ADF Statistic: %f' % dftest[0])\n",
    "print('p-value: %f' % dftest[1])\n",
    "print('Critical values :')\n",
    "for k, v in dftest[4].items():\n",
    "    print('\\t', k, v)"
   ]
  },
  {
   "cell_type": "code",
   "execution_count": 51,
   "id": "1223327c",
   "metadata": {},
   "outputs": [
    {
     "name": "stdout",
     "output_type": "stream",
     "text": [
      "ADF Statistic: -5.595922\n",
      "p-value: 0.000001\n",
      "Critical values :\n",
      "\t 1% -3.453670163592738\n",
      "\t 5% -2.8718077069772248\n",
      "\t 10% -2.5722411158835796\n"
     ]
    }
   ],
   "source": [
    "# ADF検定（原系列）\n",
    "dftest = adfuller(sepx2)\n",
    "print('ADF Statistic: %f' % dftest[0])\n",
    "print('p-value: %f' % dftest[1])\n",
    "print('Critical values :')\n",
    "for k, v in dftest[4].items():\n",
    "    print('\\t', k, v)"
   ]
  },
  {
   "cell_type": "code",
   "execution_count": 52,
   "id": "d1a639e0",
   "metadata": {},
   "outputs": [
    {
     "name": "stdout",
     "output_type": "stream",
     "text": [
      "ADF Statistic: -4.799116\n",
      "p-value: 0.000055\n",
      "Critical values :\n",
      "\t 1% -3.4535872903895797\n",
      "\t 5% -2.871771355211212\n",
      "\t 10% -2.5722217283277127\n"
     ]
    }
   ],
   "source": [
    "# ADF検定（原系列）\n",
    "dftest = adfuller(sepy)\n",
    "print('ADF Statistic: %f' % dftest[0])\n",
    "print('p-value: %f' % dftest[1])\n",
    "print('Critical values :')\n",
    "for k, v in dftest[4].items():\n",
    "    print('\\t', k, v)"
   ]
  },
  {
   "cell_type": "code",
   "execution_count": 53,
   "id": "c7bd41a4",
   "metadata": {},
   "outputs": [
    {
     "name": "stdout",
     "output_type": "stream",
     "text": [
      "ADF Statistic: -5.720047\n",
      "p-value: 0.000001\n",
      "Critical values :\n",
      "\t 1% -3.452867117291862\n",
      "\t 5% -2.8714554160827745\n",
      "\t 10% -2.5720532321867466\n"
     ]
    }
   ],
   "source": [
    "# ADF検定（原系列）\n",
    "dftest = adfuller(octx1)\n",
    "print('ADF Statistic: %f' % dftest[0])\n",
    "print('p-value: %f' % dftest[1])\n",
    "print('Critical values :')\n",
    "for k, v in dftest[4].items():\n",
    "    print('\\t', k, v)"
   ]
  },
  {
   "cell_type": "code",
   "execution_count": 54,
   "id": "4bbfe968",
   "metadata": {},
   "outputs": [
    {
     "name": "stdout",
     "output_type": "stream",
     "text": [
      "ADF Statistic: -8.080318\n",
      "p-value: 0.000000\n",
      "Critical values :\n",
      "\t 1% -3.4521175397304784\n",
      "\t 5% -2.8711265007266666\n",
      "\t 10% -2.571877823851692\n"
     ]
    }
   ],
   "source": [
    "# ADF検定（原系列）\n",
    "dftest = adfuller(octx2)\n",
    "print('ADF Statistic: %f' % dftest[0])\n",
    "print('p-value: %f' % dftest[1])\n",
    "print('Critical values :')\n",
    "for k, v in dftest[4].items():\n",
    "    print('\\t', k, v)"
   ]
  },
  {
   "cell_type": "code",
   "execution_count": 55,
   "id": "0059f062",
   "metadata": {},
   "outputs": [
    {
     "name": "stdout",
     "output_type": "stream",
     "text": [
      "ADF Statistic: -4.832636\n",
      "p-value: 0.000047\n",
      "Critical values :\n",
      "\t 1% -3.4523371197407404\n",
      "\t 5% -2.871222860740741\n",
      "\t 10% -2.571929211111111\n"
     ]
    }
   ],
   "source": [
    "# ADF検定（原系列）\n",
    "dftest = adfuller(octy)\n",
    "print('ADF Statistic: %f' % dftest[0])\n",
    "print('p-value: %f' % dftest[1])\n",
    "print('Critical values :')\n",
    "for k, v in dftest[4].items():\n",
    "    print('\\t', k, v)"
   ]
  },
  {
   "cell_type": "code",
   "execution_count": 56,
   "id": "638bdba7",
   "metadata": {},
   "outputs": [
    {
     "name": "stdout",
     "output_type": "stream",
     "text": [
      "ADF Statistic: -6.018868\n",
      "p-value: 0.000000\n",
      "Critical values :\n",
      "\t 1% -3.453342167806272\n",
      "\t 5% -2.871663828287282\n",
      "\t 10% -2.572164381381345\n"
     ]
    }
   ],
   "source": [
    "# ADF検定（原系列）\n",
    "dftest = adfuller(novx1)\n",
    "print('ADF Statistic: %f' % dftest[0])\n",
    "print('p-value: %f' % dftest[1])\n",
    "print('Critical values :')\n",
    "for k, v in dftest[4].items():\n",
    "    print('\\t', k, v)"
   ]
  },
  {
   "cell_type": "code",
   "execution_count": 57,
   "id": "9a474c4c",
   "metadata": {},
   "outputs": [
    {
     "name": "stdout",
     "output_type": "stream",
     "text": [
      "ADF Statistic: -5.738140\n",
      "p-value: 0.000001\n",
      "Critical values :\n",
      "\t 1% -3.453670163592738\n",
      "\t 5% -2.8718077069772248\n",
      "\t 10% -2.5722411158835796\n"
     ]
    }
   ],
   "source": [
    "# ADF検定（原系列）\n",
    "dftest = adfuller(novx2)\n",
    "print('ADF Statistic: %f' % dftest[0])\n",
    "print('p-value: %f' % dftest[1])\n",
    "print('Critical values :')\n",
    "for k, v in dftest[4].items():\n",
    "    print('\\t', k, v)"
   ]
  },
  {
   "cell_type": "code",
   "execution_count": 58,
   "id": "e71e77a7",
   "metadata": {},
   "outputs": [
    {
     "name": "stdout",
     "output_type": "stream",
     "text": [
      "ADF Statistic: -1.639329\n",
      "p-value: 0.462611\n",
      "Critical values :\n",
      "\t 1% -3.4535872903895797\n",
      "\t 5% -2.871771355211212\n",
      "\t 10% -2.5722217283277127\n"
     ]
    }
   ],
   "source": [
    "# ADF検定（原系列）\n",
    "dftest = adfuller(novy)\n",
    "print('ADF Statistic: %f' % dftest[0])\n",
    "print('p-value: %f' % dftest[1])\n",
    "print('Critical values :')\n",
    "for k, v in dftest[4].items():\n",
    "    print('\\t', k, v)"
   ]
  },
  {
   "cell_type": "code",
   "execution_count": 59,
   "id": "ecf6c4e9",
   "metadata": {},
   "outputs": [
    {
     "name": "stdout",
     "output_type": "stream",
     "text": [
      "ADF Statistic: -7.699053\n",
      "p-value: 0.000000\n",
      "Critical values :\n",
      "\t 1% -3.45176116018037\n",
      "\t 5% -2.870970093607691\n",
      "\t 10% -2.571794416006072\n"
     ]
    }
   ],
   "source": [
    "# ADF検定（原系列）\n",
    "dftest = adfuller(decx1)\n",
    "print('ADF Statistic: %f' % dftest[0])\n",
    "print('p-value: %f' % dftest[1])\n",
    "print('Critical values :')\n",
    "for k, v in dftest[4].items():\n",
    "    print('\\t', k, v)"
   ]
  },
  {
   "cell_type": "code",
   "execution_count": 60,
   "id": "75dce81f",
   "metadata": {},
   "outputs": [
    {
     "name": "stdout",
     "output_type": "stream",
     "text": [
      "ADF Statistic: -6.393717\n",
      "p-value: 0.000000\n",
      "Critical values :\n",
      "\t 1% -3.452867117291862\n",
      "\t 5% -2.8714554160827745\n",
      "\t 10% -2.5720532321867466\n"
     ]
    }
   ],
   "source": [
    "# ADF検定（原系列）\n",
    "dftest = adfuller(decx2)\n",
    "print('ADF Statistic: %f' % dftest[0])\n",
    "print('p-value: %f' % dftest[1])\n",
    "print('Critical values :')\n",
    "for k, v in dftest[4].items():\n",
    "    print('\\t', k, v)"
   ]
  },
  {
   "cell_type": "code",
   "execution_count": 61,
   "id": "3b1146eb",
   "metadata": {},
   "outputs": [
    {
     "name": "stdout",
     "output_type": "stream",
     "text": [
      "ADF Statistic: -4.444987\n",
      "p-value: 0.000247\n",
      "Critical values :\n",
      "\t 1% -3.452867117291862\n",
      "\t 5% -2.8714554160827745\n",
      "\t 10% -2.5720532321867466\n"
     ]
    }
   ],
   "source": [
    "# ADF検定（原系列）\n",
    "dftest = adfuller(decy)\n",
    "print('ADF Statistic: %f' % dftest[0])\n",
    "print('p-value: %f' % dftest[1])\n",
    "print('Critical values :')\n",
    "for k, v in dftest[4].items():\n",
    "    print('\\t', k, v)"
   ]
  },
  {
   "cell_type": "code",
   "execution_count": 62,
   "id": "9dc1a2ee",
   "metadata": {},
   "outputs": [],
   "source": [
    "#ここまでで1～12月のx1,x2,yについて単位根の有無を調査した。2,3,5,6,11月については差分系列をとり予測を行う。"
   ]
  },
  {
   "cell_type": "code",
   "execution_count": 63,
   "id": "b2138eb1",
   "metadata": {},
   "outputs": [
    {
     "name": "stdout",
     "output_type": "stream",
     "text": [
      "                            OLS Regression Results                            \n",
      "==============================================================================\n",
      "Dep. Variable:                      y   R-squared:                       0.585\n",
      "Model:                            OLS   Adj. R-squared:                  0.583\n",
      "Method:                 Least Squares   F-statistic:                     216.6\n",
      "Date:                Thu, 25 Jan 2024   Prob (F-statistic):           2.14e-59\n",
      "Time:                        22:00:08   Log-Likelihood:                -805.48\n",
      "No. Observations:                 310   AIC:                             1617.\n",
      "Df Residuals:                     307   BIC:                             1628.\n",
      "Df Model:                           2                                         \n",
      "Covariance Type:            nonrobust                                         \n",
      "==============================================================================\n",
      "                 coef    std err          t      P>|t|      [0.025      0.975]\n",
      "------------------------------------------------------------------------------\n",
      "const          9.9941      0.237     42.129      0.000       9.527      10.461\n",
      "x1             0.4543      0.069      6.565      0.000       0.318       0.590\n",
      "x2             7.6511      0.382     20.052      0.000       6.900       8.402\n",
      "==============================================================================\n",
      "Omnibus:                       44.402   Durbin-Watson:                   0.884\n",
      "Prob(Omnibus):                  0.000   Jarque-Bera (JB):               63.939\n",
      "Skew:                           0.913   Prob(JB):                     1.31e-14\n",
      "Kurtosis:                       4.270   Cond. No.                         6.02\n",
      "==============================================================================\n",
      "\n",
      "Notes:\n",
      "[1] Standard Errors assume that the covariance matrix of the errors is correctly specified.\n"
     ]
    }
   ],
   "source": [
    "# 目的変数(Y)\n",
    "Y = np.array(jandf['sales'])\n",
    " \n",
    "# 説明変数(X)\n",
    "col_name = ['temperature', 'holiday']\n",
    "# 全要素が1.0の列を説明変数の先頭に追加(おまじない)\n",
    "X = sm.add_constant(jandf[col_name])\n",
    "X = np.array(X)\n",
    "\n",
    "# モデルの設定(OLS:最小二乗法を指定)\n",
    "model = sm.OLS(Y, X)\n",
    " \n",
    "# 回帰分析の実行\n",
    "results = model.fit()\n",
    " \n",
    "# 結果の詳細を表示\n",
    "print(results.summary())"
   ]
  },
  {
   "cell_type": "code",
   "execution_count": 64,
   "id": "c463eef6",
   "metadata": {},
   "outputs": [],
   "source": [
    "#ダービンワトソン比より自己相関があるので、GLSを適用"
   ]
  },
  {
   "cell_type": "code",
   "execution_count": 65,
   "id": "3f7b1d9b",
   "metadata": {},
   "outputs": [
    {
     "name": "stdout",
     "output_type": "stream",
     "text": [
      "                            GLS Regression Results                            \n",
      "==============================================================================\n",
      "Dep. Variable:                  sales   R-squared:                       0.574\n",
      "Model:                            GLS   Adj. R-squared:                  0.571\n",
      "Method:                 Least Squares   F-statistic:                     206.6\n",
      "Date:                Thu, 25 Jan 2024   Prob (F-statistic):           1.46e-57\n",
      "Time:                        22:00:08   Log-Likelihood:                -740.33\n",
      "No. Observations:                 310   AIC:                             1487.\n",
      "Df Residuals:                     307   BIC:                             1498.\n",
      "Df Model:                           2                                         \n",
      "Covariance Type:            nonrobust                                         \n",
      "===============================================================================\n",
      "                  coef    std err          t      P>|t|      [0.025      0.975]\n",
      "-------------------------------------------------------------------------------\n",
      "Intercept      10.4263      0.363     28.747      0.000       9.713      11.140\n",
      "temperature     0.3017      0.059      5.075      0.000       0.185       0.419\n",
      "holiday         6.5893      0.331     19.915      0.000       5.938       7.240\n",
      "==============================================================================\n",
      "Omnibus:                       16.510   Durbin-Watson:                   2.103\n",
      "Prob(Omnibus):                  0.000   Jarque-Bera (JB):               25.907\n",
      "Skew:                           0.358   Prob(JB):                     2.37e-06\n",
      "Kurtosis:                       4.222   Cond. No.                         6.83\n",
      "==============================================================================\n",
      "\n",
      "Notes:\n",
      "[1] Standard Errors assume that the covariance matrix of the errors is correctly specified.\n"
     ]
    }
   ],
   "source": [
    "### 一般化最小二乗法GLSによる回帰分析\n",
    "# 残差の分散共分散行列の指定方法がテキストと異なるため、結果が合致していない可能性が高い\n",
    "\n",
    "## パラメータsigma（分散共分散行列）の取得\n",
    "# ar1_smのOLS残差の１階階差系列をさらにOLS、最小二乗基準を最小化する線形係数ρを取得\n",
    "ols_resid = smf.ols(formula='sales ~ temperature+holiday ', data=jandf).fit().resid\n",
    "res_fit = sm.OLS(ols_resid[1:].values, ols_resid[:-1].values).fit()\n",
    "rho = res_fit.params\n",
    "# 分散共分散行列に変換\n",
    "order = toeplitz(np.arange(len(jandf)))  # scipy.linalgのtoeplitz\n",
    "sigma = rho**order\n",
    "\n",
    "## 一般化最小二乗法による回帰分析の実行\n",
    "result_gls = smf.gls(formula='sales ~ temperature+holiday ', data=jandf, sigma=sigma).fit()\n",
    "# 回帰分析の結果表示\n",
    "print(result_gls.summary())"
   ]
  },
  {
   "cell_type": "code",
   "execution_count": 66,
   "id": "d877a4bb",
   "metadata": {},
   "outputs": [],
   "source": [
    "janw1=0.3017\n",
    "janw2=6.5893\n",
    "janw0=10.4263"
   ]
  },
  {
   "cell_type": "code",
   "execution_count": 67,
   "id": "0955610c",
   "metadata": {},
   "outputs": [],
   "source": [
    "#2月は単位根があるので、差分系列をとって回帰を行う。"
   ]
  },
  {
   "cell_type": "code",
   "execution_count": 68,
   "id": "e923ceee",
   "metadata": {},
   "outputs": [],
   "source": [
    "pdfebx1=pd.DataFrame(febx1)\n",
    "pdfebx2=pd.DataFrame(febx2)\n",
    "pdfeby=pd.DataFrame(feby)"
   ]
  },
  {
   "cell_type": "code",
   "execution_count": 69,
   "id": "2493550a",
   "metadata": {},
   "outputs": [],
   "source": [
    "febx1diff=pdfebx1.diff(1)\n",
    "febx2diff=pdfebx2.diff(1)\n",
    "febydiff=pdfeby.diff(1)"
   ]
  },
  {
   "cell_type": "code",
   "execution_count": 70,
   "id": "7ee5e7c1",
   "metadata": {},
   "outputs": [],
   "source": [
    "febx1difff=febx1diff.drop(febx1diff.index[0])\n",
    "febx2difff=febx2diff.drop(febx2diff.index[0])\n",
    "febydifff=febydiff.drop(febydiff.index[0])"
   ]
  },
  {
   "cell_type": "code",
   "execution_count": 71,
   "id": "efd5ec93",
   "metadata": {},
   "outputs": [],
   "source": [
    "febx1diff2np=febx1difff.to_numpy()\n",
    "febx2diff2np=febx2difff.to_numpy()\n",
    "febydiff2np=febydifff.to_numpy()"
   ]
  },
  {
   "cell_type": "code",
   "execution_count": 72,
   "id": "3b81704e",
   "metadata": {},
   "outputs": [],
   "source": [
    "febx1diff1np=list(itertools.chain.from_iterable(febx1diff2np))\n",
    "febx2diff1np=list(itertools.chain.from_iterable(febx2diff2np))\n",
    "febydiff1np=list(itertools.chain.from_iterable(febydiff2np))"
   ]
  },
  {
   "cell_type": "code",
   "execution_count": 73,
   "id": "40b2a758",
   "metadata": {},
   "outputs": [],
   "source": [
    "col1 = febydiff1np\n",
    "col2 = febx1diff1np\n",
    "col3 = febx2diff1np\n",
    "febdiffdf = pd.DataFrame({'sales':col1,'temperature':col2, 'holiday':col3})"
   ]
  },
  {
   "cell_type": "code",
   "execution_count": 74,
   "id": "26ee3799",
   "metadata": {},
   "outputs": [
    {
     "name": "stdout",
     "output_type": "stream",
     "text": [
      "ADF Statistic: -8.534949\n",
      "p-value: 0.000000\n",
      "Critical values :\n",
      "\t 1% -3.455175292841607\n",
      "\t 5% -2.8724677563219485\n",
      "\t 10% -2.57259315846006\n"
     ]
    }
   ],
   "source": [
    "# ADF検定（原系列）\n",
    "dftest = adfuller(febydiff1np)\n",
    "print('ADF Statistic: %f' % dftest[0])\n",
    "print('p-value: %f' % dftest[1])\n",
    "print('Critical values :')\n",
    "for k, v in dftest[4].items():\n",
    "    print('\\t', k, v)"
   ]
  },
  {
   "cell_type": "code",
   "execution_count": 75,
   "id": "42478470",
   "metadata": {},
   "outputs": [
    {
     "name": "stdout",
     "output_type": "stream",
     "text": [
      "ADF Statistic: -9.261826\n",
      "p-value: 0.000000\n",
      "Critical values :\n",
      "\t 1% -3.4547128138328875\n",
      "\t 5% -2.8722649771800155\n",
      "\t 10% -2.5724850011573914\n"
     ]
    }
   ],
   "source": [
    "# ADF検定（原系列）\n",
    "dftest = adfuller(febx1diff1np)\n",
    "print('ADF Statistic: %f' % dftest[0])\n",
    "print('p-value: %f' % dftest[1])\n",
    "print('Critical values :')\n",
    "for k, v in dftest[4].items():\n",
    "    print('\\t', k, v)"
   ]
  },
  {
   "cell_type": "code",
   "execution_count": 76,
   "id": "93f56f26",
   "metadata": {},
   "outputs": [
    {
     "name": "stdout",
     "output_type": "stream",
     "text": [
      "ADF Statistic: -9.219806\n",
      "p-value: 0.000000\n",
      "Critical values :\n",
      "\t 1% -3.455175292841607\n",
      "\t 5% -2.8724677563219485\n",
      "\t 10% -2.57259315846006\n"
     ]
    }
   ],
   "source": [
    "# ADF検定（原系列）\n",
    "dftest = adfuller(febx2diff1np)\n",
    "print('ADF Statistic: %f' % dftest[0])\n",
    "print('p-value: %f' % dftest[1])\n",
    "print('Critical values :')\n",
    "for k, v in dftest[4].items():\n",
    "    print('\\t', k, v)"
   ]
  },
  {
   "cell_type": "code",
   "execution_count": 77,
   "id": "679cf0b8",
   "metadata": {},
   "outputs": [
    {
     "name": "stdout",
     "output_type": "stream",
     "text": [
      "                            OLS Regression Results                            \n",
      "==============================================================================\n",
      "Dep. Variable:                      y   R-squared:                       0.668\n",
      "Model:                            OLS   Adj. R-squared:                  0.666\n",
      "Method:                 Least Squares   F-statistic:                     278.1\n",
      "Date:                Thu, 25 Jan 2024   Prob (F-statistic):           7.24e-67\n",
      "Time:                        22:00:09   Log-Likelihood:                -644.58\n",
      "No. Observations:                 279   AIC:                             1295.\n",
      "Df Residuals:                     276   BIC:                             1306.\n",
      "Df Model:                           2                                         \n",
      "Covariance Type:            nonrobust                                         \n",
      "==============================================================================\n",
      "                 coef    std err          t      P>|t|      [0.025      0.975]\n",
      "------------------------------------------------------------------------------\n",
      "const          0.0192      0.147      0.131      0.896      -0.270       0.308\n",
      "x1             0.1050      0.038      2.748      0.006       0.030       0.180\n",
      "x2             6.0057      0.255     23.560      0.000       5.504       6.507\n",
      "==============================================================================\n",
      "Omnibus:                        1.570   Durbin-Watson:                   3.085\n",
      "Prob(Omnibus):                  0.456   Jarque-Bera (JB):                1.298\n",
      "Skew:                          -0.084   Prob(JB):                        0.523\n",
      "Kurtosis:                       3.289   Cond. No.                         6.69\n",
      "==============================================================================\n",
      "\n",
      "Notes:\n",
      "[1] Standard Errors assume that the covariance matrix of the errors is correctly specified.\n"
     ]
    }
   ],
   "source": [
    "\n",
    "# 目的変数(Y)\n",
    "Y = np.array(febdiffdf['sales'])\n",
    " \n",
    "# 説明変数(X)\n",
    "col_name = ['temperature', 'holiday']\n",
    "# 全要素が1.0の列を説明変数の先頭に追加(おまじない)\n",
    "X = sm.add_constant(febdiffdf[col_name])\n",
    "X = np.array(X)\n",
    "\n",
    "# モデルの設定(OLS:最小二乗法を指定)\n",
    "model = sm.OLS(Y, X)\n",
    " \n",
    "# 回帰分析の実行\n",
    "results = model.fit()\n",
    " \n",
    "# 結果の詳細を表示\n",
    "print(results.summary())"
   ]
  },
  {
   "cell_type": "code",
   "execution_count": 78,
   "id": "a85213bd",
   "metadata": {},
   "outputs": [
    {
     "name": "stdout",
     "output_type": "stream",
     "text": [
      "                            GLS Regression Results                            \n",
      "==============================================================================\n",
      "Dep. Variable:                  sales   R-squared:                       0.779\n",
      "Model:                            GLS   Adj. R-squared:                  0.777\n",
      "Method:                 Least Squares   F-statistic:                     486.0\n",
      "Date:                Thu, 25 Jan 2024   Prob (F-statistic):           3.66e-91\n",
      "Time:                        22:00:09   Log-Likelihood:                -595.79\n",
      "No. Observations:                 279   AIC:                             1198.\n",
      "Df Residuals:                     276   BIC:                             1208.\n",
      "Df Model:                           2                                         \n",
      "Covariance Type:            nonrobust                                         \n",
      "===============================================================================\n",
      "                  coef    std err          t      P>|t|      [0.025      0.975]\n",
      "-------------------------------------------------------------------------------\n",
      "Intercept       0.0194      0.080      0.243      0.808      -0.138       0.177\n",
      "temperature     0.1014      0.034      2.979      0.003       0.034       0.168\n",
      "holiday         6.1469      0.198     31.073      0.000       5.757       6.536\n",
      "==============================================================================\n",
      "Omnibus:                        3.975   Durbin-Watson:                   2.297\n",
      "Prob(Omnibus):                  0.137   Jarque-Bera (JB):                4.072\n",
      "Skew:                           0.167   Prob(JB):                        0.131\n",
      "Kurtosis:                       3.488   Cond. No.                         5.81\n",
      "==============================================================================\n",
      "\n",
      "Notes:\n",
      "[1] Standard Errors assume that the covariance matrix of the errors is correctly specified.\n"
     ]
    }
   ],
   "source": [
    "### 一般化最小二乗法GLSによる回帰分析\n",
    "# 残差の分散共分散行列の指定方法がテキストと異なるため、結果が合致していない可能性が高い\n",
    "\n",
    "## パラメータsigma（分散共分散行列）の取得\n",
    "# ar1_smのOLS残差の１階階差系列をさらにOLS、最小二乗基準を最小化する線形係数ρを取得\n",
    "ols_resid = smf.ols(formula='sales ~ temperature+holiday ', data=febdiffdf).fit().resid\n",
    "res_fit = sm.OLS(ols_resid[1:].values, ols_resid[:-1].values).fit()\n",
    "rho = res_fit.params\n",
    "# 分散共分散行列に変換\n",
    "order = toeplitz(np.arange(len(febdiffdf)))  # scipy.linalgのtoeplitz\n",
    "sigma = rho**order\n",
    "\n",
    "## 一般化最小二乗法による回帰分析の実行\n",
    "result_gls = smf.gls(formula='sales ~ temperature+holiday ', data=febdiffdf, sigma=sigma).fit()\n",
    "# 回帰分析の結果表示\n",
    "print(result_gls.summary())"
   ]
  },
  {
   "cell_type": "code",
   "execution_count": 79,
   "id": "6171ad2b",
   "metadata": {},
   "outputs": [],
   "source": [
    "febw1=0.1014\n",
    "febw2=6.1469\n",
    "febw0=0.0194"
   ]
  },
  {
   "cell_type": "code",
   "execution_count": 80,
   "id": "af215c41",
   "metadata": {},
   "outputs": [],
   "source": [
    "pdmarx1=pd.DataFrame(marx1)\n",
    "pdmarx2=pd.DataFrame(marx2)\n",
    "pdmary=pd.DataFrame(mary)\n",
    "\n",
    "marx1diff=pdmarx1.diff(1)\n",
    "marx2diff=pdmarx2.diff(1)\n",
    "marydiff=pdmary.diff(1)\n",
    "\n",
    "marx1difff=marx1diff.drop(marx1diff.index[0])\n",
    "marx2difff=marx2diff.drop(marx2diff.index[0])\n",
    "marydifff=marydiff.drop(marydiff.index[0])\n",
    "\n",
    "marx1diff2np=marx1difff.to_numpy()\n",
    "marx2diff2np=marx2difff.to_numpy()\n",
    "marydiff2np=marydifff.to_numpy()\n",
    "\n",
    "marx1diff1np=list(itertools.chain.from_iterable(marx1diff2np))\n",
    "marx2diff1np=list(itertools.chain.from_iterable(marx2diff2np))\n",
    "marydiff1np=list(itertools.chain.from_iterable(marydiff2np))\n",
    "\n",
    "col1 = marydiff1np\n",
    "col2 = marx1diff1np\n",
    "col3 = marx2diff1np\n",
    "mardiffdf = pd.DataFrame({'sales':col1,'temperature':col2, 'holiday':col3})\n"
   ]
  },
  {
   "cell_type": "code",
   "execution_count": 81,
   "id": "f2956c51",
   "metadata": {},
   "outputs": [
    {
     "name": "stdout",
     "output_type": "stream",
     "text": [
      "ADF Statistic: -4.309309\n",
      "p-value: 0.000428\n",
      "Critical values :\n",
      "\t 1% -3.4529449243622383\n",
      "\t 5% -2.871489553425686\n",
      "\t 10% -2.572071437887033\n"
     ]
    }
   ],
   "source": [
    "# ADF検定（原系列）\n",
    "dftest = adfuller(marydiff1np)\n",
    "print('ADF Statistic: %f' % dftest[0])\n",
    "print('p-value: %f' % dftest[1])\n",
    "print('Critical values :')\n",
    "for k, v in dftest[4].items():\n",
    "    print('\\t', k, v)"
   ]
  },
  {
   "cell_type": "code",
   "execution_count": 82,
   "id": "81153722",
   "metadata": {},
   "outputs": [
    {
     "name": "stdout",
     "output_type": "stream",
     "text": [
      "ADF Statistic: -8.182708\n",
      "p-value: 0.000000\n",
      "Critical values :\n",
      "\t 1% -3.4524859843440754\n",
      "\t 5% -2.871288184343229\n",
      "\t 10% -2.571964047565425\n"
     ]
    }
   ],
   "source": [
    "# ADF検定（原系列）\n",
    "dftest = adfuller(marx1diff1np)\n",
    "print('ADF Statistic: %f' % dftest[0])\n",
    "print('p-value: %f' % dftest[1])\n",
    "print('Critical values :')\n",
    "for k, v in dftest[4].items():\n",
    "    print('\\t', k, v)"
   ]
  },
  {
   "cell_type": "code",
   "execution_count": 83,
   "id": "dcafc27e",
   "metadata": {},
   "outputs": [
    {
     "name": "stdout",
     "output_type": "stream",
     "text": [
      "ADF Statistic: -9.545621\n",
      "p-value: 0.000000\n",
      "Critical values :\n",
      "\t 1% -3.452789844280995\n",
      "\t 5% -2.871421512222641\n",
      "\t 10% -2.5720351510944512\n"
     ]
    }
   ],
   "source": [
    "# ADF検定（原系列）\n",
    "dftest = adfuller(marx2diff1np)\n",
    "print('ADF Statistic: %f' % dftest[0])\n",
    "print('p-value: %f' % dftest[1])\n",
    "print('Critical values :')\n",
    "for k, v in dftest[4].items():\n",
    "    print('\\t', k, v)"
   ]
  },
  {
   "cell_type": "code",
   "execution_count": 84,
   "id": "42742292",
   "metadata": {},
   "outputs": [
    {
     "name": "stdout",
     "output_type": "stream",
     "text": [
      "                            OLS Regression Results                            \n",
      "==============================================================================\n",
      "Dep. Variable:                      y   R-squared:                       0.682\n",
      "Model:                            OLS   Adj. R-squared:                  0.680\n",
      "Method:                 Least Squares   F-statistic:                     328.4\n",
      "Date:                Thu, 25 Jan 2024   Prob (F-statistic):           6.93e-77\n",
      "Time:                        22:00:09   Log-Likelihood:                -758.53\n",
      "No. Observations:                 309   AIC:                             1523.\n",
      "Df Residuals:                     306   BIC:                             1534.\n",
      "Df Model:                           2                                         \n",
      "Covariance Type:            nonrobust                                         \n",
      "==============================================================================\n",
      "                 coef    std err          t      P>|t|      [0.025      0.975]\n",
      "------------------------------------------------------------------------------\n",
      "const          0.0324      0.161      0.201      0.841      -0.285       0.349\n",
      "x1             0.2916      0.042      6.940      0.000       0.209       0.374\n",
      "x2             7.2941      0.292     24.953      0.000       6.719       7.869\n",
      "==============================================================================\n",
      "Omnibus:                        5.793   Durbin-Watson:                   2.840\n",
      "Prob(Omnibus):                  0.055   Jarque-Bera (JB):                6.306\n",
      "Skew:                          -0.213   Prob(JB):                       0.0427\n",
      "Kurtosis:                       3.555   Cond. No.                         6.96\n",
      "==============================================================================\n",
      "\n",
      "Notes:\n",
      "[1] Standard Errors assume that the covariance matrix of the errors is correctly specified.\n"
     ]
    }
   ],
   "source": [
    "\n",
    "# 目的変数(Y)\n",
    "Y = np.array(mardiffdf['sales'])\n",
    " \n",
    "# 説明変数(X)\n",
    "col_name = ['temperature', 'holiday']\n",
    "# 全要素が1.0の列を説明変数の先頭に追加(おまじない)\n",
    "X = sm.add_constant(mardiffdf[col_name])\n",
    "X = np.array(X)\n",
    "\n",
    "# モデルの設定(OLS:最小二乗法を指定)\n",
    "model = sm.OLS(Y, X)\n",
    " \n",
    "# 回帰分析の実行\n",
    "results = model.fit()\n",
    " \n",
    "# 結果の詳細を表示\n",
    "print(results.summary())"
   ]
  },
  {
   "cell_type": "code",
   "execution_count": 85,
   "id": "8fc1cb7f",
   "metadata": {},
   "outputs": [
    {
     "name": "stdout",
     "output_type": "stream",
     "text": [
      "                            GLS Regression Results                            \n",
      "==============================================================================\n",
      "Dep. Variable:                  sales   R-squared:                       0.756\n",
      "Model:                            GLS   Adj. R-squared:                  0.755\n",
      "Method:                 Least Squares   F-statistic:                     474.7\n",
      "Date:                Thu, 25 Jan 2024   Prob (F-statistic):           1.60e-94\n",
      "Time:                        22:00:09   Log-Likelihood:                -726.19\n",
      "No. Observations:                 309   AIC:                             1458.\n",
      "Df Residuals:                     306   BIC:                             1470.\n",
      "Df Model:                           2                                         \n",
      "Covariance Type:            nonrobust                                         \n",
      "===============================================================================\n",
      "                  coef    std err          t      P>|t|      [0.025      0.975]\n",
      "-------------------------------------------------------------------------------\n",
      "Intercept       0.0336      0.101      0.331      0.741      -0.166       0.233\n",
      "temperature     0.2774      0.038      7.384      0.000       0.203       0.351\n",
      "holiday         7.5148      0.250     30.089      0.000       7.023       8.006\n",
      "==============================================================================\n",
      "Omnibus:                        5.662   Durbin-Watson:                   2.281\n",
      "Prob(Omnibus):                  0.059   Jarque-Bera (JB):                6.075\n",
      "Skew:                          -0.215   Prob(JB):                       0.0479\n",
      "Kurtosis:                       3.536   Cond. No.                         6.65\n",
      "==============================================================================\n",
      "\n",
      "Notes:\n",
      "[1] Standard Errors assume that the covariance matrix of the errors is correctly specified.\n"
     ]
    }
   ],
   "source": [
    "### 一般化最小二乗法GLSによる回帰分析\n",
    "# 残差の分散共分散行列の指定方法がテキストと異なるため、結果が合致していない可能性が高い\n",
    "\n",
    "## パラメータsigma（分散共分散行列）の取得\n",
    "# ar1_smのOLS残差の１階階差系列をさらにOLS、最小二乗基準を最小化する線形係数ρを取得\n",
    "ols_resid = smf.ols(formula='sales ~ temperature+holiday ', data=mardiffdf).fit().resid\n",
    "res_fit = sm.OLS(ols_resid[1:].values, ols_resid[:-1].values).fit()\n",
    "rho = res_fit.params\n",
    "# 分散共分散行列に変換\n",
    "order = toeplitz(np.arange(len(mardiffdf)))  # scipy.linalgのtoeplitz\n",
    "sigma = rho**order\n",
    "\n",
    "## 一般化最小二乗法による回帰分析の実行\n",
    "result_gls = smf.gls(formula='sales ~ temperature+holiday ', data=mardiffdf, sigma=sigma).fit()\n",
    "# 回帰分析の結果表示\n",
    "print(result_gls.summary())"
   ]
  },
  {
   "cell_type": "code",
   "execution_count": 86,
   "id": "164b7993",
   "metadata": {},
   "outputs": [],
   "source": [
    "marw1=0.2774\n",
    "marw2=7.5148\n",
    "marw0=0.0336"
   ]
  },
  {
   "cell_type": "code",
   "execution_count": 87,
   "id": "b3de4fd7",
   "metadata": {},
   "outputs": [
    {
     "name": "stdout",
     "output_type": "stream",
     "text": [
      "                            OLS Regression Results                            \n",
      "==============================================================================\n",
      "Dep. Variable:                      y   R-squared:                       0.687\n",
      "Model:                            OLS   Adj. R-squared:                  0.685\n",
      "Method:                 Least Squares   F-statistic:                     326.1\n",
      "Date:                Thu, 25 Jan 2024   Prob (F-statistic):           1.18e-75\n",
      "Time:                        22:00:09   Log-Likelihood:                -837.18\n",
      "No. Observations:                 300   AIC:                             1680.\n",
      "Df Residuals:                     297   BIC:                             1691.\n",
      "Df Model:                           2                                         \n",
      "Covariance Type:            nonrobust                                         \n",
      "==============================================================================\n",
      "                 coef    std err          t      P>|t|      [0.025      0.975]\n",
      "------------------------------------------------------------------------------\n",
      "const         15.5401      0.277     56.119      0.000      14.995      16.085\n",
      "x1             0.7656      0.058     13.207      0.000       0.651       0.880\n",
      "x2            10.9733      0.492     22.303      0.000      10.005      11.942\n",
      "==============================================================================\n",
      "Omnibus:                       18.405   Durbin-Watson:                   1.155\n",
      "Prob(Omnibus):                  0.000   Jarque-Bera (JB):               21.545\n",
      "Skew:                           0.529   Prob(JB):                     2.10e-05\n",
      "Kurtosis:                       3.779   Cond. No.                         9.03\n",
      "==============================================================================\n",
      "\n",
      "Notes:\n",
      "[1] Standard Errors assume that the covariance matrix of the errors is correctly specified.\n"
     ]
    }
   ],
   "source": [
    "# 目的変数(Y)\n",
    "Y = np.array(aprdf['sales'])\n",
    " \n",
    "# 説明変数(X)\n",
    "col_name = ['temperature', 'holiday']\n",
    "# 全要素が1.0の列を説明変数の先頭に追加(おまじない)\n",
    "X = sm.add_constant(aprdf[col_name])\n",
    "X = np.array(X)\n",
    "\n",
    "# モデルの設定(OLS:最小二乗法を指定)\n",
    "model = sm.OLS(Y, X)\n",
    " \n",
    "# 回帰分析の実行\n",
    "results = model.fit()\n",
    " \n",
    "# 結果の詳細を表示\n",
    "print(results.summary())\n"
   ]
  },
  {
   "cell_type": "code",
   "execution_count": 88,
   "id": "88e04d9c",
   "metadata": {},
   "outputs": [
    {
     "name": "stdout",
     "output_type": "stream",
     "text": [
      "                            GLS Regression Results                            \n",
      "==============================================================================\n",
      "Dep. Variable:                  sales   R-squared:                       0.674\n",
      "Model:                            GLS   Adj. R-squared:                  0.672\n",
      "Method:                 Least Squares   F-statistic:                     307.7\n",
      "Date:                Thu, 25 Jan 2024   Prob (F-statistic):           4.19e-73\n",
      "Time:                        22:00:09   Log-Likelihood:                -802.02\n",
      "No. Observations:                 300   AIC:                             1610.\n",
      "Df Residuals:                     297   BIC:                             1621.\n",
      "Df Model:                           2                                         \n",
      "Covariance Type:            nonrobust                                         \n",
      "===============================================================================\n",
      "                  coef    std err          t      P>|t|      [0.025      0.975]\n",
      "-------------------------------------------------------------------------------\n",
      "Intercept      15.6245      0.379     41.251      0.000      14.879      16.370\n",
      "temperature     0.5595      0.059      9.453      0.000       0.443       0.676\n",
      "holiday        10.5982      0.454     23.324      0.000       9.704      11.492\n",
      "==============================================================================\n",
      "Omnibus:                       30.495   Durbin-Watson:                   2.013\n",
      "Prob(Omnibus):                  0.000   Jarque-Bera (JB):               51.700\n",
      "Skew:                           0.608   Prob(JB):                     5.94e-12\n",
      "Kurtosis:                       4.631   Cond. No.                         8.42\n",
      "==============================================================================\n",
      "\n",
      "Notes:\n",
      "[1] Standard Errors assume that the covariance matrix of the errors is correctly specified.\n"
     ]
    }
   ],
   "source": [
    "### 一般化最小二乗法GLSによる回帰分析\n",
    "# 残差の分散共分散行列の指定方法がテキストと異なるため、結果が合致していない可能性が高い\n",
    "\n",
    "## パラメータsigma（分散共分散行列）の取得\n",
    "# ar1_smのOLS残差の１階階差系列をさらにOLS、最小二乗基準を最小化する線形係数ρを取得\n",
    "ols_resid = smf.ols(formula='sales ~ temperature+holiday ', data=aprdf).fit().resid\n",
    "res_fit = sm.OLS(ols_resid[1:].values, ols_resid[:-1].values).fit()\n",
    "rho = res_fit.params\n",
    "# 分散共分散行列に変換\n",
    "order = toeplitz(np.arange(len(aprdf)))  # scipy.linalgのtoeplitz\n",
    "sigma = rho**order\n",
    "\n",
    "## 一般化最小二乗法による回帰分析の実行\n",
    "result_gls = smf.gls(formula='sales ~ temperature+holiday ', data=aprdf, sigma=sigma).fit()\n",
    "# 回帰分析の結果表示\n",
    "print(result_gls.summary())"
   ]
  },
  {
   "cell_type": "code",
   "execution_count": 89,
   "id": "9f488ee7",
   "metadata": {},
   "outputs": [],
   "source": [
    "aprw1=0.5595\n",
    "aprw2=10.5982\n",
    "aprw0=15.6245"
   ]
  },
  {
   "cell_type": "code",
   "execution_count": 90,
   "id": "5c43455d",
   "metadata": {},
   "outputs": [],
   "source": [
    "pdmayx1=pd.DataFrame(mayx1)\n",
    "pdmayx2=pd.DataFrame(mayx2)\n",
    "pdmayy=pd.DataFrame(mayy)\n",
    "\n",
    "mayx1diff=pdmayx1.diff(1)\n",
    "mayx2diff=pdmayx2.diff(1)\n",
    "mayydiff=pdmayy.diff(1)\n",
    "\n",
    "mayx1difff=mayx1diff.drop(mayx1diff.index[0])\n",
    "mayx2difff=mayx2diff.drop(mayx2diff.index[0])\n",
    "mayydifff=mayydiff.drop(mayydiff.index[0])\n",
    "\n",
    "mayx1diff2np=mayx1difff.to_numpy()\n",
    "mayx2diff2np=mayx2difff.to_numpy()\n",
    "mayydiff2np=mayydifff.to_numpy()\n",
    "\n",
    "mayx1diff1np=list(itertools.chain.from_iterable(mayx1diff2np))\n",
    "mayx2diff1np=list(itertools.chain.from_iterable(mayx2diff2np))\n",
    "mayydiff1np=list(itertools.chain.from_iterable(mayydiff2np))\n",
    "\n",
    "col1 = mayydiff1np\n",
    "col2 = mayx1diff1np\n",
    "col3 = mayx2diff1np\n",
    "maydiffdf = pd.DataFrame({'sales':col1,'temperature':col2, 'holiday':col3})\n"
   ]
  },
  {
   "cell_type": "code",
   "execution_count": 91,
   "id": "7736b072",
   "metadata": {},
   "outputs": [
    {
     "name": "stdout",
     "output_type": "stream",
     "text": [
      "ADF Statistic: -8.947605\n",
      "p-value: 0.000000\n",
      "Critical values :\n",
      "\t 1% -3.452789844280995\n",
      "\t 5% -2.871421512222641\n",
      "\t 10% -2.5720351510944512\n"
     ]
    }
   ],
   "source": [
    "# ADF検定（原系列）\n",
    "dftest = adfuller(mayydiff1np)\n",
    "print('ADF Statistic: %f' % dftest[0])\n",
    "print('p-value: %f' % dftest[1])\n",
    "print('Critical values :')\n",
    "for k, v in dftest[4].items():\n",
    "    print('\\t', k, v)"
   ]
  },
  {
   "cell_type": "code",
   "execution_count": 92,
   "id": "57c87824",
   "metadata": {},
   "outputs": [
    {
     "name": "stdout",
     "output_type": "stream",
     "text": [
      "ADF Statistic: -9.004259\n",
      "p-value: 0.000000\n",
      "Critical values :\n",
      "\t 1% -3.4525611751768914\n",
      "\t 5% -2.87132117782556\n",
      "\t 10% -2.5719816428028888\n"
     ]
    }
   ],
   "source": [
    "# ADF検定（原系列）\n",
    "dftest = adfuller(mayx1diff1np)\n",
    "print('ADF Statistic: %f' % dftest[0])\n",
    "print('p-value: %f' % dftest[1])\n",
    "print('Critical values :')\n",
    "for k, v in dftest[4].items():\n",
    "    print('\\t', k, v)"
   ]
  },
  {
   "cell_type": "code",
   "execution_count": 93,
   "id": "68753b32",
   "metadata": {},
   "outputs": [
    {
     "name": "stdout",
     "output_type": "stream",
     "text": [
      "ADF Statistic: -7.130859\n",
      "p-value: 0.000000\n",
      "Critical values :\n",
      "\t 1% -3.452867117291862\n",
      "\t 5% -2.8714554160827745\n",
      "\t 10% -2.5720532321867466\n"
     ]
    }
   ],
   "source": [
    "# ADF検定（原系列）\n",
    "dftest = adfuller(mayx2diff1np)\n",
    "print('ADF Statistic: %f' % dftest[0])\n",
    "print('p-value: %f' % dftest[1])\n",
    "print('Critical values :')\n",
    "for k, v in dftest[4].items():\n",
    "    print('\\t', k, v)"
   ]
  },
  {
   "cell_type": "code",
   "execution_count": 94,
   "id": "b2fcd175",
   "metadata": {},
   "outputs": [
    {
     "name": "stdout",
     "output_type": "stream",
     "text": [
      "                            OLS Regression Results                            \n",
      "==============================================================================\n",
      "Dep. Variable:                      y   R-squared:                       0.710\n",
      "Model:                            OLS   Adj. R-squared:                  0.708\n",
      "Method:                 Least Squares   F-statistic:                     374.3\n",
      "Date:                Thu, 25 Jan 2024   Prob (F-statistic):           6.05e-83\n",
      "Time:                        22:00:09   Log-Likelihood:                -928.51\n",
      "No. Observations:                 309   AIC:                             1863.\n",
      "Df Residuals:                     306   BIC:                             1874.\n",
      "Df Model:                           2                                         \n",
      "Covariance Type:            nonrobust                                         \n",
      "==============================================================================\n",
      "                 coef    std err          t      P>|t|      [0.025      0.975]\n",
      "------------------------------------------------------------------------------\n",
      "const         -0.0049      0.279     -0.017      0.986      -0.554       0.545\n",
      "x1             0.8003      0.082      9.708      0.000       0.638       0.962\n",
      "x2            12.8113      0.512     24.999      0.000      11.803      13.820\n",
      "==============================================================================\n",
      "Omnibus:                        2.357   Durbin-Watson:                   2.760\n",
      "Prob(Omnibus):                  0.308   Jarque-Bera (JB):                2.193\n",
      "Skew:                          -0.104   Prob(JB):                        0.334\n",
      "Kurtosis:                       3.357   Cond. No.                         6.23\n",
      "==============================================================================\n",
      "\n",
      "Notes:\n",
      "[1] Standard Errors assume that the covariance matrix of the errors is correctly specified.\n"
     ]
    }
   ],
   "source": [
    "# 目的変数(Y)\n",
    "Y = np.array(maydiffdf['sales'])\n",
    " \n",
    "# 説明変数(X)\n",
    "col_name = ['temperature', 'holiday']\n",
    "# 全要素が1.0の列を説明変数の先頭に追加(おまじない)\n",
    "X = sm.add_constant(maydiffdf[col_name])\n",
    "X = np.array(X)\n",
    "\n",
    "# モデルの設定(OLS:最小二乗法を指定)\n",
    "model = sm.OLS(Y, X)\n",
    " \n",
    "# 回帰分析の実行\n",
    "results = model.fit()\n",
    " \n",
    "# 結果の詳細を表示\n",
    "print(results.summary())"
   ]
  },
  {
   "cell_type": "code",
   "execution_count": 95,
   "id": "cbfb3672",
   "metadata": {},
   "outputs": [
    {
     "name": "stdout",
     "output_type": "stream",
     "text": [
      "                            GLS Regression Results                            \n",
      "==============================================================================\n",
      "Dep. Variable:                  sales   R-squared:                       0.764\n",
      "Model:                            GLS   Adj. R-squared:                  0.762\n",
      "Method:                 Least Squares   F-statistic:                     494.7\n",
      "Date:                Thu, 25 Jan 2024   Prob (F-statistic):           1.30e-96\n",
      "Time:                        22:00:09   Log-Likelihood:                -903.96\n",
      "No. Observations:                 309   AIC:                             1814.\n",
      "Df Residuals:                     306   BIC:                             1825.\n",
      "Df Model:                           2                                         \n",
      "Covariance Type:            nonrobust                                         \n",
      "===============================================================================\n",
      "                  coef    std err          t      P>|t|      [0.025      0.975]\n",
      "-------------------------------------------------------------------------------\n",
      "Intercept      -0.0042      0.187     -0.023      0.982      -0.372       0.364\n",
      "temperature     0.7886      0.079      9.998      0.000       0.633       0.944\n",
      "holiday        13.2598      0.456     29.052      0.000      12.362      14.158\n",
      "==============================================================================\n",
      "Omnibus:                        6.009   Durbin-Watson:                   2.145\n",
      "Prob(Omnibus):                  0.050   Jarque-Bera (JB):                6.096\n",
      "Skew:                          -0.256   Prob(JB):                       0.0475\n",
      "Kurtosis:                       3.460   Cond. No.                         5.80\n",
      "==============================================================================\n",
      "\n",
      "Notes:\n",
      "[1] Standard Errors assume that the covariance matrix of the errors is correctly specified.\n"
     ]
    }
   ],
   "source": [
    "### 一般化最小二乗法GLSによる回帰分析\n",
    "# 残差の分散共分散行列の指定方法がテキストと異なるため、結果が合致していない可能性が高い\n",
    "\n",
    "## パラメータsigma（分散共分散行列）の取得\n",
    "# ar1_smのOLS残差の１階階差系列をさらにOLS、最小二乗基準を最小化する線形係数ρを取得\n",
    "ols_resid = smf.ols(formula='sales ~ temperature+holiday ', data=maydiffdf).fit().resid\n",
    "res_fit = sm.OLS(ols_resid[1:].values, ols_resid[:-1].values).fit()\n",
    "rho = res_fit.params\n",
    "# 分散共分散行列に変換\n",
    "order = toeplitz(np.arange(len(maydiffdf)))  # scipy.linalgのtoeplitz\n",
    "sigma = rho**order\n",
    "\n",
    "## 一般化最小二乗法による回帰分析の実行\n",
    "result_gls = smf.gls(formula='sales ~ temperature+holiday ', data=maydiffdf, sigma=sigma).fit()\n",
    "# 回帰分析の結果表示\n",
    "print(result_gls.summary())"
   ]
  },
  {
   "cell_type": "code",
   "execution_count": 96,
   "id": "1ce5e89c",
   "metadata": {},
   "outputs": [],
   "source": [
    "mayw1=0.7886\n",
    "mayw2=13.2598\n",
    "mayw0=-0.0042"
   ]
  },
  {
   "cell_type": "code",
   "execution_count": 97,
   "id": "3b466f29",
   "metadata": {},
   "outputs": [],
   "source": [
    "pdjunx1=pd.DataFrame(junx1)\n",
    "pdjunx2=pd.DataFrame(junx2)\n",
    "pdjuny=pd.DataFrame(juny)\n",
    "\n",
    "junx1diff=pdjunx1.diff(1)\n",
    "junx2diff=pdjunx2.diff(1)\n",
    "junydiff=pdjuny.diff(1)\n",
    "\n",
    "junx1difff=junx1diff.drop(junx1diff.index[0])\n",
    "junx2difff=junx2diff.drop(junx2diff.index[0])\n",
    "junydifff=junydiff.drop(junydiff.index[0])\n",
    "\n",
    "junx1diff2np=junx1difff.to_numpy()\n",
    "junx2diff2np=junx2difff.to_numpy()\n",
    "junydiff2np=junydifff.to_numpy()\n",
    "\n",
    "junx1diff1np=list(itertools.chain.from_iterable(junx1diff2np))\n",
    "junx2diff1np=list(itertools.chain.from_iterable(junx2diff2np))\n",
    "junydiff1np=list(itertools.chain.from_iterable(junydiff2np))\n",
    "\n",
    "col1 = junydiff1np\n",
    "col2 = junx1diff1np\n",
    "col3 = junx2diff1np\n",
    "jundiffdf = pd.DataFrame({'sales':col1,'temperature':col2, 'holiday':col3})\n"
   ]
  },
  {
   "cell_type": "code",
   "execution_count": 98,
   "id": "4dad19f4",
   "metadata": {},
   "outputs": [
    {
     "name": "stdout",
     "output_type": "stream",
     "text": [
      "ADF Statistic: -8.440951\n",
      "p-value: 0.000000\n",
      "Critical values :\n",
      "\t 1% -3.4535050041524245\n",
      "\t 5% -2.8717352599720294\n",
      "\t 10% -2.5722024776854417\n"
     ]
    }
   ],
   "source": [
    "# ADF検定（原系列）\n",
    "dftest = adfuller(junydiff1np)\n",
    "print('ADF Statistic: %f' % dftest[0])\n",
    "print('p-value: %f' % dftest[1])\n",
    "print('Critical values :')\n",
    "for k, v in dftest[4].items():\n",
    "    print('\\t', k, v)"
   ]
  },
  {
   "cell_type": "code",
   "execution_count": 99,
   "id": "b6c80d98",
   "metadata": {},
   "outputs": [
    {
     "name": "stdout",
     "output_type": "stream",
     "text": [
      "ADF Statistic: -7.070806\n",
      "p-value: 0.000000\n",
      "Critical values :\n",
      "\t 1% -3.453342167806272\n",
      "\t 5% -2.871663828287282\n",
      "\t 10% -2.572164381381345\n"
     ]
    }
   ],
   "source": [
    "# ADF検定（原系列）\n",
    "dftest = adfuller(junx1diff1np)\n",
    "print('ADF Statistic: %f' % dftest[0])\n",
    "print('p-value: %f' % dftest[1])\n",
    "print('Critical values :')\n",
    "for k, v in dftest[4].items():\n",
    "    print('\\t', k, v)"
   ]
  },
  {
   "cell_type": "code",
   "execution_count": 100,
   "id": "389f6f67",
   "metadata": {},
   "outputs": [
    {
     "name": "stdout",
     "output_type": "stream",
     "text": [
      "ADF Statistic: -9.572868\n",
      "p-value: 0.000000\n",
      "Critical values :\n",
      "\t 1% -3.4535050041524245\n",
      "\t 5% -2.8717352599720294\n",
      "\t 10% -2.5722024776854417\n"
     ]
    }
   ],
   "source": [
    "# ADF検定（原系列）\n",
    "dftest = adfuller(junx2diff1np)\n",
    "print('ADF Statistic: %f' % dftest[0])\n",
    "print('p-value: %f' % dftest[1])\n",
    "print('Critical values :')\n",
    "for k, v in dftest[4].items():\n",
    "    print('\\t', k, v)"
   ]
  },
  {
   "cell_type": "code",
   "execution_count": 101,
   "id": "fe912eee",
   "metadata": {},
   "outputs": [
    {
     "name": "stdout",
     "output_type": "stream",
     "text": [
      "                            OLS Regression Results                            \n",
      "==============================================================================\n",
      "Dep. Variable:                      y   R-squared:                       0.750\n",
      "Model:                            OLS   Adj. R-squared:                  0.749\n",
      "Method:                 Least Squares   F-statistic:                     445.1\n",
      "Date:                Thu, 25 Jan 2024   Prob (F-statistic):           6.02e-90\n",
      "Time:                        22:00:09   Log-Likelihood:                -877.76\n",
      "No. Observations:                 299   AIC:                             1762.\n",
      "Df Residuals:                     296   BIC:                             1773.\n",
      "Df Model:                           2                                         \n",
      "Covariance Type:            nonrobust                                         \n",
      "==============================================================================\n",
      "                 coef    std err          t      P>|t|      [0.025      0.975]\n",
      "------------------------------------------------------------------------------\n",
      "const          0.0235      0.265      0.089      0.929      -0.498       0.545\n",
      "x1             0.8906      0.080     11.165      0.000       0.734       1.048\n",
      "x2            13.8353      0.503     27.516      0.000      12.846      14.825\n",
      "==============================================================================\n",
      "Omnibus:                        1.087   Durbin-Watson:                   2.984\n",
      "Prob(Omnibus):                  0.581   Jarque-Bera (JB):                0.937\n",
      "Skew:                           0.135   Prob(JB):                        0.626\n",
      "Kurtosis:                       3.051   Cond. No.                         6.30\n",
      "==============================================================================\n",
      "\n",
      "Notes:\n",
      "[1] Standard Errors assume that the covariance matrix of the errors is correctly specified.\n"
     ]
    }
   ],
   "source": [
    "# 目的変数(Y)\n",
    "Y = np.array(jundiffdf['sales'])\n",
    " \n",
    "# 説明変数(X)\n",
    "col_name =['temperature', 'holiday']\n",
    "# 全要素が1.0の列を説明変数の先頭に追加(おまじない)\n",
    "X = sm.add_constant(jundiffdf[col_name])\n",
    "X = np.array(X)\n",
    "\n",
    "# モデルの設定(OLS:最小二乗法を指定)\n",
    "model = sm.OLS(Y, X)\n",
    " \n",
    "# 回帰分析の実行\n",
    "results = model.fit()\n",
    " \n",
    "# 結果の詳細を表示\n",
    "print(results.summary())"
   ]
  },
  {
   "cell_type": "code",
   "execution_count": 102,
   "id": "017e7c2a",
   "metadata": {},
   "outputs": [
    {
     "name": "stdout",
     "output_type": "stream",
     "text": [
      "                            GLS Regression Results                            \n",
      "==============================================================================\n",
      "Dep. Variable:                  sales   R-squared:                       0.829\n",
      "Model:                            GLS   Adj. R-squared:                  0.828\n",
      "Method:                 Least Squares   F-statistic:                     716.6\n",
      "Date:                Thu, 25 Jan 2024   Prob (F-statistic):          3.56e-114\n",
      "Time:                        22:00:09   Log-Likelihood:                -835.04\n",
      "No. Observations:                 299   AIC:                             1676.\n",
      "Df Residuals:                     296   BIC:                             1687.\n",
      "Df Model:                           2                                         \n",
      "Covariance Type:            nonrobust                                         \n",
      "===============================================================================\n",
      "                  coef    std err          t      P>|t|      [0.025      0.975]\n",
      "-------------------------------------------------------------------------------\n",
      "Intercept       0.0244      0.154      0.159      0.874      -0.278       0.327\n",
      "temperature     0.9844      0.070     13.990      0.000       0.846       1.123\n",
      "holiday        13.5986      0.391     34.753      0.000      12.829      14.369\n",
      "==============================================================================\n",
      "Omnibus:                        0.378   Durbin-Watson:                   2.319\n",
      "Prob(Omnibus):                  0.828   Jarque-Bera (JB):                0.403\n",
      "Skew:                          -0.085   Prob(JB):                        0.818\n",
      "Kurtosis:                       2.943   Cond. No.                         5.56\n",
      "==============================================================================\n",
      "\n",
      "Notes:\n",
      "[1] Standard Errors assume that the covariance matrix of the errors is correctly specified.\n"
     ]
    }
   ],
   "source": [
    "### 一般化最小二乗法GLSによる回帰分析\n",
    "# 残差の分散共分散行列の指定方法がテキストと異なるため、結果が合致していない可能性が高い\n",
    "\n",
    "## パラメータsigma（分散共分散行列）の取得\n",
    "# ar1_smのOLS残差の１階階差系列をさらにOLS、最小二乗基準を最小化する線形係数ρを取得\n",
    "ols_resid = smf.ols(formula='sales ~ temperature+holiday ', data=jundiffdf).fit().resid\n",
    "res_fit = sm.OLS(ols_resid[1:].values, ols_resid[:-1].values).fit()\n",
    "rho = res_fit.params\n",
    "# 分散共分散行列に変換\n",
    "order = toeplitz(np.arange(len(jundiffdf)))  # scipy.linalgのtoeplitz\n",
    "sigma = rho**order\n",
    "\n",
    "## 一般化最小二乗法による回帰分析の実行\n",
    "result_gls = smf.gls(formula='sales ~ temperature+holiday ', data=jundiffdf, sigma=sigma).fit()\n",
    "# 回帰分析の結果表示\n",
    "print(result_gls.summary())"
   ]
  },
  {
   "cell_type": "code",
   "execution_count": 103,
   "id": "f74c736e",
   "metadata": {},
   "outputs": [],
   "source": [
    "junw1=0.9844\n",
    "junw2=13.5986\n",
    "junw0=0.0244"
   ]
  },
  {
   "cell_type": "code",
   "execution_count": null,
   "id": "f704f3cd",
   "metadata": {},
   "outputs": [],
   "source": []
  },
  {
   "cell_type": "code",
   "execution_count": null,
   "id": "56accd2a",
   "metadata": {},
   "outputs": [],
   "source": []
  },
  {
   "cell_type": "code",
   "execution_count": 104,
   "id": "b1898bf0",
   "metadata": {},
   "outputs": [
    {
     "name": "stdout",
     "output_type": "stream",
     "text": [
      "                            OLS Regression Results                            \n",
      "==============================================================================\n",
      "Dep. Variable:                      y   R-squared:                       0.676\n",
      "Model:                            OLS   Adj. R-squared:                  0.674\n",
      "Method:                 Least Squares   F-statistic:                     320.3\n",
      "Date:                Thu, 25 Jan 2024   Prob (F-statistic):           7.41e-76\n",
      "Time:                        22:00:09   Log-Likelihood:                -979.29\n",
      "No. Observations:                 310   AIC:                             1965.\n",
      "Df Residuals:                     307   BIC:                             1976.\n",
      "Df Model:                           2                                         \n",
      "Covariance Type:            nonrobust                                         \n",
      "==============================================================================\n",
      "                 coef    std err          t      P>|t|      [0.025      0.975]\n",
      "------------------------------------------------------------------------------\n",
      "const         36.0089      0.394     91.354      0.000      35.233      36.785\n",
      "x1             1.3520      0.096     14.119      0.000       1.164       1.540\n",
      "x2            14.1980      0.698     20.335      0.000      12.824      15.572\n",
      "==============================================================================\n",
      "Omnibus:                       10.963   Durbin-Watson:                   1.254\n",
      "Prob(Omnibus):                  0.004   Jarque-Bera (JB):               11.419\n",
      "Skew:                           0.402   Prob(JB):                      0.00332\n",
      "Kurtosis:                       3.488   Cond. No.                         7.75\n",
      "==============================================================================\n",
      "\n",
      "Notes:\n",
      "[1] Standard Errors assume that the covariance matrix of the errors is correctly specified.\n"
     ]
    }
   ],
   "source": [
    "# 目的変数(Y)\n",
    "Y = np.array(juldf['sales'])\n",
    " \n",
    "# 説明変数(X)\n",
    "col_name = ['temperature', 'holiday']\n",
    "# 全要素が1.0の列を説明変数の先頭に追加(おまじない)\n",
    "X = sm.add_constant(juldf[col_name])\n",
    "X = np.array(X)\n",
    "\n",
    "# モデルの設定(OLS:最小二乗法を指定)\n",
    "model = sm.OLS(Y, X)\n",
    " \n",
    "# 回帰分析の実行\n",
    "results = model.fit()\n",
    " \n",
    "# 結果の詳細を表示\n",
    "print(results.summary())"
   ]
  },
  {
   "cell_type": "code",
   "execution_count": 105,
   "id": "8b4bbf69",
   "metadata": {},
   "outputs": [],
   "source": [
    "#ダービンワトソン比が2に近くないから、GLSを実施。"
   ]
  },
  {
   "cell_type": "code",
   "execution_count": 106,
   "id": "ac409eab",
   "metadata": {},
   "outputs": [
    {
     "name": "stdout",
     "output_type": "stream",
     "text": [
      "                            GLS Regression Results                            \n",
      "==============================================================================\n",
      "Dep. Variable:                  sales   R-squared:                       0.639\n",
      "Model:                            GLS   Adj. R-squared:                  0.637\n",
      "Method:                 Least Squares   F-statistic:                     271.9\n",
      "Date:                Thu, 25 Jan 2024   Prob (F-statistic):           1.10e-68\n",
      "Time:                        22:00:09   Log-Likelihood:                -952.48\n",
      "No. Observations:                 310   AIC:                             1911.\n",
      "Df Residuals:                     307   BIC:                             1922.\n",
      "Df Model:                           2                                         \n",
      "Covariance Type:            nonrobust                                         \n",
      "===============================================================================\n",
      "                  coef    std err          t      P>|t|      [0.025      0.975]\n",
      "-------------------------------------------------------------------------------\n",
      "Intercept      36.0802      0.521     69.207      0.000      35.054      37.106\n",
      "temperature     1.0662      0.105     10.151      0.000       0.860       1.273\n",
      "holiday        14.0331      0.682     20.579      0.000      12.691      15.375\n",
      "==============================================================================\n",
      "Omnibus:                       25.988   Durbin-Watson:                   2.103\n",
      "Prob(Omnibus):                  0.000   Jarque-Bera (JB):               34.892\n",
      "Skew:                           0.606   Prob(JB):                     2.65e-08\n",
      "Kurtosis:                       4.109   Cond. No.                         7.03\n",
      "==============================================================================\n",
      "\n",
      "Notes:\n",
      "[1] Standard Errors assume that the covariance matrix of the errors is correctly specified.\n"
     ]
    }
   ],
   "source": [
    "### 一般化最小二乗法GLSによる回帰分析\n",
    "# 残差の分散共分散行列の指定方法がテキストと異なるため、結果が合致していない可能性が高い\n",
    "\n",
    "## パラメータsigma（分散共分散行列）の取得\n",
    "# ar1_smのOLS残差の１階階差系列をさらにOLS、最小二乗基準を最小化する線形係数ρを取得\n",
    "ols_resid = smf.ols(formula='sales ~temperature+holiday ', data=juldf).fit().resid\n",
    "res_fit = sm.OLS(ols_resid[1:].values, ols_resid[:-1].values).fit()\n",
    "rho = res_fit.params\n",
    "# 分散共分散行列に変換\n",
    "order = toeplitz(np.arange(len(juldf)))  # scipy.linalgのtoeplitz\n",
    "sigma = rho**order\n",
    "\n",
    "## 一般化最小二乗法による回帰分析の実行\n",
    "result_gls = smf.gls(formula='sales ~temperature+holiday', data=juldf, sigma=sigma).fit()\n",
    "# 回帰分析の結果表示\n",
    "print(result_gls.summary())"
   ]
  },
  {
   "cell_type": "code",
   "execution_count": 107,
   "id": "f1bf55bd",
   "metadata": {},
   "outputs": [],
   "source": [
    "julw1=1.0662\n",
    "julw2=14.0331\n",
    "julw0=36.0802"
   ]
  },
  {
   "cell_type": "code",
   "execution_count": 108,
   "id": "9956742c",
   "metadata": {},
   "outputs": [
    {
     "name": "stdout",
     "output_type": "stream",
     "text": [
      "                            OLS Regression Results                            \n",
      "==============================================================================\n",
      "Dep. Variable:                      y   R-squared:                       0.533\n",
      "Model:                            OLS   Adj. R-squared:                  0.530\n",
      "Method:                 Least Squares   F-statistic:                     175.1\n",
      "Date:                Thu, 25 Jan 2024   Prob (F-statistic):           1.81e-51\n",
      "Time:                        22:00:09   Log-Likelihood:                -1032.3\n",
      "No. Observations:                 310   AIC:                             2071.\n",
      "Df Residuals:                     307   BIC:                             2082.\n",
      "Df Model:                           2                                         \n",
      "Covariance Type:            nonrobust                                         \n",
      "==============================================================================\n",
      "                 coef    std err          t      P>|t|      [0.025      0.975]\n",
      "------------------------------------------------------------------------------\n",
      "const         40.0023      0.467     85.724      0.000      39.084      40.920\n",
      "x1             1.4896      0.119     12.481      0.000       1.255       1.724\n",
      "x2            11.6159      0.830     13.999      0.000       9.983      13.249\n",
      "==============================================================================\n",
      "Omnibus:                        9.376   Durbin-Watson:                   0.869\n",
      "Prob(Omnibus):                  0.009   Jarque-Bera (JB):                8.902\n",
      "Skew:                           0.365   Prob(JB):                       0.0117\n",
      "Kurtosis:                       2.606   Cond. No.                         7.37\n",
      "==============================================================================\n",
      "\n",
      "Notes:\n",
      "[1] Standard Errors assume that the covariance matrix of the errors is correctly specified.\n"
     ]
    }
   ],
   "source": [
    "# 目的変数(Y)\n",
    "Y = np.array(augdf['sales'])\n",
    " \n",
    "# 説明変数(X)\n",
    "col_name = ['temperature', 'holiday']\n",
    "# 全要素が1.0の列を説明変数の先頭に追加(おまじない)\n",
    "X = sm.add_constant(augdf[col_name])\n",
    "X = np.array(X)\n",
    "\n",
    "# モデルの設定(OLS:最小二乗法を指定)\n",
    "model = sm.OLS(Y, X)\n",
    " \n",
    "# 回帰分析の実行\n",
    "results = model.fit()\n",
    " \n",
    "# 結果の詳細を表示\n",
    "print(results.summary())"
   ]
  },
  {
   "cell_type": "code",
   "execution_count": 109,
   "id": "03e123ea",
   "metadata": {},
   "outputs": [
    {
     "name": "stdout",
     "output_type": "stream",
     "text": [
      "                            GLS Regression Results                            \n",
      "==============================================================================\n",
      "Dep. Variable:                  sales   R-squared:                       0.556\n",
      "Model:                            GLS   Adj. R-squared:                  0.553\n",
      "Method:                 Least Squares   F-statistic:                     192.5\n",
      "Date:                Thu, 25 Jan 2024   Prob (F-statistic):           6.69e-55\n",
      "Time:                        22:00:09   Log-Likelihood:                -970.03\n",
      "No. Observations:                 310   AIC:                             1946.\n",
      "Df Residuals:                     307   BIC:                             1957.\n",
      "Df Model:                           2                                         \n",
      "Covariance Type:            nonrobust                                         \n",
      "===============================================================================\n",
      "                  coef    std err          t      P>|t|      [0.025      0.975]\n",
      "-------------------------------------------------------------------------------\n",
      "Intercept      39.7577      0.756     52.601      0.000      38.270      41.245\n",
      "temperature     1.1692      0.125      9.332      0.000       0.923       1.416\n",
      "holiday        12.0599      0.699     17.252      0.000      10.684      13.435\n",
      "==============================================================================\n",
      "Omnibus:                        2.414   Durbin-Watson:                   2.256\n",
      "Prob(Omnibus):                  0.299   Jarque-Bera (JB):                2.350\n",
      "Skew:                           0.078   Prob(JB):                        0.309\n",
      "Kurtosis:                       3.397   Cond. No.                         6.63\n",
      "==============================================================================\n",
      "\n",
      "Notes:\n",
      "[1] Standard Errors assume that the covariance matrix of the errors is correctly specified.\n"
     ]
    }
   ],
   "source": [
    "### 一般化最小二乗法GLSによる回帰分析\n",
    "# 残差の分散共分散行列の指定方法がテキストと異なるため、結果が合致していない可能性が高い\n",
    "\n",
    "## パラメータsigma（分散共分散行列）の取得\n",
    "# ar1_smのOLS残差の１階階差系列をさらにOLS、最小二乗基準を最小化する線形係数ρを取得\n",
    "ols_resid = smf.ols(formula='sales ~ temperature+holiday ', data=augdf).fit().resid\n",
    "res_fit = sm.OLS(ols_resid[1:].values, ols_resid[:-1].values).fit()\n",
    "rho = res_fit.params\n",
    "# 分散共分散行列に変換\n",
    "order = toeplitz(np.arange(len(augdf)))  # scipy.linalgのtoeplitz\n",
    "sigma = rho**order\n",
    "\n",
    "## 一般化最小二乗法による回帰分析の実行\n",
    "result_gls = smf.gls(formula='sales ~ temperature+holiday ', data=augdf, sigma=sigma).fit()\n",
    "# 回帰分析の結果表示\n",
    "print(result_gls.summary())"
   ]
  },
  {
   "cell_type": "code",
   "execution_count": 110,
   "id": "e8dfe898",
   "metadata": {},
   "outputs": [],
   "source": [
    "augw1=1.1692\n",
    "augw2=12.0599\n",
    "augw0=39.7577"
   ]
  },
  {
   "cell_type": "code",
   "execution_count": 111,
   "id": "9b476954",
   "metadata": {},
   "outputs": [
    {
     "name": "stdout",
     "output_type": "stream",
     "text": [
      "                            OLS Regression Results                            \n",
      "==============================================================================\n",
      "Dep. Variable:                      y   R-squared:                       0.724\n",
      "Model:                            OLS   Adj. R-squared:                  0.722\n",
      "Method:                 Least Squares   F-statistic:                     389.9\n",
      "Date:                Thu, 25 Jan 2024   Prob (F-statistic):           8.56e-84\n",
      "Time:                        22:00:09   Log-Likelihood:                -854.84\n",
      "No. Observations:                 300   AIC:                             1716.\n",
      "Df Residuals:                     297   BIC:                             1727.\n",
      "Df Model:                           2                                         \n",
      "Covariance Type:            nonrobust                                         \n",
      "==============================================================================\n",
      "                 coef    std err          t      P>|t|      [0.025      0.975]\n",
      "------------------------------------------------------------------------------\n",
      "const         22.6567      0.302     75.099      0.000      22.063      23.250\n",
      "x1             1.0691      0.068     15.825      0.000       0.936       1.202\n",
      "x2            11.4703      0.508     22.593      0.000      10.471      12.469\n",
      "==============================================================================\n",
      "Omnibus:                        1.552   Durbin-Watson:                   1.346\n",
      "Prob(Omnibus):                  0.460   Jarque-Bera (JB):                1.269\n",
      "Skew:                           0.105   Prob(JB):                        0.530\n",
      "Kurtosis:                       3.240   Cond. No.                         8.08\n",
      "==============================================================================\n",
      "\n",
      "Notes:\n",
      "[1] Standard Errors assume that the covariance matrix of the errors is correctly specified.\n"
     ]
    }
   ],
   "source": [
    "# 目的変数(Y)\n",
    "Y = np.array(sepdf['sales'])\n",
    " \n",
    "# 説明変数(X)\n",
    "col_name = ['temperature', 'holiday']\n",
    "# 全要素が1.0の列を説明変数の先頭に追加(おまじない)\n",
    "X = sm.add_constant(sepdf[col_name])\n",
    "X = np.array(X)\n",
    "\n",
    "# モデルの設定(OLS:最小二乗法を指定)\n",
    "model = sm.OLS(Y, X)\n",
    " \n",
    "# 回帰分析の実行\n",
    "results = model.fit()\n",
    " \n",
    "# 結果の詳細を表示\n",
    "print(results.summary())"
   ]
  },
  {
   "cell_type": "code",
   "execution_count": 112,
   "id": "f9bed7ff",
   "metadata": {},
   "outputs": [
    {
     "name": "stdout",
     "output_type": "stream",
     "text": [
      "                            GLS Regression Results                            \n",
      "==============================================================================\n",
      "Dep. Variable:                  sales   R-squared:                       0.692\n",
      "Model:                            GLS   Adj. R-squared:                  0.690\n",
      "Method:                 Least Squares   F-statistic:                     333.5\n",
      "Date:                Thu, 25 Jan 2024   Prob (F-statistic):           1.19e-76\n",
      "Time:                        22:00:09   Log-Likelihood:                -838.26\n",
      "No. Observations:                 300   AIC:                             1683.\n",
      "Df Residuals:                     297   BIC:                             1694.\n",
      "Df Model:                           2                                         \n",
      "Covariance Type:            nonrobust                                         \n",
      "===============================================================================\n",
      "                  coef    std err          t      P>|t|      [0.025      0.975]\n",
      "-------------------------------------------------------------------------------\n",
      "Intercept      22.7237      0.383     59.302      0.000      21.970      23.478\n",
      "temperature     0.9787      0.075     13.014      0.000       0.831       1.127\n",
      "holiday        11.2535      0.512     21.974      0.000      10.246      12.261\n",
      "==============================================================================\n",
      "Omnibus:                        4.717   Durbin-Watson:                   2.041\n",
      "Prob(Omnibus):                  0.095   Jarque-Bera (JB):                5.918\n",
      "Skew:                          -0.091   Prob(JB):                       0.0519\n",
      "Kurtosis:                       3.663   Cond. No.                         7.45\n",
      "==============================================================================\n",
      "\n",
      "Notes:\n",
      "[1] Standard Errors assume that the covariance matrix of the errors is correctly specified.\n"
     ]
    }
   ],
   "source": [
    "### 一般化最小二乗法GLSによる回帰分析\n",
    "# 残差の分散共分散行列の指定方法がテキストと異なるため、結果が合致していない可能性が高い\n",
    "\n",
    "## パラメータsigma（分散共分散行列）の取得\n",
    "# ar1_smのOLS残差の１階階差系列をさらにOLS、最小二乗基準を最小化する線形係数ρを取得\n",
    "ols_resid = smf.ols(formula='sales ~ temperature+holiday ', data=sepdf).fit().resid\n",
    "res_fit = sm.OLS(ols_resid[1:].values, ols_resid[:-1].values).fit()\n",
    "rho = res_fit.params\n",
    "# 分散共分散行列に変換\n",
    "order = toeplitz(np.arange(len(sepdf)))  # scipy.linalgのtoeplitz\n",
    "sigma = rho**order\n",
    "\n",
    "## 一般化最小二乗法による回帰分析の実行\n",
    "result_gls = smf.gls(formula='sales ~ temperature+holiday ', data=sepdf, sigma=sigma).fit()\n",
    "# 回帰分析の結果表示\n",
    "print(result_gls.summary())"
   ]
  },
  {
   "cell_type": "code",
   "execution_count": 113,
   "id": "ecd14328",
   "metadata": {},
   "outputs": [],
   "source": [
    "sepw1=0.9787\n",
    "sepw2=11.2535\n",
    "sepw0=22.7237"
   ]
  },
  {
   "cell_type": "code",
   "execution_count": 114,
   "id": "d5d7afee",
   "metadata": {},
   "outputs": [
    {
     "name": "stdout",
     "output_type": "stream",
     "text": [
      "                            OLS Regression Results                            \n",
      "==============================================================================\n",
      "Dep. Variable:                      y   R-squared:                       0.699\n",
      "Model:                            OLS   Adj. R-squared:                  0.697\n",
      "Method:                 Least Squares   F-statistic:                     357.1\n",
      "Date:                Thu, 25 Jan 2024   Prob (F-statistic):           7.60e-81\n",
      "Time:                        22:00:09   Log-Likelihood:                -794.98\n",
      "No. Observations:                 310   AIC:                             1596.\n",
      "Df Residuals:                     307   BIC:                             1607.\n",
      "Df Model:                           2                                         \n",
      "Covariance Type:            nonrobust                                         \n",
      "==============================================================================\n",
      "                 coef    std err          t      P>|t|      [0.025      0.975]\n",
      "------------------------------------------------------------------------------\n",
      "const         15.2185      0.218     69.962      0.000      14.790      15.647\n",
      "x1             0.6661      0.050     13.422      0.000       0.568       0.764\n",
      "x2             9.0707      0.385     23.554      0.000       8.313       9.828\n",
      "==============================================================================\n",
      "Omnibus:                        2.883   Durbin-Watson:                   1.094\n",
      "Prob(Omnibus):                  0.237   Jarque-Bera (JB):                2.790\n",
      "Skew:                           0.232   Prob(JB):                        0.248\n",
      "Kurtosis:                       2.997   Cond. No.                         8.24\n",
      "==============================================================================\n",
      "\n",
      "Notes:\n",
      "[1] Standard Errors assume that the covariance matrix of the errors is correctly specified.\n"
     ]
    }
   ],
   "source": [
    "# 目的変数(Y)\n",
    "Y = np.array(octdf['sales'])\n",
    " \n",
    "# 説明変数(X)\n",
    "col_name = ['temperature', 'holiday']\n",
    "# 全要素が1.0の列を説明変数の先頭に追加(おまじない)\n",
    "X = sm.add_constant(octdf[col_name])\n",
    "X = np.array(X)\n",
    "\n",
    "# モデルの設定(OLS:最小二乗法を指定)\n",
    "model = sm.OLS(Y, X)\n",
    " \n",
    "# 回帰分析の実行\n",
    "results = model.fit()\n",
    " \n",
    "# 結果の詳細を表示\n",
    "print(results.summary())"
   ]
  },
  {
   "cell_type": "code",
   "execution_count": 115,
   "id": "26b2f77d",
   "metadata": {},
   "outputs": [
    {
     "name": "stdout",
     "output_type": "stream",
     "text": [
      "                            GLS Regression Results                            \n",
      "==============================================================================\n",
      "Dep. Variable:                  sales   R-squared:                       0.691\n",
      "Model:                            GLS   Adj. R-squared:                  0.689\n",
      "Method:                 Least Squares   F-statistic:                     342.5\n",
      "Date:                Thu, 25 Jan 2024   Prob (F-statistic):           6.38e-79\n",
      "Time:                        22:00:10   Log-Likelihood:                -756.32\n",
      "No. Observations:                 310   AIC:                             1519.\n",
      "Df Residuals:                     307   BIC:                             1530.\n",
      "Df Model:                           2                                         \n",
      "Covariance Type:            nonrobust                                         \n",
      "===============================================================================\n",
      "                  coef    std err          t      P>|t|      [0.025      0.975]\n",
      "-------------------------------------------------------------------------------\n",
      "Intercept      15.3120      0.310     49.337      0.000      14.701      15.923\n",
      "temperature     0.5429      0.050     10.774      0.000       0.444       0.642\n",
      "holiday         8.7841      0.360     24.387      0.000       8.075       9.493\n",
      "==============================================================================\n",
      "Omnibus:                        8.505   Durbin-Watson:                   2.114\n",
      "Prob(Omnibus):                  0.014   Jarque-Bera (JB):                9.247\n",
      "Skew:                           0.305   Prob(JB):                      0.00982\n",
      "Kurtosis:                       3.586   Cond. No.                         7.89\n",
      "==============================================================================\n",
      "\n",
      "Notes:\n",
      "[1] Standard Errors assume that the covariance matrix of the errors is correctly specified.\n"
     ]
    }
   ],
   "source": [
    "### 一般化最小二乗法GLSによる回帰分析\n",
    "# 残差の分散共分散行列の指定方法がテキストと異なるため、結果が合致していない可能性が高い\n",
    "\n",
    "## パラメータsigma（分散共分散行列）の取得\n",
    "# ar1_smのOLS残差の１階階差系列をさらにOLS、最小二乗基準を最小化する線形係数ρを取得\n",
    "ols_resid = smf.ols(formula='sales ~ temperature+holiday ', data=octdf).fit().resid\n",
    "res_fit = sm.OLS(ols_resid[1:].values, ols_resid[:-1].values).fit()\n",
    "rho = res_fit.params\n",
    "# 分散共分散行列に変換\n",
    "order = toeplitz(np.arange(len(octdf)))  # scipy.linalgのtoeplitz\n",
    "sigma = rho**order\n",
    "\n",
    "## 一般化最小二乗法による回帰分析の実行\n",
    "result_gls = smf.gls(formula='sales ~ temperature+holiday ', data=octdf, sigma=sigma).fit()\n",
    "# 回帰分析の結果表示\n",
    "print(result_gls.summary())"
   ]
  },
  {
   "cell_type": "code",
   "execution_count": 116,
   "id": "10a16c0a",
   "metadata": {},
   "outputs": [],
   "source": [
    "octw1=0.5429\n",
    "octw2=8.7841\n",
    "octw0=15.3120"
   ]
  },
  {
   "cell_type": "code",
   "execution_count": null,
   "id": "ef0c668b",
   "metadata": {},
   "outputs": [],
   "source": []
  },
  {
   "cell_type": "code",
   "execution_count": 117,
   "id": "a7cc99b8",
   "metadata": {},
   "outputs": [],
   "source": [
    "pdnovx1=pd.DataFrame(novx1)\n",
    "pdnovx2=pd.DataFrame(novx2)\n",
    "pdnovy=pd.DataFrame(novy)\n",
    "\n",
    "novx1diff=pdnovx1.diff(1)\n",
    "novx2diff=pdnovx2.diff(1)\n",
    "novydiff=pdnovy.diff(1)\n",
    "\n",
    "novx1difff=novx1diff.drop(novx1diff.index[0])\n",
    "novx2difff=novx2diff.drop(novx2diff.index[0])\n",
    "novydifff=novydiff.drop(novydiff.index[0])\n",
    "\n",
    "novx1diff2np=novx1difff.to_numpy()\n",
    "novx2diff2np=novx2difff.to_numpy()\n",
    "novydiff2np=novydifff.to_numpy()\n",
    "\n",
    "novx1diff1np=list(itertools.chain.from_iterable(novx1diff2np))\n",
    "novx2diff1np=list(itertools.chain.from_iterable(novx2diff2np))\n",
    "novydiff1np=list(itertools.chain.from_iterable(novydiff2np))\n",
    "\n",
    "col1 = novydiff1np\n",
    "col2 = novx1diff1np\n",
    "col3 = novx2diff1np\n",
    "novdiffdf = pd.DataFrame({'sales':col1,'temperature':col2, 'holiday':col3})\n"
   ]
  },
  {
   "cell_type": "code",
   "execution_count": 118,
   "id": "a4883af3",
   "metadata": {},
   "outputs": [
    {
     "name": "stdout",
     "output_type": "stream",
     "text": [
      "ADF Statistic: -6.748089\n",
      "p-value: 0.000000\n",
      "Critical values :\n",
      "\t 1% -3.453670163592738\n",
      "\t 5% -2.8718077069772248\n",
      "\t 10% -2.5722411158835796\n"
     ]
    }
   ],
   "source": [
    "# ADF検定（原系列）\n",
    "dftest = adfuller(novx1diff1np)\n",
    "print('ADF Statistic: %f' % dftest[0])\n",
    "print('p-value: %f' % dftest[1])\n",
    "print('Critical values :')\n",
    "for k, v in dftest[4].items():\n",
    "    print('\\t', k, v)"
   ]
  },
  {
   "cell_type": "code",
   "execution_count": 119,
   "id": "cd9ede2c",
   "metadata": {},
   "outputs": [
    {
     "name": "stdout",
     "output_type": "stream",
     "text": [
      "ADF Statistic: -10.037596\n",
      "p-value: 0.000000\n",
      "Critical values :\n",
      "\t 1% -3.4535050041524245\n",
      "\t 5% -2.8717352599720294\n",
      "\t 10% -2.5722024776854417\n"
     ]
    }
   ],
   "source": [
    "# ADF検定（原系列）\n",
    "dftest = adfuller(novx2diff1np)\n",
    "print('ADF Statistic: %f' % dftest[0])\n",
    "print('p-value: %f' % dftest[1])\n",
    "print('Critical values :')\n",
    "for k, v in dftest[4].items():\n",
    "    print('\\t', k, v)"
   ]
  },
  {
   "cell_type": "code",
   "execution_count": 120,
   "id": "83521952",
   "metadata": {},
   "outputs": [
    {
     "name": "stdout",
     "output_type": "stream",
     "text": [
      "ADF Statistic: -7.284457\n",
      "p-value: 0.000000\n",
      "Critical values :\n",
      "\t 1% -3.4535872903895797\n",
      "\t 5% -2.871771355211212\n",
      "\t 10% -2.5722217283277127\n"
     ]
    }
   ],
   "source": [
    "# ADF検定（原系列）\n",
    "dftest = adfuller(novydiff1np)\n",
    "print('ADF Statistic: %f' % dftest[0])\n",
    "print('p-value: %f' % dftest[1])\n",
    "print('Critical values :')\n",
    "for k, v in dftest[4].items():\n",
    "    print('\\t', k, v)"
   ]
  },
  {
   "cell_type": "code",
   "execution_count": 121,
   "id": "4cfc4c73",
   "metadata": {},
   "outputs": [
    {
     "name": "stdout",
     "output_type": "stream",
     "text": [
      "                            OLS Regression Results                            \n",
      "==============================================================================\n",
      "Dep. Variable:                      y   R-squared:                       0.690\n",
      "Model:                            OLS   Adj. R-squared:                  0.688\n",
      "Method:                 Least Squares   F-statistic:                     329.5\n",
      "Date:                Thu, 25 Jan 2024   Prob (F-statistic):           5.18e-76\n",
      "Time:                        22:00:10   Log-Likelihood:                -724.88\n",
      "No. Observations:                 299   AIC:                             1456.\n",
      "Df Residuals:                     296   BIC:                             1467.\n",
      "Df Model:                           2                                         \n",
      "Covariance Type:            nonrobust                                         \n",
      "==============================================================================\n",
      "                 coef    std err          t      P>|t|      [0.025      0.975]\n",
      "------------------------------------------------------------------------------\n",
      "const          0.0005      0.159      0.003      0.997      -0.312       0.313\n",
      "x1             0.2008      0.049      4.087      0.000       0.104       0.297\n",
      "x2             6.7526      0.277     24.411      0.000       6.208       7.297\n",
      "==============================================================================\n",
      "Omnibus:                        2.124   Durbin-Watson:                   2.907\n",
      "Prob(Omnibus):                  0.346   Jarque-Bera (JB):                2.122\n",
      "Skew:                           0.154   Prob(JB):                        0.346\n",
      "Kurtosis:                       2.726   Cond. No.                         5.70\n",
      "==============================================================================\n",
      "\n",
      "Notes:\n",
      "[1] Standard Errors assume that the covariance matrix of the errors is correctly specified.\n"
     ]
    }
   ],
   "source": [
    "# 目的変数(Y)\n",
    "Y = np.array(novdiffdf['sales'])\n",
    " \n",
    "# 説明変数(X)\n",
    "col_name = ['temperature', 'holiday']\n",
    "# 全要素が1.0の列を説明変数の先頭に追加(おまじない)\n",
    "X = sm.add_constant(novdiffdf[col_name])\n",
    "X = np.array(X)\n",
    "\n",
    "# モデルの設定(OLS:最小二乗法を指定)\n",
    "model = sm.OLS(Y, X)\n",
    " \n",
    "# 回帰分析の実行\n",
    "results = model.fit()\n",
    " \n",
    "# 結果の詳細を表示\n",
    "print(results.summary())"
   ]
  },
  {
   "cell_type": "code",
   "execution_count": 122,
   "id": "90f92560",
   "metadata": {},
   "outputs": [
    {
     "name": "stdout",
     "output_type": "stream",
     "text": [
      "                            GLS Regression Results                            \n",
      "==============================================================================\n",
      "Dep. Variable:                  sales   R-squared:                       0.764\n",
      "Model:                            GLS   Adj. R-squared:                  0.762\n",
      "Method:                 Least Squares   F-statistic:                     478.0\n",
      "Date:                Thu, 25 Jan 2024   Prob (F-statistic):           2.03e-93\n",
      "Time:                        22:00:10   Log-Likelihood:                -688.65\n",
      "No. Observations:                 299   AIC:                             1383.\n",
      "Df Residuals:                     296   BIC:                             1394.\n",
      "Df Model:                           2                                         \n",
      "Covariance Type:            nonrobust                                         \n",
      "===============================================================================\n",
      "                  coef    std err          t      P>|t|      [0.025      0.975]\n",
      "-------------------------------------------------------------------------------\n",
      "Intercept       0.0040      0.096      0.042      0.967      -0.186       0.194\n",
      "temperature     0.2297      0.047      4.929      0.000       0.138       0.321\n",
      "holiday         6.9413      0.237     29.297      0.000       6.475       7.408\n",
      "==============================================================================\n",
      "Omnibus:                        0.162   Durbin-Watson:                   2.341\n",
      "Prob(Omnibus):                  0.922   Jarque-Bera (JB):                0.287\n",
      "Skew:                           0.027   Prob(JB):                        0.867\n",
      "Kurtosis:                       2.858   Cond. No.                         5.16\n",
      "==============================================================================\n",
      "\n",
      "Notes:\n",
      "[1] Standard Errors assume that the covariance matrix of the errors is correctly specified.\n"
     ]
    }
   ],
   "source": [
    "### 一般化最小二乗法GLSによる回帰分析\n",
    "# 残差の分散共分散行列の指定方法がテキストと異なるため、結果が合致していない可能性が高い\n",
    "\n",
    "## パラメータsigma（分散共分散行列）の取得\n",
    "# ar1_smのOLS残差の１階階差系列をさらにOLS、最小二乗基準を最小化する線形係数ρを取得\n",
    "ols_resid = smf.ols(formula='sales ~ temperature+holiday ', data=novdiffdf).fit().resid\n",
    "res_fit = sm.OLS(ols_resid[1:].values, ols_resid[:-1].values).fit()\n",
    "rho = res_fit.params\n",
    "# 分散共分散行列に変換\n",
    "order = toeplitz(np.arange(len(novdiffdf)))  # scipy.linalgのtoeplitz\n",
    "sigma = rho**order\n",
    "\n",
    "## 一般化最小二乗法による回帰分析の実行\n",
    "result_gls = smf.gls(formula='sales ~ temperature+holiday ', data=novdiffdf, sigma=sigma).fit()\n",
    "# 回帰分析の結果表示\n",
    "print(result_gls.summary())"
   ]
  },
  {
   "cell_type": "code",
   "execution_count": 123,
   "id": "ba2f8f81",
   "metadata": {},
   "outputs": [],
   "source": [
    "novw1=0.2297\n",
    "novw2=6.9413\n",
    "novw0=0.0040"
   ]
  },
  {
   "cell_type": "code",
   "execution_count": 124,
   "id": "c2c61d44",
   "metadata": {},
   "outputs": [],
   "source": [
    "pddecx1=pd.DataFrame(decx1)\n",
    "pddecx2=pd.DataFrame(decx2)\n",
    "pddecy=pd.DataFrame(decy)\n",
    "\n",
    "decx1diff=pddecx1.diff(1)\n",
    "decx2diff=pddecx2.diff(1)\n",
    "decydiff=pddecy.diff(1)\n",
    "\n",
    "decx1difff=decx1diff.drop(decx1diff.index[0])\n",
    "decx2difff=decx2diff.drop(decx2diff.index[0])\n",
    "decydifff=decydiff.drop(decydiff.index[0])\n",
    "\n",
    "decx1diff2np=decx1difff.to_numpy()\n",
    "decx2diff2np=decx2difff.to_numpy()\n",
    "decydiff2np=decydifff.to_numpy()\n",
    "\n",
    "decx1diff1np=list(itertools.chain.from_iterable(decx1diff2np))\n",
    "decx2diff1np=list(itertools.chain.from_iterable(decx2diff2np))\n",
    "decydiff1np=list(itertools.chain.from_iterable(decydiff2np))\n",
    "\n",
    "col1 = decydiff1np\n",
    "col2 = decx1diff1np\n",
    "col3 = decx2diff1np\n",
    "decdiffdf = pd.DataFrame({'sales':col1,'temperature':col2, 'holiday':col3})\n"
   ]
  },
  {
   "cell_type": "code",
   "execution_count": 125,
   "id": "c6b504b0",
   "metadata": {},
   "outputs": [
    {
     "name": "stdout",
     "output_type": "stream",
     "text": [
      "ADF Statistic: -9.297702\n",
      "p-value: 0.000000\n",
      "Critical values :\n",
      "\t 1% -3.4523371197407404\n",
      "\t 5% -2.871222860740741\n",
      "\t 10% -2.571929211111111\n"
     ]
    }
   ],
   "source": [
    "# ADF検定（原系列）\n",
    "dftest = adfuller(decx1diff1np)\n",
    "print('ADF Statistic: %f' % dftest[0])\n",
    "print('p-value: %f' % dftest[1])\n",
    "print('Critical values :')\n",
    "for k, v in dftest[4].items():\n",
    "    print('\\t', k, v)"
   ]
  },
  {
   "cell_type": "code",
   "execution_count": 126,
   "id": "ce37ba8f",
   "metadata": {},
   "outputs": [
    {
     "name": "stdout",
     "output_type": "stream",
     "text": [
      "ADF Statistic: -7.435053\n",
      "p-value: 0.000000\n",
      "Critical values :\n",
      "\t 1% -3.452789844280995\n",
      "\t 5% -2.871421512222641\n",
      "\t 10% -2.5720351510944512\n"
     ]
    }
   ],
   "source": [
    "# ADF検定（原系列）\n",
    "dftest = adfuller(decx2diff1np)\n",
    "print('ADF Statistic: %f' % dftest[0])\n",
    "print('p-value: %f' % dftest[1])\n",
    "print('Critical values :')\n",
    "for k, v in dftest[4].items():\n",
    "    print('\\t', k, v)"
   ]
  },
  {
   "cell_type": "code",
   "execution_count": 127,
   "id": "6a25a1bc",
   "metadata": {},
   "outputs": [
    {
     "name": "stdout",
     "output_type": "stream",
     "text": [
      "ADF Statistic: -5.436666\n",
      "p-value: 0.000003\n",
      "Critical values :\n",
      "\t 1% -3.4529449243622383\n",
      "\t 5% -2.871489553425686\n",
      "\t 10% -2.572071437887033\n"
     ]
    }
   ],
   "source": [
    "# ADF検定（原系列）\n",
    "dftest = adfuller(decydiff1np)\n",
    "print('ADF Statistic: %f' % dftest[0])\n",
    "print('p-value: %f' % dftest[1])\n",
    "print('Critical values :')\n",
    "for k, v in dftest[4].items():\n",
    "    print('\\t', k, v)"
   ]
  },
  {
   "cell_type": "code",
   "execution_count": 128,
   "id": "e6b86025",
   "metadata": {},
   "outputs": [
    {
     "name": "stdout",
     "output_type": "stream",
     "text": [
      "                            OLS Regression Results                            \n",
      "==============================================================================\n",
      "Dep. Variable:                      y   R-squared:                       0.467\n",
      "Model:                            OLS   Adj. R-squared:                  0.464\n",
      "Method:                 Least Squares   F-statistic:                     134.2\n",
      "Date:                Thu, 25 Jan 2024   Prob (F-statistic):           1.47e-42\n",
      "Time:                        22:00:10   Log-Likelihood:                -904.51\n",
      "No. Observations:                 309   AIC:                             1815.\n",
      "Df Residuals:                     306   BIC:                             1826.\n",
      "Df Model:                           2                                         \n",
      "Covariance Type:            nonrobust                                         \n",
      "==============================================================================\n",
      "                 coef    std err          t      P>|t|      [0.025      0.975]\n",
      "------------------------------------------------------------------------------\n",
      "const          0.0519      0.258      0.201      0.841      -0.456       0.560\n",
      "x1            -0.0019      0.079     -0.023      0.981      -0.158       0.154\n",
      "x2             7.4749      0.458     16.324      0.000       6.574       8.376\n",
      "==============================================================================\n",
      "Omnibus:                       47.900   Durbin-Watson:                   2.477\n",
      "Prob(Omnibus):                  0.000   Jarque-Bera (JB):              106.336\n",
      "Skew:                          -0.778   Prob(JB):                     8.12e-24\n",
      "Kurtosis:                       5.416   Cond. No.                         5.79\n",
      "==============================================================================\n",
      "\n",
      "Notes:\n",
      "[1] Standard Errors assume that the covariance matrix of the errors is correctly specified.\n"
     ]
    }
   ],
   "source": [
    "# 目的変数(Y)\n",
    "Y = np.array(decdiffdf['sales'])\n",
    " \n",
    "# 説明変数(X)\n",
    "col_name = ['temperature', 'holiday']\n",
    "# 全要素が1.0の列を説明変数の先頭に追加(おまじない)\n",
    "X = sm.add_constant(decdiffdf[col_name])\n",
    "X = np.array(X)\n",
    "\n",
    "# モデルの設定(OLS:最小二乗法を指定)\n",
    "model = sm.OLS(Y, X)\n",
    " \n",
    "# 回帰分析の実行\n",
    "results = model.fit()\n",
    " \n",
    "# 結果の詳細を表示\n",
    "print(results.summary())"
   ]
  },
  {
   "cell_type": "code",
   "execution_count": 129,
   "id": "23956ec2",
   "metadata": {},
   "outputs": [
    {
     "name": "stdout",
     "output_type": "stream",
     "text": [
      "                            GLS Regression Results                            \n",
      "==============================================================================\n",
      "Dep. Variable:                  sales   R-squared:                       0.501\n",
      "Model:                            GLS   Adj. R-squared:                  0.497\n",
      "Method:                 Least Squares   F-statistic:                     153.4\n",
      "Date:                Thu, 25 Jan 2024   Prob (F-statistic):           7.13e-47\n",
      "Time:                        22:00:10   Log-Likelihood:                -894.83\n",
      "No. Observations:                 309   AIC:                             1796.\n",
      "Df Residuals:                     306   BIC:                             1807.\n",
      "Df Model:                           2                                         \n",
      "Covariance Type:            nonrobust                                         \n",
      "===============================================================================\n",
      "                  coef    std err          t      P>|t|      [0.025      0.975]\n",
      "-------------------------------------------------------------------------------\n",
      "Intercept       0.0457      0.201      0.227      0.820      -0.350       0.441\n",
      "temperature     0.0179      0.083      0.214      0.830      -0.146       0.182\n",
      "holiday         7.6941      0.440     17.467      0.000       6.827       8.561\n",
      "==============================================================================\n",
      "Omnibus:                       69.412   Durbin-Watson:                   2.137\n",
      "Prob(Omnibus):                  0.000   Jarque-Bera (JB):              180.558\n",
      "Skew:                          -1.045   Prob(JB):                     6.20e-40\n",
      "Kurtosis:                       6.107   Cond. No.                         5.30\n",
      "==============================================================================\n",
      "\n",
      "Notes:\n",
      "[1] Standard Errors assume that the covariance matrix of the errors is correctly specified.\n"
     ]
    }
   ],
   "source": [
    "### 一般化最小二乗法GLSによる回帰分析\n",
    "# 残差の分散共分散行列の指定方法がテキストと異なるため、結果が合致していない可能性が高い\n",
    "\n",
    "## パラメータsigma（分散共分散行列）の取得\n",
    "# ar1_smのOLS残差の１階階差系列をさらにOLS、最小二乗基準を最小化する線形係数ρを取得\n",
    "ols_resid = smf.ols(formula='sales ~ temperature+holiday ', data=decdiffdf).fit().resid\n",
    "res_fit = sm.OLS(ols_resid[1:].values, ols_resid[:-1].values).fit()\n",
    "rho = res_fit.params\n",
    "# 分散共分散行列に変換\n",
    "order = toeplitz(np.arange(len(decdiffdf)))  # scipy.linalgのtoeplitz\n",
    "sigma = rho**order\n",
    "\n",
    "## 一般化最小二乗法による回帰分析の実行\n",
    "result_gls = smf.gls(formula='sales ~temperature+holiday ', data=decdiffdf, sigma=sigma).fit()\n",
    "# 回帰分析の結果表示\n",
    "print(result_gls.summary())"
   ]
  },
  {
   "cell_type": "code",
   "execution_count": 130,
   "id": "0327e5d3",
   "metadata": {},
   "outputs": [],
   "source": [
    "decw1=0.0179\n",
    "decw2=7.6941\n",
    "decw0=0.0457"
   ]
  },
  {
   "cell_type": "code",
   "execution_count": 131,
   "id": "7320a818",
   "metadata": {},
   "outputs": [
    {
     "data": {
      "text/html": [
       "<div>\n",
       "<style scoped>\n",
       "    .dataframe tbody tr th:only-of-type {\n",
       "        vertical-align: middle;\n",
       "    }\n",
       "\n",
       "    .dataframe tbody tr th {\n",
       "        vertical-align: top;\n",
       "    }\n",
       "\n",
       "    .dataframe thead th {\n",
       "        text-align: right;\n",
       "    }\n",
       "</style>\n",
       "<table border=\"1\" class=\"dataframe\">\n",
       "  <thead>\n",
       "    <tr style=\"text-align: right;\">\n",
       "      <th></th>\n",
       "      <th>sales</th>\n",
       "      <th>tokyo_temperature</th>\n",
       "      <th>holiday</th>\n",
       "      <th>Unnamed: 4</th>\n",
       "      <th>temperature_difference_2009_2018</th>\n",
       "      <th>temperature_difference_2019_2021</th>\n",
       "      <th>Unnamed: 7</th>\n",
       "      <th>2009</th>\n",
       "      <th>2010</th>\n",
       "      <th>2011</th>\n",
       "      <th>...</th>\n",
       "      <th>2015</th>\n",
       "      <th>2016</th>\n",
       "      <th>2017</th>\n",
       "      <th>2018</th>\n",
       "      <th>2019</th>\n",
       "      <th>2020</th>\n",
       "      <th>2021</th>\n",
       "      <th>2022</th>\n",
       "      <th>AVERAGE2009-2018</th>\n",
       "      <th>AVERAGE2019-2021</th>\n",
       "    </tr>\n",
       "    <tr>\n",
       "      <th>date</th>\n",
       "      <th></th>\n",
       "      <th></th>\n",
       "      <th></th>\n",
       "      <th></th>\n",
       "      <th></th>\n",
       "      <th></th>\n",
       "      <th></th>\n",
       "      <th></th>\n",
       "      <th></th>\n",
       "      <th></th>\n",
       "      <th></th>\n",
       "      <th></th>\n",
       "      <th></th>\n",
       "      <th></th>\n",
       "      <th></th>\n",
       "      <th></th>\n",
       "      <th></th>\n",
       "      <th></th>\n",
       "      <th></th>\n",
       "      <th></th>\n",
       "      <th></th>\n",
       "    </tr>\n",
       "  </thead>\n",
       "  <tbody>\n",
       "    <tr>\n",
       "      <th>2019-01-01</th>\n",
       "      <td>31.04</td>\n",
       "      <td>10.7</td>\n",
       "      <td>1</td>\n",
       "      <td>NaN</td>\n",
       "      <td>0.742857</td>\n",
       "      <td>0.133333</td>\n",
       "      <td>NaN</td>\n",
       "      <td>NaN</td>\n",
       "      <td>NaN</td>\n",
       "      <td>NaN</td>\n",
       "      <td>...</td>\n",
       "      <td>NaN</td>\n",
       "      <td>NaN</td>\n",
       "      <td>NaN</td>\n",
       "      <td>NaN</td>\n",
       "      <td>NaN</td>\n",
       "      <td>NaN</td>\n",
       "      <td>NaN</td>\n",
       "      <td>NaN</td>\n",
       "      <td>NaN</td>\n",
       "      <td>NaN</td>\n",
       "    </tr>\n",
       "    <tr>\n",
       "      <th>2019-01-02</th>\n",
       "      <td>30.79</td>\n",
       "      <td>10.9</td>\n",
       "      <td>1</td>\n",
       "      <td>NaN</td>\n",
       "      <td>0.942857</td>\n",
       "      <td>0.333333</td>\n",
       "      <td>NaN</td>\n",
       "      <td>NaN</td>\n",
       "      <td>NaN</td>\n",
       "      <td>NaN</td>\n",
       "      <td>...</td>\n",
       "      <td>NaN</td>\n",
       "      <td>NaN</td>\n",
       "      <td>NaN</td>\n",
       "      <td>NaN</td>\n",
       "      <td>NaN</td>\n",
       "      <td>NaN</td>\n",
       "      <td>NaN</td>\n",
       "      <td>NaN</td>\n",
       "      <td>NaN</td>\n",
       "      <td>NaN</td>\n",
       "    </tr>\n",
       "    <tr>\n",
       "      <th>2019-01-03</th>\n",
       "      <td>24.15</td>\n",
       "      <td>10.9</td>\n",
       "      <td>1</td>\n",
       "      <td>NaN</td>\n",
       "      <td>0.942857</td>\n",
       "      <td>0.333333</td>\n",
       "      <td>NaN</td>\n",
       "      <td>NaN</td>\n",
       "      <td>NaN</td>\n",
       "      <td>NaN</td>\n",
       "      <td>...</td>\n",
       "      <td>NaN</td>\n",
       "      <td>NaN</td>\n",
       "      <td>NaN</td>\n",
       "      <td>NaN</td>\n",
       "      <td>NaN</td>\n",
       "      <td>NaN</td>\n",
       "      <td>NaN</td>\n",
       "      <td>NaN</td>\n",
       "      <td>NaN</td>\n",
       "      <td>NaN</td>\n",
       "    </tr>\n",
       "    <tr>\n",
       "      <th>2019-01-04</th>\n",
       "      <td>16.34</td>\n",
       "      <td>9.8</td>\n",
       "      <td>0</td>\n",
       "      <td>NaN</td>\n",
       "      <td>-0.157143</td>\n",
       "      <td>-0.766667</td>\n",
       "      <td>NaN</td>\n",
       "      <td>NaN</td>\n",
       "      <td>NaN</td>\n",
       "      <td>NaN</td>\n",
       "      <td>...</td>\n",
       "      <td>NaN</td>\n",
       "      <td>NaN</td>\n",
       "      <td>NaN</td>\n",
       "      <td>NaN</td>\n",
       "      <td>NaN</td>\n",
       "      <td>NaN</td>\n",
       "      <td>NaN</td>\n",
       "      <td>NaN</td>\n",
       "      <td>NaN</td>\n",
       "      <td>NaN</td>\n",
       "    </tr>\n",
       "    <tr>\n",
       "      <th>2019-01-05</th>\n",
       "      <td>19.10</td>\n",
       "      <td>14.0</td>\n",
       "      <td>1</td>\n",
       "      <td>NaN</td>\n",
       "      <td>4.042857</td>\n",
       "      <td>3.433333</td>\n",
       "      <td>NaN</td>\n",
       "      <td>NaN</td>\n",
       "      <td>NaN</td>\n",
       "      <td>NaN</td>\n",
       "      <td>...</td>\n",
       "      <td>NaN</td>\n",
       "      <td>NaN</td>\n",
       "      <td>NaN</td>\n",
       "      <td>NaN</td>\n",
       "      <td>NaN</td>\n",
       "      <td>NaN</td>\n",
       "      <td>NaN</td>\n",
       "      <td>NaN</td>\n",
       "      <td>NaN</td>\n",
       "      <td>NaN</td>\n",
       "    </tr>\n",
       "    <tr>\n",
       "      <th>...</th>\n",
       "      <td>...</td>\n",
       "      <td>...</td>\n",
       "      <td>...</td>\n",
       "      <td>...</td>\n",
       "      <td>...</td>\n",
       "      <td>...</td>\n",
       "      <td>...</td>\n",
       "      <td>...</td>\n",
       "      <td>...</td>\n",
       "      <td>...</td>\n",
       "      <td>...</td>\n",
       "      <td>...</td>\n",
       "      <td>...</td>\n",
       "      <td>...</td>\n",
       "      <td>...</td>\n",
       "      <td>...</td>\n",
       "      <td>...</td>\n",
       "      <td>...</td>\n",
       "      <td>...</td>\n",
       "      <td>...</td>\n",
       "      <td>...</td>\n",
       "    </tr>\n",
       "    <tr>\n",
       "      <th>2019-12-27</th>\n",
       "      <td>18.54</td>\n",
       "      <td>13.7</td>\n",
       "      <td>0</td>\n",
       "      <td>NaN</td>\n",
       "      <td>1.600000</td>\n",
       "      <td>1.233333</td>\n",
       "      <td>NaN</td>\n",
       "      <td>NaN</td>\n",
       "      <td>NaN</td>\n",
       "      <td>NaN</td>\n",
       "      <td>...</td>\n",
       "      <td>NaN</td>\n",
       "      <td>NaN</td>\n",
       "      <td>NaN</td>\n",
       "      <td>NaN</td>\n",
       "      <td>NaN</td>\n",
       "      <td>NaN</td>\n",
       "      <td>NaN</td>\n",
       "      <td>NaN</td>\n",
       "      <td>NaN</td>\n",
       "      <td>NaN</td>\n",
       "    </tr>\n",
       "    <tr>\n",
       "      <th>2019-12-28</th>\n",
       "      <td>24.99</td>\n",
       "      <td>10.9</td>\n",
       "      <td>1</td>\n",
       "      <td>NaN</td>\n",
       "      <td>-1.200000</td>\n",
       "      <td>-1.566667</td>\n",
       "      <td>NaN</td>\n",
       "      <td>NaN</td>\n",
       "      <td>NaN</td>\n",
       "      <td>NaN</td>\n",
       "      <td>...</td>\n",
       "      <td>NaN</td>\n",
       "      <td>NaN</td>\n",
       "      <td>NaN</td>\n",
       "      <td>NaN</td>\n",
       "      <td>NaN</td>\n",
       "      <td>NaN</td>\n",
       "      <td>NaN</td>\n",
       "      <td>NaN</td>\n",
       "      <td>NaN</td>\n",
       "      <td>NaN</td>\n",
       "    </tr>\n",
       "    <tr>\n",
       "      <th>2019-12-29</th>\n",
       "      <td>33.16</td>\n",
       "      <td>10.9</td>\n",
       "      <td>1</td>\n",
       "      <td>NaN</td>\n",
       "      <td>-1.200000</td>\n",
       "      <td>-1.566667</td>\n",
       "      <td>NaN</td>\n",
       "      <td>NaN</td>\n",
       "      <td>NaN</td>\n",
       "      <td>NaN</td>\n",
       "      <td>...</td>\n",
       "      <td>NaN</td>\n",
       "      <td>NaN</td>\n",
       "      <td>NaN</td>\n",
       "      <td>NaN</td>\n",
       "      <td>NaN</td>\n",
       "      <td>NaN</td>\n",
       "      <td>NaN</td>\n",
       "      <td>NaN</td>\n",
       "      <td>NaN</td>\n",
       "      <td>NaN</td>\n",
       "    </tr>\n",
       "    <tr>\n",
       "      <th>2019-12-30</th>\n",
       "      <td>25.73</td>\n",
       "      <td>8.8</td>\n",
       "      <td>1</td>\n",
       "      <td>NaN</td>\n",
       "      <td>-3.300000</td>\n",
       "      <td>-3.666667</td>\n",
       "      <td>NaN</td>\n",
       "      <td>NaN</td>\n",
       "      <td>NaN</td>\n",
       "      <td>NaN</td>\n",
       "      <td>...</td>\n",
       "      <td>NaN</td>\n",
       "      <td>NaN</td>\n",
       "      <td>NaN</td>\n",
       "      <td>NaN</td>\n",
       "      <td>NaN</td>\n",
       "      <td>NaN</td>\n",
       "      <td>NaN</td>\n",
       "      <td>NaN</td>\n",
       "      <td>NaN</td>\n",
       "      <td>NaN</td>\n",
       "    </tr>\n",
       "    <tr>\n",
       "      <th>2019-12-31</th>\n",
       "      <td>33.84</td>\n",
       "      <td>16.5</td>\n",
       "      <td>1</td>\n",
       "      <td>NaN</td>\n",
       "      <td>4.400000</td>\n",
       "      <td>4.033333</td>\n",
       "      <td>NaN</td>\n",
       "      <td>NaN</td>\n",
       "      <td>NaN</td>\n",
       "      <td>NaN</td>\n",
       "      <td>...</td>\n",
       "      <td>NaN</td>\n",
       "      <td>NaN</td>\n",
       "      <td>NaN</td>\n",
       "      <td>NaN</td>\n",
       "      <td>NaN</td>\n",
       "      <td>NaN</td>\n",
       "      <td>NaN</td>\n",
       "      <td>NaN</td>\n",
       "      <td>NaN</td>\n",
       "      <td>NaN</td>\n",
       "    </tr>\n",
       "  </tbody>\n",
       "</table>\n",
       "<p>365 rows × 23 columns</p>\n",
       "</div>"
      ],
      "text/plain": [
       "            sales  tokyo_temperature  holiday  Unnamed: 4  \\\n",
       "date                                                        \n",
       "2019-01-01  31.04               10.7        1         NaN   \n",
       "2019-01-02  30.79               10.9        1         NaN   \n",
       "2019-01-03  24.15               10.9        1         NaN   \n",
       "2019-01-04  16.34                9.8        0         NaN   \n",
       "2019-01-05  19.10               14.0        1         NaN   \n",
       "...           ...                ...      ...         ...   \n",
       "2019-12-27  18.54               13.7        0         NaN   \n",
       "2019-12-28  24.99               10.9        1         NaN   \n",
       "2019-12-29  33.16               10.9        1         NaN   \n",
       "2019-12-30  25.73                8.8        1         NaN   \n",
       "2019-12-31  33.84               16.5        1         NaN   \n",
       "\n",
       "            temperature_difference_2009_2018  \\\n",
       "date                                           \n",
       "2019-01-01                          0.742857   \n",
       "2019-01-02                          0.942857   \n",
       "2019-01-03                          0.942857   \n",
       "2019-01-04                         -0.157143   \n",
       "2019-01-05                          4.042857   \n",
       "...                                      ...   \n",
       "2019-12-27                          1.600000   \n",
       "2019-12-28                         -1.200000   \n",
       "2019-12-29                         -1.200000   \n",
       "2019-12-30                         -3.300000   \n",
       "2019-12-31                          4.400000   \n",
       "\n",
       "            temperature_difference_2019_2021  Unnamed: 7  2009  2010  2011  \\\n",
       "date                                                                         \n",
       "2019-01-01                          0.133333         NaN   NaN   NaN   NaN   \n",
       "2019-01-02                          0.333333         NaN   NaN   NaN   NaN   \n",
       "2019-01-03                          0.333333         NaN   NaN   NaN   NaN   \n",
       "2019-01-04                         -0.766667         NaN   NaN   NaN   NaN   \n",
       "2019-01-05                          3.433333         NaN   NaN   NaN   NaN   \n",
       "...                                      ...         ...   ...   ...   ...   \n",
       "2019-12-27                          1.233333         NaN   NaN   NaN   NaN   \n",
       "2019-12-28                         -1.566667         NaN   NaN   NaN   NaN   \n",
       "2019-12-29                         -1.566667         NaN   NaN   NaN   NaN   \n",
       "2019-12-30                         -3.666667         NaN   NaN   NaN   NaN   \n",
       "2019-12-31                          4.033333         NaN   NaN   NaN   NaN   \n",
       "\n",
       "            ...  2015  2016  2017  2018  2019  2020  2021  2022  \\\n",
       "date        ...                                                   \n",
       "2019-01-01  ...   NaN   NaN   NaN   NaN   NaN   NaN   NaN   NaN   \n",
       "2019-01-02  ...   NaN   NaN   NaN   NaN   NaN   NaN   NaN   NaN   \n",
       "2019-01-03  ...   NaN   NaN   NaN   NaN   NaN   NaN   NaN   NaN   \n",
       "2019-01-04  ...   NaN   NaN   NaN   NaN   NaN   NaN   NaN   NaN   \n",
       "2019-01-05  ...   NaN   NaN   NaN   NaN   NaN   NaN   NaN   NaN   \n",
       "...         ...   ...   ...   ...   ...   ...   ...   ...   ...   \n",
       "2019-12-27  ...   NaN   NaN   NaN   NaN   NaN   NaN   NaN   NaN   \n",
       "2019-12-28  ...   NaN   NaN   NaN   NaN   NaN   NaN   NaN   NaN   \n",
       "2019-12-29  ...   NaN   NaN   NaN   NaN   NaN   NaN   NaN   NaN   \n",
       "2019-12-30  ...   NaN   NaN   NaN   NaN   NaN   NaN   NaN   NaN   \n",
       "2019-12-31  ...   NaN   NaN   NaN   NaN   NaN   NaN   NaN   NaN   \n",
       "\n",
       "            AVERAGE2009-2018  AVERAGE2019-2021  \n",
       "date                                            \n",
       "2019-01-01               NaN               NaN  \n",
       "2019-01-02               NaN               NaN  \n",
       "2019-01-03               NaN               NaN  \n",
       "2019-01-04               NaN               NaN  \n",
       "2019-01-05               NaN               NaN  \n",
       "...                      ...               ...  \n",
       "2019-12-27               NaN               NaN  \n",
       "2019-12-28               NaN               NaN  \n",
       "2019-12-29               NaN               NaN  \n",
       "2019-12-30               NaN               NaN  \n",
       "2019-12-31               NaN               NaN  \n",
       "\n",
       "[365 rows x 23 columns]"
      ]
     },
     "execution_count": 131,
     "metadata": {},
     "output_type": "execute_result"
    }
   ],
   "source": [
    "df_test"
   ]
  },
  {
   "cell_type": "code",
   "execution_count": 132,
   "id": "05f431ee",
   "metadata": {},
   "outputs": [
    {
     "data": {
      "text/plain": [
       "date\n",
       "2019-01-01    0.742857\n",
       "2019-01-02    0.942857\n",
       "2019-01-03    0.942857\n",
       "2019-01-04   -0.157143\n",
       "2019-01-05    4.042857\n",
       "                ...   \n",
       "2019-12-27    1.600000\n",
       "2019-12-28   -1.200000\n",
       "2019-12-29   -1.200000\n",
       "2019-12-30   -3.300000\n",
       "2019-12-31    4.400000\n",
       "Name: temperature_difference_2009_2018, Length: 365, dtype: float64"
      ]
     },
     "execution_count": 132,
     "metadata": {},
     "output_type": "execute_result"
    }
   ],
   "source": [
    "actual_temperature=df_test[\"temperature_difference_2009_2018\"]\n",
    "actual_temperature"
   ]
  },
  {
   "cell_type": "code",
   "execution_count": 133,
   "id": "c764b84a",
   "metadata": {},
   "outputs": [],
   "source": [
    "actual_temperature_np = np.array(actual_temperature, dtype=float)"
   ]
  },
  {
   "cell_type": "code",
   "execution_count": 134,
   "id": "6f8cd698",
   "metadata": {},
   "outputs": [
    {
     "data": {
      "text/plain": [
       "date\n",
       "2019-01-01    1\n",
       "2019-01-02    1\n",
       "2019-01-03    1\n",
       "2019-01-04    0\n",
       "2019-01-05    1\n",
       "             ..\n",
       "2019-12-27    0\n",
       "2019-12-28    1\n",
       "2019-12-29    1\n",
       "2019-12-30    1\n",
       "2019-12-31    1\n",
       "Name: holiday, Length: 365, dtype: int64"
      ]
     },
     "execution_count": 134,
     "metadata": {},
     "output_type": "execute_result"
    }
   ],
   "source": [
    "actual_holiday=df_test[\"holiday\"]\n",
    "actual_holiday"
   ]
  },
  {
   "cell_type": "code",
   "execution_count": 135,
   "id": "bfcbccec",
   "metadata": {},
   "outputs": [],
   "source": [
    "actual_holiday_np = np.array(actual_holiday, dtype=float)"
   ]
  },
  {
   "cell_type": "code",
   "execution_count": 136,
   "id": "210771f5",
   "metadata": {},
   "outputs": [],
   "source": [
    "#pred_resid[0]=s_actual_temperature[0]*w1+s_actual_holiday[0]*w2+w0\n",
    "#pred_resid[0]"
   ]
  },
  {
   "cell_type": "code",
   "execution_count": 137,
   "id": "31469a35",
   "metadata": {},
   "outputs": [],
   "source": [
    "pred_resid=[]\n",
    "for i in range(31):\n",
    "    pred_resid.append(actual_temperature_np[i]*janw1+actual_holiday_np[i]*janw2+janw0)\n",
    "for i in range(28):\n",
    "    pred_resid.append(actual_temperature_np[i+janday]*febw1+actual_holiday_np[i+janday]*febw2+febw0)\n",
    "for i in range(31):\n",
    "    pred_resid.append(actual_temperature_np[i+febday]*marw1+actual_holiday_np[i+febday]*marw2+marw0)\n",
    "for i in range(30):\n",
    "    pred_resid.append(actual_temperature_np[i+marday]*aprw1+actual_holiday_np[i+marday]*aprw2+aprw0)\n",
    "for i in range(31):\n",
    "    pred_resid.append(actual_temperature_np[i+aprday]*mayw1+actual_holiday_np[i+aprday]*mayw2+mayw0)\n",
    "for i in range(30):\n",
    "    pred_resid.append(actual_temperature_np[i+mayday]*junw1+actual_holiday_np[i+mayday]*junw2+junw0)\n",
    "for i in range(31):\n",
    "    pred_resid.append(actual_temperature_np[i+junday]*julw1+actual_holiday_np[i+junday]*julw2+julw0)\n",
    "for i in range(31):\n",
    "    pred_resid.append(actual_temperature_np[i+julday]*augw1+actual_holiday_np[i+julday]*augw2+augw0)\n",
    "for i in range(30):\n",
    "    pred_resid.append(actual_temperature_np[i+augday]*sepw1+actual_holiday_np[i+augday]*sepw2+sepw0)\n",
    "for i in range(31):\n",
    "    pred_resid.append(actual_temperature_np[i+sepday]*octw1+actual_holiday_np[i+sepday]*octw2+octw0)\n",
    "for i in range(30):\n",
    "    pred_resid.append(actual_temperature_np[i+octday]*novw1+actual_holiday_np[i+octday]*novw2+novw0)\n",
    "for i in range(31):\n",
    "    pred_resid.append(actual_temperature_np[i+novday]*decw1+actual_holiday_np[i+novday]*decw2+decw0)"
   ]
  },
  {
   "cell_type": "code",
   "execution_count": 138,
   "id": "5359435f",
   "metadata": {},
   "outputs": [],
   "source": [
    "#pred_resid=[]\n",
    "#for i in range(365):\n",
    "   # pred_resid.append(s_actual_temperature[i]*w1+s_actual_holiday[i]*w2+w0)"
   ]
  },
  {
   "cell_type": "code",
   "execution_count": 139,
   "id": "6e1a3707",
   "metadata": {},
   "outputs": [
    {
     "data": {
      "text/plain": [
       "(365,)"
      ]
     },
     "execution_count": 139,
     "metadata": {},
     "output_type": "execute_result"
    }
   ],
   "source": [
    "pred_resids = np.array(pred_resid)\n",
    "pred_resids.shape"
   ]
  },
  {
   "cell_type": "code",
   "execution_count": 140,
   "id": "6b0ba86e",
   "metadata": {},
   "outputs": [],
   "source": [
    "#6月30日まで\n"
   ]
  },
  {
   "cell_type": "code",
   "execution_count": 141,
   "id": "78015504",
   "metadata": {},
   "outputs": [],
   "source": [
    "time = np.arange(365*year+365, dtype=\"float32\")\n",
    "time_valid=time[365*year:365*(year+1)]\n",
    "x_valid=sales[365*year:365*(year+1)]"
   ]
  },
  {
   "cell_type": "code",
   "execution_count": 142,
   "id": "0b9f72ae",
   "metadata": {},
   "outputs": [
    {
     "data": {
      "text/plain": [
       "(365,)"
      ]
     },
     "execution_count": 142,
     "metadata": {},
     "output_type": "execute_result"
    }
   ],
   "source": [
    "x_valid.shape"
   ]
  },
  {
   "cell_type": "code",
   "execution_count": 143,
   "id": "92a4a45f",
   "metadata": {},
   "outputs": [
    {
     "data": {
      "image/png": "[encoded data removed]",
      "text/plain": [
       "<Figure size 640x480 with 1 Axes>"
      ]
     },
     "metadata": {},
     "output_type": "display_data"
    }
   ],
   "source": [
    "resid_test_pred = np.array(pred_resid[0:])\n",
    "resid_test_pred.shape\n",
    "\n",
    "\n",
    "\n",
    "plot_series(time_valid, x_valid)\n",
    "plot_series(time_valid, resid_test_pred)"
   ]
  },
  {
   "cell_type": "code",
   "execution_count": 144,
   "id": "4bbf7599",
   "metadata": {},
   "outputs": [
    {
     "name": "stdout",
     "output_type": "stream",
     "text": [
      "RMSE :  15.169935816124983\n",
      "MAE :  12.066525048850002\n"
     ]
    }
   ],
   "source": [
    "print('RMSE : ',np.sqrt(((x_valid - resid_test_pred)**2).mean()))\n",
    "mae=mean_absolute_error(x_valid,  resid_test_pred)\n",
    "print('MAE : ',mae)"
   ]
  },
  {
   "cell_type": "code",
   "execution_count": null,
   "id": "961a6370",
   "metadata": {},
   "outputs": [],
   "source": []
  },
  {
   "cell_type": "code",
   "execution_count": null,
   "id": "d4b67c63",
   "metadata": {},
   "outputs": [],
   "source": []
  }
 ],
 "metadata": {
  "kernelspec": {
   "display_name": "Python 3 (ipykernel)",
   "language": "python",
   "name": "python3"
  },
  "language_info": {
   "codemirror_mode": {
    "name": "ipython",
    "version": 3
   },
   "file_extension": ".py",
   "mimetype": "text/x-python",
   "name": "python",
   "nbconvert_exporter": "python",
   "pygments_lexer": "ipython3",
   "version": "3.10.9"
  }
 },
 "nbformat": 4,
 "nbformat_minor": 5
}
