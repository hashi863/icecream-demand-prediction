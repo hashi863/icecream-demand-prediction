{
 "cells": [
  {
   "cell_type": "code",
   "execution_count": 1,
   "id": "dd3cfcdc",
   "metadata": {},
   "outputs": [],
   "source": [
    "import numpy as np\n",
    "import pandas as pd\n",
    "from matplotlib import pyplot as plt\n",
    "%matplotlib inline\n",
    "import statsmodels.api as sm\n",
    "import itertools\n",
    "import warnings\n",
    "warnings.filterwarnings(\"ignore\")\n",
    "\n",
    "\n",
    "from keras.models import Sequential\n",
    "from keras.layers import Dense\n",
    "from keras.layers import LSTM\n",
    "\n",
    "from keras.optimizers import Adam\n",
    "\n",
    "import seaborn as sns\n",
    "import random\n",
    "import csv\n",
    "\n",
    "from keras.preprocessing.sequence import TimeseriesGenerator\n",
    "from sklearn.preprocessing import MinMaxScaler\n"
   ]
  },
  {
   "cell_type": "code",
   "execution_count": 2,
   "id": "908fb2b3",
   "metadata": {},
   "outputs": [],
   "source": [
    "import numpy as np\n",
    "import pandas as pd\n",
    "import pmdarima as pm\n",
    "from pmdarima import utils\n",
    "from pmdarima import arima\n",
    "from pmdarima import model_selection\n",
    "from tensorflow.keras.layers import LSTM\n",
    "\n",
    "import statsmodels.api as sm\n",
    "from statsmodels.tsa.statespace.sarimax import SARIMAX\n",
    "\n",
    "from sklearn.metrics import mean_absolute_error\n",
    "from sklearn.metrics import mean_squared_error\n",
    "from sklearn.metrics import mean_absolute_percentage_error\n",
    "\n",
    "from matplotlib import pyplot as plt"
   ]
  },
  {
   "cell_type": "code",
   "execution_count": 3,
   "id": "5f4b5ef9",
   "metadata": {},
   "outputs": [
    {
     "name": "stdout",
     "output_type": "stream",
     "text": [
      "Using TensorFlow backend\n"
     ]
    }
   ],
   "source": [
    "import numpy as np\n",
    "import matplotlib.pyplot as plt\n",
    "import tensorflow as tf\n",
    "from tensorflow import keras\n",
    "\n",
    "from tensorflow.keras.models import Sequential\n",
    "from tensorflow.keras.layers import Dense, ReLU, PReLU\n",
    "from keras_tuner.tuners import RandomSearch\n",
    "\n",
    "from sklearn.metrics import mean_absolute_percentage_error"
   ]
  },
  {
   "cell_type": "code",
   "execution_count": 4,
   "id": "8e481b56",
   "metadata": {},
   "outputs": [
    {
     "data": {
      "text/html": [
       "<div>\n",
       "<style scoped>\n",
       "    .dataframe tbody tr th:only-of-type {\n",
       "        vertical-align: middle;\n",
       "    }\n",
       "\n",
       "    .dataframe tbody tr th {\n",
       "        vertical-align: top;\n",
       "    }\n",
       "\n",
       "    .dataframe thead th {\n",
       "        text-align: right;\n",
       "    }\n",
       "</style>\n",
       "<table border=\"1\" class=\"dataframe\">\n",
       "  <thead>\n",
       "    <tr style=\"text-align: right;\">\n",
       "      <th></th>\n",
       "      <th>sales</th>\n",
       "      <th>tokyo_temperature</th>\n",
       "      <th>holiday</th>\n",
       "      <th>Unnamed: 4</th>\n",
       "      <th>temperature_difference_2009_2018</th>\n",
       "      <th>temperature_difference_2019_2021</th>\n",
       "      <th>Unnamed: 7</th>\n",
       "      <th>2009</th>\n",
       "      <th>2010</th>\n",
       "      <th>2011</th>\n",
       "      <th>...</th>\n",
       "      <th>2015</th>\n",
       "      <th>2016</th>\n",
       "      <th>2017</th>\n",
       "      <th>2018</th>\n",
       "      <th>2019</th>\n",
       "      <th>2020</th>\n",
       "      <th>2021</th>\n",
       "      <th>2022</th>\n",
       "      <th>AVERAGE2009-2018</th>\n",
       "      <th>AVERAGE2019-2021</th>\n",
       "    </tr>\n",
       "    <tr>\n",
       "      <th>date</th>\n",
       "      <th></th>\n",
       "      <th></th>\n",
       "      <th></th>\n",
       "      <th></th>\n",
       "      <th></th>\n",
       "      <th></th>\n",
       "      <th></th>\n",
       "      <th></th>\n",
       "      <th></th>\n",
       "      <th></th>\n",
       "      <th></th>\n",
       "      <th></th>\n",
       "      <th></th>\n",
       "      <th></th>\n",
       "      <th></th>\n",
       "      <th></th>\n",
       "      <th></th>\n",
       "      <th></th>\n",
       "      <th></th>\n",
       "      <th></th>\n",
       "      <th></th>\n",
       "    </tr>\n",
       "  </thead>\n",
       "  <tbody>\n",
       "    <tr>\n",
       "      <th>2009-01-01</th>\n",
       "      <td>17.59</td>\n",
       "      <td>10.6</td>\n",
       "      <td>1</td>\n",
       "      <td>NaN</td>\n",
       "      <td>0.521429</td>\n",
       "      <td>0.033333</td>\n",
       "      <td>1.0</td>\n",
       "      <td>10.2</td>\n",
       "      <td>11.0</td>\n",
       "      <td>9.1</td>\n",
       "      <td>...</td>\n",
       "      <td>10.4</td>\n",
       "      <td>10.6</td>\n",
       "      <td>10.8</td>\n",
       "      <td>9.4</td>\n",
       "      <td>10.3</td>\n",
       "      <td>11.1</td>\n",
       "      <td>10.3</td>\n",
       "      <td>9.4</td>\n",
       "      <td>10.078571</td>\n",
       "      <td>10.566667</td>\n",
       "    </tr>\n",
       "    <tr>\n",
       "      <th>2009-01-02</th>\n",
       "      <td>23.83</td>\n",
       "      <td>11.6</td>\n",
       "      <td>1</td>\n",
       "      <td>NaN</td>\n",
       "      <td>1.521429</td>\n",
       "      <td>1.033333</td>\n",
       "      <td>2.0</td>\n",
       "      <td>11.5</td>\n",
       "      <td>9.9</td>\n",
       "      <td>11.2</td>\n",
       "      <td>...</td>\n",
       "      <td>10.4</td>\n",
       "      <td>12.2</td>\n",
       "      <td>12.1</td>\n",
       "      <td>10.1</td>\n",
       "      <td>11.6</td>\n",
       "      <td>13.3</td>\n",
       "      <td>14.0</td>\n",
       "      <td>10.5</td>\n",
       "      <td>11.142857</td>\n",
       "      <td>12.966667</td>\n",
       "    </tr>\n",
       "    <tr>\n",
       "      <th>2009-01-03</th>\n",
       "      <td>22.94</td>\n",
       "      <td>10.7</td>\n",
       "      <td>1</td>\n",
       "      <td>NaN</td>\n",
       "      <td>0.621429</td>\n",
       "      <td>0.133333</td>\n",
       "      <td>3.0</td>\n",
       "      <td>13.7</td>\n",
       "      <td>13.2</td>\n",
       "      <td>12.3</td>\n",
       "      <td>...</td>\n",
       "      <td>15.5</td>\n",
       "      <td>14.9</td>\n",
       "      <td>13.4</td>\n",
       "      <td>16.9</td>\n",
       "      <td>15.4</td>\n",
       "      <td>16.0</td>\n",
       "      <td>17.9</td>\n",
       "      <td>16.6</td>\n",
       "      <td>14.942857</td>\n",
       "      <td>16.433333</td>\n",
       "    </tr>\n",
       "    <tr>\n",
       "      <th>2009-01-04</th>\n",
       "      <td>17.14</td>\n",
       "      <td>11.1</td>\n",
       "      <td>1</td>\n",
       "      <td>NaN</td>\n",
       "      <td>1.021429</td>\n",
       "      <td>0.533333</td>\n",
       "      <td>4.0</td>\n",
       "      <td>20.2</td>\n",
       "      <td>16.6</td>\n",
       "      <td>18.9</td>\n",
       "      <td>...</td>\n",
       "      <td>19.3</td>\n",
       "      <td>20.3</td>\n",
       "      <td>19.9</td>\n",
       "      <td>22.1</td>\n",
       "      <td>19.0</td>\n",
       "      <td>18.2</td>\n",
       "      <td>20.6</td>\n",
       "      <td>20.2</td>\n",
       "      <td>19.471429</td>\n",
       "      <td>19.266667</td>\n",
       "    </tr>\n",
       "    <tr>\n",
       "      <th>2009-01-05</th>\n",
       "      <td>10.32</td>\n",
       "      <td>11.8</td>\n",
       "      <td>0</td>\n",
       "      <td>NaN</td>\n",
       "      <td>1.721429</td>\n",
       "      <td>1.233333</td>\n",
       "      <td>5.0</td>\n",
       "      <td>23.6</td>\n",
       "      <td>23.0</td>\n",
       "      <td>22.2</td>\n",
       "      <td>...</td>\n",
       "      <td>26.4</td>\n",
       "      <td>25.2</td>\n",
       "      <td>25.1</td>\n",
       "      <td>24.6</td>\n",
       "      <td>25.3</td>\n",
       "      <td>24.0</td>\n",
       "      <td>24.1</td>\n",
       "      <td>23.5</td>\n",
       "      <td>24.242857</td>\n",
       "      <td>24.466667</td>\n",
       "    </tr>\n",
       "  </tbody>\n",
       "</table>\n",
       "<p>5 rows × 23 columns</p>\n",
       "</div>"
      ],
      "text/plain": [
       "            sales  tokyo_temperature  holiday  Unnamed: 4  \\\n",
       "date                                                        \n",
       "2009-01-01  17.59               10.6        1         NaN   \n",
       "2009-01-02  23.83               11.6        1         NaN   \n",
       "2009-01-03  22.94               10.7        1         NaN   \n",
       "2009-01-04  17.14               11.1        1         NaN   \n",
       "2009-01-05  10.32               11.8        0         NaN   \n",
       "\n",
       "            temperature_difference_2009_2018  \\\n",
       "date                                           \n",
       "2009-01-01                          0.521429   \n",
       "2009-01-02                          1.521429   \n",
       "2009-01-03                          0.621429   \n",
       "2009-01-04                          1.021429   \n",
       "2009-01-05                          1.721429   \n",
       "\n",
       "            temperature_difference_2019_2021  Unnamed: 7  2009  2010  2011  \\\n",
       "date                                                                         \n",
       "2009-01-01                          0.033333         1.0  10.2  11.0   9.1   \n",
       "2009-01-02                          1.033333         2.0  11.5   9.9  11.2   \n",
       "2009-01-03                          0.133333         3.0  13.7  13.2  12.3   \n",
       "2009-01-04                          0.533333         4.0  20.2  16.6  18.9   \n",
       "2009-01-05                          1.233333         5.0  23.6  23.0  22.2   \n",
       "\n",
       "            ...  2015  2016  2017  2018  2019  2020  2021  2022  \\\n",
       "date        ...                                                   \n",
       "2009-01-01  ...  10.4  10.6  10.8   9.4  10.3  11.1  10.3   9.4   \n",
       "2009-01-02  ...  10.4  12.2  12.1  10.1  11.6  13.3  14.0  10.5   \n",
       "2009-01-03  ...  15.5  14.9  13.4  16.9  15.4  16.0  17.9  16.6   \n",
       "2009-01-04  ...  19.3  20.3  19.9  22.1  19.0  18.2  20.6  20.2   \n",
       "2009-01-05  ...  26.4  25.2  25.1  24.6  25.3  24.0  24.1  23.5   \n",
       "\n",
       "            AVERAGE2009-2018  AVERAGE2019-2021  \n",
       "date                                            \n",
       "2009-01-01         10.078571         10.566667  \n",
       "2009-01-02         11.142857         12.966667  \n",
       "2009-01-03         14.942857         16.433333  \n",
       "2009-01-04         19.471429         19.266667  \n",
       "2009-01-05         24.242857         24.466667  \n",
       "\n",
       "[5 rows x 23 columns]"
      ]
     },
     "execution_count": 4,
     "metadata": {},
     "output_type": "execute_result"
    }
   ],
   "source": [
    "df=pd.read_csv('icecream_sales_date 2009-2022.csv', index_col='date', parse_dates=True,encoding=\"utf-8\")\n",
    "df.head()"
   ]
  },
  {
   "cell_type": "code",
   "execution_count": 5,
   "id": "09d0228a",
   "metadata": {},
   "outputs": [],
   "source": [
    "#df_train=df[\"2009-01-01\":\"2018-12-31\"]\n",
    "#df_test=df[\"2019-01-01\":\"2019-12-31\"]\n",
    "df_19=df[\"2009-01-01\":\"2019-12-31\"]"
   ]
  },
  {
   "cell_type": "code",
   "execution_count": 6,
   "id": "fcc98622",
   "metadata": {},
   "outputs": [
    {
     "data": {
      "text/plain": [
       "date\n",
       "2009-01-01    17.59\n",
       "2009-01-02    23.83\n",
       "2009-01-03    22.94\n",
       "2009-01-04    17.14\n",
       "2009-01-05    10.32\n",
       "              ...  \n",
       "2019-12-27    18.54\n",
       "2019-12-28    24.99\n",
       "2019-12-29    33.16\n",
       "2019-12-30    25.73\n",
       "2019-12-31    33.84\n",
       "Name: sales, Length: 4015, dtype: float64"
      ]
     },
     "execution_count": 6,
     "metadata": {},
     "output_type": "execute_result"
    }
   ],
   "source": [
    "sales=df_19[\"sales\"]\n",
    "sales"
   ]
  },
  {
   "cell_type": "code",
   "execution_count": 7,
   "id": "37021450",
   "metadata": {},
   "outputs": [],
   "source": [
    "sales_train=sales[\"2009-01-01\":\"2018-12-31\"]\n",
    "sales_test=sales[\"2019-01-01\":\"2019-12-31\"]"
   ]
  },
  {
   "cell_type": "code",
   "execution_count": 8,
   "id": "5db708c2",
   "metadata": {},
   "outputs": [
    {
     "data": {
      "text/plain": [
       "array([17.59, 23.83, 22.94, ..., 33.16, 25.73, 33.84])"
      ]
     },
     "execution_count": 8,
     "metadata": {},
     "output_type": "execute_result"
    }
   ],
   "source": [
    "sales_np = np.array(sales, dtype=float)\n",
    "sales_np"
   ]
  },
  {
   "cell_type": "code",
   "execution_count": 9,
   "id": "cfc118b5",
   "metadata": {},
   "outputs": [
    {
     "data": {
      "image/png": "[encoded data removed]",
      "text/plain": [
       "<Figure size 640x480 with 1 Axes>"
      ]
     },
     "metadata": {},
     "output_type": "display_data"
    }
   ],
   "source": [
    "saless=df[\"sales\"]\n",
    "saless.plot()\n",
    "#ヨコ軸のラベル\n",
    "plt.legend()                                       #凡例表示\n",
    "plt.show()"
   ]
  },
  {
   "cell_type": "code",
   "execution_count": 10,
   "id": "a11ab99b",
   "metadata": {},
   "outputs": [
    {
     "data": {
      "text/plain": [
       "(4015,)"
      ]
     },
     "execution_count": 10,
     "metadata": {},
     "output_type": "execute_result"
    }
   ],
   "source": [
    "series=sales_np\n",
    "series.shape"
   ]
  },
  {
   "cell_type": "code",
   "execution_count": 11,
   "id": "6b4fdc8f",
   "metadata": {},
   "outputs": [
    {
     "data": {
      "image/png": "[encoded data removed]",
      "text/plain": [
       "<Figure size 1000x600 with 1 Axes>"
      ]
     },
     "metadata": {},
     "output_type": "display_data"
    },
    {
     "data": {
      "image/png": "[encoded data removed]",
      "text/plain": [
       "<Figure size 1000x600 with 1 Axes>"
      ]
     },
     "metadata": {},
     "output_type": "display_data"
    }
   ],
   "source": [
    "year=10\n",
    "split_time = 365*year\n",
    "time = np.arange(365*year+365, dtype=\"float32\")\n",
    "\n",
    "time_train = time[:split_time]\n",
    "x_train = series[:split_time]\n",
    "time_valid = time[split_time:]\n",
    "x_valid = series[split_time:]\n",
    "\n",
    "\n",
    "window_size = 32\n",
    "batch_size = 256\n",
    "shuffle_buffer_size = 4000\n",
    "\n",
    "def plot_series(time, series, format=\"-\", start=0, end=None):\n",
    "    plt.plot(time[start:end], series[start:end], format)\n",
    "    plt.xlabel(\"Time\")\n",
    "    plt.ylabel(\"Value\")\n",
    "    plt.grid(True)\n",
    "\n",
    "plt.figure(figsize=(10, 6))\n",
    "plot_series(time_train, x_train) # 学習セット\n",
    "plt.show()\n",
    "\n",
    "plt.figure(figsize=(10, 6))\n",
    "plot_series(time_valid, x_valid) # 検証セット\n",
    "plt.show()"
   ]
  },
  {
   "cell_type": "code",
   "execution_count": 12,
   "id": "078df5f1",
   "metadata": {},
   "outputs": [],
   "source": [
    "def windowing(df, window_size):\n",
    "  x = []\n",
    "  y = []\n",
    "\n",
    "  for i in range(len(df) - window_size):\n",
    "    x_result = df[i:i+window_size].to_list()\n",
    "    x.append(x_result)\n",
    "    y_result = df[i+window_size]\n",
    "    y.append(y_result)\n",
    "\n",
    "  return np.array(x), np.array(y)"
   ]
  },
  {
   "cell_type": "code",
   "execution_count": 13,
   "id": "e94a39ec",
   "metadata": {},
   "outputs": [],
   "source": [
    "def windowed_dataset(series, window_size, batch_size, shuffle_buffer):\n",
    "  series = tf.expand_dims(series, axis=-1)\n",
    "  dataset = tf.data.Dataset.from_tensor_slices(series)\n",
    "  dataset = dataset.window(window_size + 1, shift=1, drop_remainder=True)\n",
    "  dataset = dataset.flat_map(lambda window: window.batch(window_size + 1))\n",
    "  dataset = dataset.shuffle(shuffle_buffer).map(lambda window: (window[:-1], window[-1]))\n",
    "  dataset = dataset.batch(batch_size).prefetch(1)\n",
    "  return dataset"
   ]
  },
  {
   "cell_type": "code",
   "execution_count": 14,
   "id": "ca9824d0",
   "metadata": {},
   "outputs": [
    {
     "data": {
      "text/plain": [
       "array([17.59, 23.83, 22.94, ..., 22.93, 27.97, 35.97])"
      ]
     },
     "execution_count": 14,
     "metadata": {},
     "output_type": "execute_result"
    }
   ],
   "source": [
    "x_train"
   ]
  },
  {
   "cell_type": "code",
   "execution_count": 15,
   "id": "35618fd0",
   "metadata": {},
   "outputs": [
    {
     "data": {
      "text/plain": [
       "date\n",
       "2009-01-01    17.59\n",
       "2009-01-02    23.83\n",
       "2009-01-03    22.94\n",
       "2009-01-04    17.14\n",
       "2009-01-05    10.32\n",
       "              ...  \n",
       "2019-12-27    18.54\n",
       "2019-12-28    24.99\n",
       "2019-12-29    33.16\n",
       "2019-12-30    25.73\n",
       "2019-12-31    33.84\n",
       "Name: sales, Length: 4015, dtype: float64"
      ]
     },
     "execution_count": 15,
     "metadata": {},
     "output_type": "execute_result"
    }
   ],
   "source": [
    "sales"
   ]
  },
  {
   "cell_type": "code",
   "execution_count": 16,
   "id": "8c23fe67",
   "metadata": {},
   "outputs": [],
   "source": [
    "window_size = 20\n",
    "\n",
    "x_train_lstm, y_train_lstm = windowing(sales_train, window_size)\n",
    "x_test_lstm, y_test_lstm = windowing(sales_test,window_size)"
   ]
  },
  {
   "cell_type": "code",
   "execution_count": 17,
   "id": "566a9d97",
   "metadata": {},
   "outputs": [
    {
     "name": "stdout",
     "output_type": "stream",
     "text": [
      "Model: \"sequential\"\n",
      "_________________________________________________________________\n",
      " Layer (type)                Output Shape              Param #   \n",
      "=================================================================\n",
      " lstm (LSTM)                 (None, 100)               40800     \n",
      "                                                                 \n",
      " dense (Dense)               (None, 10)                1010      \n",
      "                                                                 \n",
      " dense_1 (Dense)             (None, 1)                 11        \n",
      "                                                                 \n",
      "=================================================================\n",
      "Total params: 41,821\n",
      "Trainable params: 41,821\n",
      "Non-trainable params: 0\n",
      "_________________________________________________________________\n"
     ]
    }
   ],
   "source": [
    "import tensorflow as tf\n",
    "from tensorflow.keras.callbacks import ModelCheckpoint\n",
    "from tensorflow.keras.losses import MeanSquaredError\n",
    "from tensorflow.keras.metrics import RootMeanSquaredError\n",
    "from tensorflow.keras.optimizers import Adam\n",
    "from tensorflow.keras.models import Sequential\n",
    "from tensorflow.keras.layers import LSTM, Dense\n",
    "\n",
    "# build lstm model\n",
    "lstm_model = Sequential()\n",
    "lstm_model.add(LSTM(100, input_shape=(window_size, 1)))\n",
    "lstm_model.add(Dense(10))\n",
    "lstm_model.add(Dense(1))\n",
    "#lstm_model.add(LSTM(100, input_shape=[window_size, 1], return_sequences=True, dropout=0.1, recurrent_dropout=0.5))\n",
    "#lstm_model.add(LSTM(100, return_sequences=True, dropout=0.1, recurrent_dropout=0.5, activation='relu')) \n",
    "#lstm_model.add(Dense(1))\n",
    "lstm_model.summary()"
   ]
  },
  {
   "cell_type": "code",
   "execution_count": 18,
   "id": "e5346f93",
   "metadata": {},
   "outputs": [],
   "source": [
    "from tensorflow.keras.callbacks import EarlyStopping\n",
    "monitor = EarlyStopping(monitor='val_loss', min_delta=1e-3, patience=3, \n",
    "        verbose=1, mode='auto', restore_best_weights=True)"
   ]
  },
  {
   "cell_type": "code",
   "execution_count": 19,
   "id": "53f0d95d",
   "metadata": {},
   "outputs": [],
   "source": [
    "cp = ModelCheckpoint('model/', save_best_only=True)\n",
    "lstm_model.compile(loss=MeanSquaredError(), optimizer=Adam(learning_rate=0.0001), metrics=RootMeanSquaredError())"
   ]
  },
  {
   "cell_type": "code",
   "execution_count": 20,
   "id": "472b8b3e",
   "metadata": {},
   "outputs": [
    {
     "name": "stdout",
     "output_type": "stream",
     "text": [
      "Epoch 1/50\n",
      "111/114 [============================>.] - ETA: 0s - loss: 604.7294 - root_mean_squared_error: 24.5912"
     ]
    },
    {
     "name": "stderr",
     "output_type": "stream",
     "text": [
      "WARNING:absl:Found untraced functions such as _update_step_xla, lstm_cell_layer_call_fn, lstm_cell_layer_call_and_return_conditional_losses while saving (showing 3 of 3). These functions will not be directly callable after loading.\n"
     ]
    },
    {
     "name": "stdout",
     "output_type": "stream",
     "text": [
      "INFO:tensorflow:Assets written to: model\\assets\n"
     ]
    },
    {
     "name": "stderr",
     "output_type": "stream",
     "text": [
      "INFO:tensorflow:Assets written to: model\\assets\n"
     ]
    },
    {
     "name": "stdout",
     "output_type": "stream",
     "text": [
      "114/114 [==============================] - 8s 51ms/step - loss: 603.7549 - root_mean_squared_error: 24.5714 - val_loss: 715.3688 - val_root_mean_squared_error: 26.7464\n",
      "Epoch 2/50\n",
      "114/114 [==============================] - ETA: 0s - loss: 423.7312 - root_mean_squared_error: 20.5847"
     ]
    },
    {
     "name": "stderr",
     "output_type": "stream",
     "text": [
      "WARNING:absl:Found untraced functions such as _update_step_xla, lstm_cell_layer_call_fn, lstm_cell_layer_call_and_return_conditional_losses while saving (showing 3 of 3). These functions will not be directly callable after loading.\n"
     ]
    },
    {
     "name": "stdout",
     "output_type": "stream",
     "text": [
      "INFO:tensorflow:Assets written to: model\\assets\n"
     ]
    },
    {
     "name": "stderr",
     "output_type": "stream",
     "text": [
      "INFO:tensorflow:Assets written to: model\\assets\n"
     ]
    },
    {
     "name": "stdout",
     "output_type": "stream",
     "text": [
      "114/114 [==============================] - 5s 45ms/step - loss: 423.7312 - root_mean_squared_error: 20.5847 - val_loss: 474.3055 - val_root_mean_squared_error: 21.7786\n",
      "Epoch 3/50\n",
      "111/114 [============================>.] - ETA: 0s - loss: 258.9337 - root_mean_squared_error: 16.0914"
     ]
    },
    {
     "name": "stderr",
     "output_type": "stream",
     "text": [
      "WARNING:absl:Found untraced functions such as _update_step_xla, lstm_cell_layer_call_fn, lstm_cell_layer_call_and_return_conditional_losses while saving (showing 3 of 3). These functions will not be directly callable after loading.\n"
     ]
    },
    {
     "name": "stdout",
     "output_type": "stream",
     "text": [
      "INFO:tensorflow:Assets written to: model\\assets\n"
     ]
    },
    {
     "name": "stderr",
     "output_type": "stream",
     "text": [
      "INFO:tensorflow:Assets written to: model\\assets\n"
     ]
    },
    {
     "name": "stdout",
     "output_type": "stream",
     "text": [
      "114/114 [==============================] - 5s 45ms/step - loss: 257.2962 - root_mean_squared_error: 16.0405 - val_loss: 284.9007 - val_root_mean_squared_error: 16.8790\n",
      "Epoch 4/50\n",
      "114/114 [==============================] - ETA: 0s - loss: 173.3065 - root_mean_squared_error: 13.1646"
     ]
    },
    {
     "name": "stderr",
     "output_type": "stream",
     "text": [
      "WARNING:absl:Found untraced functions such as _update_step_xla, lstm_cell_layer_call_fn, lstm_cell_layer_call_and_return_conditional_losses while saving (showing 3 of 3). These functions will not be directly callable after loading.\n"
     ]
    },
    {
     "name": "stdout",
     "output_type": "stream",
     "text": [
      "INFO:tensorflow:Assets written to: model\\assets\n"
     ]
    },
    {
     "name": "stderr",
     "output_type": "stream",
     "text": [
      "INFO:tensorflow:Assets written to: model\\assets\n"
     ]
    },
    {
     "name": "stdout",
     "output_type": "stream",
     "text": [
      "114/114 [==============================] - 5s 43ms/step - loss: 173.3065 - root_mean_squared_error: 13.1646 - val_loss: 208.7380 - val_root_mean_squared_error: 14.4478\n",
      "Epoch 5/50\n",
      "111/114 [============================>.] - ETA: 0s - loss: 130.2138 - root_mean_squared_error: 11.4111"
     ]
    },
    {
     "name": "stderr",
     "output_type": "stream",
     "text": [
      "WARNING:absl:Found untraced functions such as _update_step_xla, lstm_cell_layer_call_fn, lstm_cell_layer_call_and_return_conditional_losses while saving (showing 3 of 3). These functions will not be directly callable after loading.\n"
     ]
    },
    {
     "name": "stdout",
     "output_type": "stream",
     "text": [
      "INFO:tensorflow:Assets written to: model\\assets\n"
     ]
    },
    {
     "name": "stderr",
     "output_type": "stream",
     "text": [
      "INFO:tensorflow:Assets written to: model\\assets\n"
     ]
    },
    {
     "name": "stdout",
     "output_type": "stream",
     "text": [
      "114/114 [==============================] - 5s 44ms/step - loss: 130.4709 - root_mean_squared_error: 11.4224 - val_loss: 160.7641 - val_root_mean_squared_error: 12.6793\n",
      "Epoch 6/50\n",
      "111/114 [============================>.] - ETA: 0s - loss: 99.6835 - root_mean_squared_error: 9.9842  "
     ]
    },
    {
     "name": "stderr",
     "output_type": "stream",
     "text": [
      "WARNING:absl:Found untraced functions such as _update_step_xla, lstm_cell_layer_call_fn, lstm_cell_layer_call_and_return_conditional_losses while saving (showing 3 of 3). These functions will not be directly callable after loading.\n"
     ]
    },
    {
     "name": "stdout",
     "output_type": "stream",
     "text": [
      "INFO:tensorflow:Assets written to: model\\assets\n"
     ]
    },
    {
     "name": "stderr",
     "output_type": "stream",
     "text": [
      "INFO:tensorflow:Assets written to: model\\assets\n"
     ]
    },
    {
     "name": "stdout",
     "output_type": "stream",
     "text": [
      "114/114 [==============================] - 5s 47ms/step - loss: 100.3170 - root_mean_squared_error: 10.0158 - val_loss: 125.7777 - val_root_mean_squared_error: 11.2151\n",
      "Epoch 7/50\n",
      "114/114 [==============================] - ETA: 0s - loss: 82.2084 - root_mean_squared_error: 9.0669"
     ]
    },
    {
     "name": "stderr",
     "output_type": "stream",
     "text": [
      "WARNING:absl:Found untraced functions such as _update_step_xla, lstm_cell_layer_call_fn, lstm_cell_layer_call_and_return_conditional_losses while saving (showing 3 of 3). These functions will not be directly callable after loading.\n"
     ]
    },
    {
     "name": "stdout",
     "output_type": "stream",
     "text": [
      "INFO:tensorflow:Assets written to: model\\assets\n"
     ]
    },
    {
     "name": "stderr",
     "output_type": "stream",
     "text": [
      "INFO:tensorflow:Assets written to: model\\assets\n"
     ]
    },
    {
     "name": "stdout",
     "output_type": "stream",
     "text": [
      "114/114 [==============================] - 5s 42ms/step - loss: 82.2084 - root_mean_squared_error: 9.0669 - val_loss: 104.1985 - val_root_mean_squared_error: 10.2078\n",
      "Epoch 8/50\n",
      "111/114 [============================>.] - ETA: 0s - loss: 70.2482 - root_mean_squared_error: 8.3814"
     ]
    },
    {
     "name": "stderr",
     "output_type": "stream",
     "text": [
      "WARNING:absl:Found untraced functions such as _update_step_xla, lstm_cell_layer_call_fn, lstm_cell_layer_call_and_return_conditional_losses while saving (showing 3 of 3). These functions will not be directly callable after loading.\n"
     ]
    },
    {
     "name": "stdout",
     "output_type": "stream",
     "text": [
      "INFO:tensorflow:Assets written to: model\\assets\n"
     ]
    },
    {
     "name": "stderr",
     "output_type": "stream",
     "text": [
      "INFO:tensorflow:Assets written to: model\\assets\n"
     ]
    },
    {
     "name": "stdout",
     "output_type": "stream",
     "text": [
      "114/114 [==============================] - 5s 47ms/step - loss: 70.9155 - root_mean_squared_error: 8.4211 - val_loss: 91.9063 - val_root_mean_squared_error: 9.5868\n",
      "Epoch 9/50\n",
      "112/114 [============================>.] - ETA: 0s - loss: 63.1966 - root_mean_squared_error: 7.9496"
     ]
    },
    {
     "name": "stderr",
     "output_type": "stream",
     "text": [
      "WARNING:absl:Found untraced functions such as _update_step_xla, lstm_cell_layer_call_fn, lstm_cell_layer_call_and_return_conditional_losses while saving (showing 3 of 3). These functions will not be directly callable after loading.\n"
     ]
    },
    {
     "name": "stdout",
     "output_type": "stream",
     "text": [
      "INFO:tensorflow:Assets written to: model\\assets\n"
     ]
    },
    {
     "name": "stderr",
     "output_type": "stream",
     "text": [
      "INFO:tensorflow:Assets written to: model\\assets\n"
     ]
    },
    {
     "name": "stdout",
     "output_type": "stream",
     "text": [
      "114/114 [==============================] - 5s 44ms/step - loss: 63.0270 - root_mean_squared_error: 7.9390 - val_loss: 81.2388 - val_root_mean_squared_error: 9.0133\n",
      "Epoch 10/50\n",
      "110/114 [===========================>..] - ETA: 0s - loss: 57.0875 - root_mean_squared_error: 7.5556"
     ]
    },
    {
     "name": "stderr",
     "output_type": "stream",
     "text": [
      "WARNING:absl:Found untraced functions such as _update_step_xla, lstm_cell_layer_call_fn, lstm_cell_layer_call_and_return_conditional_losses while saving (showing 3 of 3). These functions will not be directly callable after loading.\n"
     ]
    },
    {
     "name": "stdout",
     "output_type": "stream",
     "text": [
      "INFO:tensorflow:Assets written to: model\\assets\n"
     ]
    },
    {
     "name": "stderr",
     "output_type": "stream",
     "text": [
      "INFO:tensorflow:Assets written to: model\\assets\n"
     ]
    },
    {
     "name": "stdout",
     "output_type": "stream",
     "text": [
      "114/114 [==============================] - 5s 45ms/step - loss: 56.9209 - root_mean_squared_error: 7.5446 - val_loss: 74.6865 - val_root_mean_squared_error: 8.6421\n",
      "Epoch 11/50\n",
      "112/114 [============================>.] - ETA: 0s - loss: 52.5422 - root_mean_squared_error: 7.2486"
     ]
    },
    {
     "name": "stderr",
     "output_type": "stream",
     "text": [
      "WARNING:absl:Found untraced functions such as _update_step_xla, lstm_cell_layer_call_fn, lstm_cell_layer_call_and_return_conditional_losses while saving (showing 3 of 3). These functions will not be directly callable after loading.\n"
     ]
    },
    {
     "name": "stdout",
     "output_type": "stream",
     "text": [
      "INFO:tensorflow:Assets written to: model\\assets\n"
     ]
    },
    {
     "name": "stderr",
     "output_type": "stream",
     "text": [
      "INFO:tensorflow:Assets written to: model\\assets\n"
     ]
    },
    {
     "name": "stdout",
     "output_type": "stream",
     "text": [
      "114/114 [==============================] - 5s 46ms/step - loss: 52.2951 - root_mean_squared_error: 7.2315 - val_loss: 70.4943 - val_root_mean_squared_error: 8.3961\n",
      "Epoch 12/50\n",
      "113/114 [============================>.] - ETA: 0s - loss: 49.0262 - root_mean_squared_error: 7.0019"
     ]
    },
    {
     "name": "stderr",
     "output_type": "stream",
     "text": [
      "WARNING:absl:Found untraced functions such as _update_step_xla, lstm_cell_layer_call_fn, lstm_cell_layer_call_and_return_conditional_losses while saving (showing 3 of 3). These functions will not be directly callable after loading.\n"
     ]
    },
    {
     "name": "stdout",
     "output_type": "stream",
     "text": [
      "INFO:tensorflow:Assets written to: model\\assets\n"
     ]
    },
    {
     "name": "stderr",
     "output_type": "stream",
     "text": [
      "INFO:tensorflow:Assets written to: model\\assets\n"
     ]
    },
    {
     "name": "stdout",
     "output_type": "stream",
     "text": [
      "114/114 [==============================] - 5s 48ms/step - loss: 49.1471 - root_mean_squared_error: 7.0105 - val_loss: 65.3975 - val_root_mean_squared_error: 8.0869\n",
      "Epoch 13/50\n",
      "110/114 [===========================>..] - ETA: 0s - loss: 47.1128 - root_mean_squared_error: 6.8639"
     ]
    },
    {
     "name": "stderr",
     "output_type": "stream",
     "text": [
      "WARNING:absl:Found untraced functions such as _update_step_xla, lstm_cell_layer_call_fn, lstm_cell_layer_call_and_return_conditional_losses while saving (showing 3 of 3). These functions will not be directly callable after loading.\n"
     ]
    },
    {
     "name": "stdout",
     "output_type": "stream",
     "text": [
      "INFO:tensorflow:Assets written to: model\\assets\n"
     ]
    },
    {
     "name": "stderr",
     "output_type": "stream",
     "text": [
      "INFO:tensorflow:Assets written to: model\\assets\n"
     ]
    },
    {
     "name": "stdout",
     "output_type": "stream",
     "text": [
      "114/114 [==============================] - 5s 42ms/step - loss: 46.8228 - root_mean_squared_error: 6.8427 - val_loss: 62.3122 - val_root_mean_squared_error: 7.8938\n",
      "Epoch 14/50\n",
      "110/114 [===========================>..] - ETA: 0s - loss: 44.0388 - root_mean_squared_error: 6.6362"
     ]
    },
    {
     "name": "stderr",
     "output_type": "stream",
     "text": [
      "WARNING:absl:Found untraced functions such as _update_step_xla, lstm_cell_layer_call_fn, lstm_cell_layer_call_and_return_conditional_losses while saving (showing 3 of 3). These functions will not be directly callable after loading.\n"
     ]
    },
    {
     "name": "stdout",
     "output_type": "stream",
     "text": [
      "INFO:tensorflow:Assets written to: model\\assets\n"
     ]
    },
    {
     "name": "stderr",
     "output_type": "stream",
     "text": [
      "INFO:tensorflow:Assets written to: model\\assets\n"
     ]
    },
    {
     "name": "stdout",
     "output_type": "stream",
     "text": [
      "114/114 [==============================] - 5s 48ms/step - loss: 44.3036 - root_mean_squared_error: 6.6561 - val_loss: 58.9089 - val_root_mean_squared_error: 7.6752\n",
      "Epoch 15/50\n",
      "111/114 [============================>.] - ETA: 0s - loss: 42.3242 - root_mean_squared_error: 6.5057"
     ]
    },
    {
     "name": "stderr",
     "output_type": "stream",
     "text": [
      "WARNING:absl:Found untraced functions such as _update_step_xla, lstm_cell_layer_call_fn, lstm_cell_layer_call_and_return_conditional_losses while saving (showing 3 of 3). These functions will not be directly callable after loading.\n"
     ]
    },
    {
     "name": "stdout",
     "output_type": "stream",
     "text": [
      "INFO:tensorflow:Assets written to: model\\assets\n"
     ]
    },
    {
     "name": "stderr",
     "output_type": "stream",
     "text": [
      "INFO:tensorflow:Assets written to: model\\assets\n"
     ]
    },
    {
     "name": "stdout",
     "output_type": "stream",
     "text": [
      "114/114 [==============================] - 5s 44ms/step - loss: 42.7977 - root_mean_squared_error: 6.5420 - val_loss: 56.8388 - val_root_mean_squared_error: 7.5392\n",
      "Epoch 16/50\n",
      "111/114 [============================>.] - ETA: 0s - loss: 41.6770 - root_mean_squared_error: 6.4558"
     ]
    },
    {
     "name": "stderr",
     "output_type": "stream",
     "text": [
      "WARNING:absl:Found untraced functions such as _update_step_xla, lstm_cell_layer_call_fn, lstm_cell_layer_call_and_return_conditional_losses while saving (showing 3 of 3). These functions will not be directly callable after loading.\n"
     ]
    },
    {
     "name": "stdout",
     "output_type": "stream",
     "text": [
      "INFO:tensorflow:Assets written to: model\\assets\n"
     ]
    },
    {
     "name": "stderr",
     "output_type": "stream",
     "text": [
      "INFO:tensorflow:Assets written to: model\\assets\n"
     ]
    },
    {
     "name": "stdout",
     "output_type": "stream",
     "text": [
      "114/114 [==============================] - 5s 45ms/step - loss: 41.5646 - root_mean_squared_error: 6.4471 - val_loss: 54.4113 - val_root_mean_squared_error: 7.3764\n",
      "Epoch 17/50\n",
      "114/114 [==============================] - ETA: 0s - loss: 39.9002 - root_mean_squared_error: 6.3167"
     ]
    },
    {
     "name": "stderr",
     "output_type": "stream",
     "text": [
      "WARNING:absl:Found untraced functions such as _update_step_xla, lstm_cell_layer_call_fn, lstm_cell_layer_call_and_return_conditional_losses while saving (showing 3 of 3). These functions will not be directly callable after loading.\n"
     ]
    },
    {
     "name": "stdout",
     "output_type": "stream",
     "text": [
      "INFO:tensorflow:Assets written to: model\\assets\n"
     ]
    },
    {
     "name": "stderr",
     "output_type": "stream",
     "text": [
      "INFO:tensorflow:Assets written to: model\\assets\n"
     ]
    },
    {
     "name": "stdout",
     "output_type": "stream",
     "text": [
      "114/114 [==============================] - 5s 45ms/step - loss: 39.9002 - root_mean_squared_error: 6.3167 - val_loss: 53.0061 - val_root_mean_squared_error: 7.2805\n",
      "Epoch 18/50\n",
      "114/114 [==============================] - ETA: 0s - loss: 38.8131 - root_mean_squared_error: 6.2300"
     ]
    },
    {
     "name": "stderr",
     "output_type": "stream",
     "text": [
      "WARNING:absl:Found untraced functions such as _update_step_xla, lstm_cell_layer_call_fn, lstm_cell_layer_call_and_return_conditional_losses while saving (showing 3 of 3). These functions will not be directly callable after loading.\n"
     ]
    },
    {
     "name": "stdout",
     "output_type": "stream",
     "text": [
      "INFO:tensorflow:Assets written to: model\\assets\n"
     ]
    },
    {
     "name": "stderr",
     "output_type": "stream",
     "text": [
      "INFO:tensorflow:Assets written to: model\\assets\n"
     ]
    },
    {
     "name": "stdout",
     "output_type": "stream",
     "text": [
      "114/114 [==============================] - 5s 48ms/step - loss: 38.8131 - root_mean_squared_error: 6.2300 - val_loss: 50.7701 - val_root_mean_squared_error: 7.1253\n",
      "Epoch 19/50\n",
      "114/114 [==============================] - 1s 11ms/step - loss: 37.9076 - root_mean_squared_error: 6.1569 - val_loss: 51.3137 - val_root_mean_squared_error: 7.1634\n",
      "Epoch 20/50\n",
      "111/114 [============================>.] - ETA: 0s - loss: 37.6261 - root_mean_squared_error: 6.1340"
     ]
    },
    {
     "name": "stderr",
     "output_type": "stream",
     "text": [
      "WARNING:absl:Found untraced functions such as _update_step_xla, lstm_cell_layer_call_fn, lstm_cell_layer_call_and_return_conditional_losses while saving (showing 3 of 3). These functions will not be directly callable after loading.\n"
     ]
    },
    {
     "name": "stdout",
     "output_type": "stream",
     "text": [
      "INFO:tensorflow:Assets written to: model\\assets\n"
     ]
    },
    {
     "name": "stderr",
     "output_type": "stream",
     "text": [
      "INFO:tensorflow:Assets written to: model\\assets\n"
     ]
    },
    {
     "name": "stdout",
     "output_type": "stream",
     "text": [
      "114/114 [==============================] - 5s 43ms/step - loss: 37.5633 - root_mean_squared_error: 6.1289 - val_loss: 48.7516 - val_root_mean_squared_error: 6.9822\n",
      "Epoch 21/50\n",
      "110/114 [===========================>..] - ETA: 0s - loss: 36.6913 - root_mean_squared_error: 6.0573"
     ]
    },
    {
     "name": "stderr",
     "output_type": "stream",
     "text": [
      "WARNING:absl:Found untraced functions such as _update_step_xla, lstm_cell_layer_call_fn, lstm_cell_layer_call_and_return_conditional_losses while saving (showing 3 of 3). These functions will not be directly callable after loading.\n"
     ]
    },
    {
     "name": "stdout",
     "output_type": "stream",
     "text": [
      "INFO:tensorflow:Assets written to: model\\assets\n"
     ]
    },
    {
     "name": "stderr",
     "output_type": "stream",
     "text": [
      "INFO:tensorflow:Assets written to: model\\assets\n"
     ]
    },
    {
     "name": "stdout",
     "output_type": "stream",
     "text": [
      "114/114 [==============================] - 5s 45ms/step - loss: 36.7550 - root_mean_squared_error: 6.0626 - val_loss: 47.6221 - val_root_mean_squared_error: 6.9009\n",
      "Epoch 22/50\n",
      "111/114 [============================>.] - ETA: 0s - loss: 35.4842 - root_mean_squared_error: 5.9569"
     ]
    },
    {
     "name": "stderr",
     "output_type": "stream",
     "text": [
      "WARNING:absl:Found untraced functions such as _update_step_xla, lstm_cell_layer_call_fn, lstm_cell_layer_call_and_return_conditional_losses while saving (showing 3 of 3). These functions will not be directly callable after loading.\n"
     ]
    },
    {
     "name": "stdout",
     "output_type": "stream",
     "text": [
      "INFO:tensorflow:Assets written to: model\\assets\n"
     ]
    },
    {
     "name": "stderr",
     "output_type": "stream",
     "text": [
      "INFO:tensorflow:Assets written to: model\\assets\n"
     ]
    },
    {
     "name": "stdout",
     "output_type": "stream",
     "text": [
      "114/114 [==============================] - 6s 50ms/step - loss: 35.8275 - root_mean_squared_error: 5.9856 - val_loss: 46.2947 - val_root_mean_squared_error: 6.8040\n",
      "Epoch 23/50\n",
      "111/114 [============================>.] - ETA: 0s - loss: 34.6467 - root_mean_squared_error: 5.8861"
     ]
    },
    {
     "name": "stderr",
     "output_type": "stream",
     "text": [
      "WARNING:absl:Found untraced functions such as _update_step_xla, lstm_cell_layer_call_fn, lstm_cell_layer_call_and_return_conditional_losses while saving (showing 3 of 3). These functions will not be directly callable after loading.\n"
     ]
    },
    {
     "name": "stdout",
     "output_type": "stream",
     "text": [
      "INFO:tensorflow:Assets written to: model\\assets\n"
     ]
    },
    {
     "name": "stderr",
     "output_type": "stream",
     "text": [
      "INFO:tensorflow:Assets written to: model\\assets\n"
     ]
    },
    {
     "name": "stdout",
     "output_type": "stream",
     "text": [
      "114/114 [==============================] - 5s 45ms/step - loss: 34.7366 - root_mean_squared_error: 5.8938 - val_loss: 45.0729 - val_root_mean_squared_error: 6.7136\n",
      "Epoch 24/50\n",
      "111/114 [============================>.] - ETA: 0s - loss: 34.2045 - root_mean_squared_error: 5.8485"
     ]
    },
    {
     "name": "stderr",
     "output_type": "stream",
     "text": [
      "WARNING:absl:Found untraced functions such as _update_step_xla, lstm_cell_layer_call_fn, lstm_cell_layer_call_and_return_conditional_losses while saving (showing 3 of 3). These functions will not be directly callable after loading.\n"
     ]
    },
    {
     "name": "stdout",
     "output_type": "stream",
     "text": [
      "INFO:tensorflow:Assets written to: model\\assets\n"
     ]
    },
    {
     "name": "stderr",
     "output_type": "stream",
     "text": [
      "INFO:tensorflow:Assets written to: model\\assets\n"
     ]
    },
    {
     "name": "stdout",
     "output_type": "stream",
     "text": [
      "114/114 [==============================] - 5s 46ms/step - loss: 34.0528 - root_mean_squared_error: 5.8355 - val_loss: 44.3194 - val_root_mean_squared_error: 6.6573\n",
      "Epoch 25/50\n",
      "112/114 [============================>.] - ETA: 0s - loss: 33.6170 - root_mean_squared_error: 5.7980"
     ]
    },
    {
     "name": "stderr",
     "output_type": "stream",
     "text": [
      "WARNING:absl:Found untraced functions such as _update_step_xla, lstm_cell_layer_call_fn, lstm_cell_layer_call_and_return_conditional_losses while saving (showing 3 of 3). These functions will not be directly callable after loading.\n"
     ]
    },
    {
     "name": "stdout",
     "output_type": "stream",
     "text": [
      "INFO:tensorflow:Assets written to: model\\assets\n"
     ]
    },
    {
     "name": "stderr",
     "output_type": "stream",
     "text": [
      "INFO:tensorflow:Assets written to: model\\assets\n"
     ]
    },
    {
     "name": "stdout",
     "output_type": "stream",
     "text": [
      "114/114 [==============================] - 5s 46ms/step - loss: 33.6865 - root_mean_squared_error: 5.8040 - val_loss: 43.8257 - val_root_mean_squared_error: 6.6201\n",
      "Epoch 26/50\n",
      "114/114 [==============================] - 1s 11ms/step - loss: 33.3447 - root_mean_squared_error: 5.7745 - val_loss: 43.8570 - val_root_mean_squared_error: 6.6225\n",
      "Epoch 27/50\n",
      "111/114 [============================>.] - ETA: 0s - loss: 33.1985 - root_mean_squared_error: 5.7618"
     ]
    },
    {
     "name": "stderr",
     "output_type": "stream",
     "text": [
      "WARNING:absl:Found untraced functions such as _update_step_xla, lstm_cell_layer_call_fn, lstm_cell_layer_call_and_return_conditional_losses while saving (showing 3 of 3). These functions will not be directly callable after loading.\n"
     ]
    },
    {
     "name": "stdout",
     "output_type": "stream",
     "text": [
      "INFO:tensorflow:Assets written to: model\\assets\n"
     ]
    },
    {
     "name": "stderr",
     "output_type": "stream",
     "text": [
      "INFO:tensorflow:Assets written to: model\\assets\n"
     ]
    },
    {
     "name": "stdout",
     "output_type": "stream",
     "text": [
      "114/114 [==============================] - 5s 46ms/step - loss: 32.9949 - root_mean_squared_error: 5.7441 - val_loss: 41.8438 - val_root_mean_squared_error: 6.4687\n",
      "Epoch 28/50\n",
      "110/114 [===========================>..] - ETA: 0s - loss: 32.5639 - root_mean_squared_error: 5.7065"
     ]
    },
    {
     "name": "stderr",
     "output_type": "stream",
     "text": [
      "WARNING:absl:Found untraced functions such as _update_step_xla, lstm_cell_layer_call_fn, lstm_cell_layer_call_and_return_conditional_losses while saving (showing 3 of 3). These functions will not be directly callable after loading.\n"
     ]
    },
    {
     "name": "stdout",
     "output_type": "stream",
     "text": [
      "INFO:tensorflow:Assets written to: model\\assets\n"
     ]
    },
    {
     "name": "stderr",
     "output_type": "stream",
     "text": [
      "INFO:tensorflow:Assets written to: model\\assets\n"
     ]
    },
    {
     "name": "stdout",
     "output_type": "stream",
     "text": [
      "114/114 [==============================] - 5s 45ms/step - loss: 32.4373 - root_mean_squared_error: 5.6954 - val_loss: 41.8169 - val_root_mean_squared_error: 6.4666\n",
      "Epoch 29/50\n",
      "110/114 [===========================>..] - ETA: 0s - loss: 32.8247 - root_mean_squared_error: 5.7293"
     ]
    },
    {
     "name": "stderr",
     "output_type": "stream",
     "text": [
      "WARNING:absl:Found untraced functions such as _update_step_xla, lstm_cell_layer_call_fn, lstm_cell_layer_call_and_return_conditional_losses while saving (showing 3 of 3). These functions will not be directly callable after loading.\n"
     ]
    },
    {
     "name": "stdout",
     "output_type": "stream",
     "text": [
      "INFO:tensorflow:Assets written to: model\\assets\n"
     ]
    },
    {
     "name": "stderr",
     "output_type": "stream",
     "text": [
      "INFO:tensorflow:Assets written to: model\\assets\n"
     ]
    },
    {
     "name": "stdout",
     "output_type": "stream",
     "text": [
      "114/114 [==============================] - 5s 47ms/step - loss: 32.7563 - root_mean_squared_error: 5.7233 - val_loss: 41.1544 - val_root_mean_squared_error: 6.4152\n",
      "Epoch 30/50\n",
      "112/114 [============================>.] - ETA: 0s - loss: 31.8844 - root_mean_squared_error: 5.6466"
     ]
    },
    {
     "name": "stderr",
     "output_type": "stream",
     "text": [
      "WARNING:absl:Found untraced functions such as _update_step_xla, lstm_cell_layer_call_fn, lstm_cell_layer_call_and_return_conditional_losses while saving (showing 3 of 3). These functions will not be directly callable after loading.\n"
     ]
    },
    {
     "name": "stdout",
     "output_type": "stream",
     "text": [
      "INFO:tensorflow:Assets written to: model\\assets\n"
     ]
    },
    {
     "name": "stderr",
     "output_type": "stream",
     "text": [
      "INFO:tensorflow:Assets written to: model\\assets\n"
     ]
    },
    {
     "name": "stdout",
     "output_type": "stream",
     "text": [
      "114/114 [==============================] - 5s 42ms/step - loss: 31.7854 - root_mean_squared_error: 5.6379 - val_loss: 40.1251 - val_root_mean_squared_error: 6.3344\n",
      "Epoch 31/50\n",
      "111/114 [============================>.] - ETA: 0s - loss: 31.5278 - root_mean_squared_error: 5.6150"
     ]
    },
    {
     "name": "stderr",
     "output_type": "stream",
     "text": [
      "WARNING:absl:Found untraced functions such as _update_step_xla, lstm_cell_layer_call_fn, lstm_cell_layer_call_and_return_conditional_losses while saving (showing 3 of 3). These functions will not be directly callable after loading.\n"
     ]
    },
    {
     "name": "stdout",
     "output_type": "stream",
     "text": [
      "INFO:tensorflow:Assets written to: model\\assets\n"
     ]
    },
    {
     "name": "stderr",
     "output_type": "stream",
     "text": [
      "INFO:tensorflow:Assets written to: model\\assets\n"
     ]
    },
    {
     "name": "stdout",
     "output_type": "stream",
     "text": [
      "114/114 [==============================] - 6s 49ms/step - loss: 31.3994 - root_mean_squared_error: 5.6035 - val_loss: 39.9351 - val_root_mean_squared_error: 6.3194\n",
      "Epoch 32/50\n",
      "114/114 [==============================] - 2s 14ms/step - loss: 31.2866 - root_mean_squared_error: 5.5934 - val_loss: 40.4933 - val_root_mean_squared_error: 6.3634\n",
      "Epoch 33/50\n",
      "110/114 [===========================>..] - ETA: 0s - loss: 31.5825 - root_mean_squared_error: 5.6198"
     ]
    },
    {
     "name": "stderr",
     "output_type": "stream",
     "text": [
      "WARNING:absl:Found untraced functions such as _update_step_xla, lstm_cell_layer_call_fn, lstm_cell_layer_call_and_return_conditional_losses while saving (showing 3 of 3). These functions will not be directly callable after loading.\n"
     ]
    },
    {
     "name": "stdout",
     "output_type": "stream",
     "text": [
      "INFO:tensorflow:Assets written to: model\\assets\n"
     ]
    },
    {
     "name": "stderr",
     "output_type": "stream",
     "text": [
      "INFO:tensorflow:Assets written to: model\\assets\n"
     ]
    },
    {
     "name": "stdout",
     "output_type": "stream",
     "text": [
      "114/114 [==============================] - 5s 45ms/step - loss: 31.3312 - root_mean_squared_error: 5.5974 - val_loss: 39.0152 - val_root_mean_squared_error: 6.2462\n",
      "Epoch 34/50\n",
      "112/114 [============================>.] - ETA: 0s - loss: 31.0484 - root_mean_squared_error: 5.5721"
     ]
    },
    {
     "name": "stderr",
     "output_type": "stream",
     "text": [
      "WARNING:absl:Found untraced functions such as _update_step_xla, lstm_cell_layer_call_fn, lstm_cell_layer_call_and_return_conditional_losses while saving (showing 3 of 3). These functions will not be directly callable after loading.\n"
     ]
    },
    {
     "name": "stdout",
     "output_type": "stream",
     "text": [
      "INFO:tensorflow:Assets written to: model\\assets\n"
     ]
    },
    {
     "name": "stderr",
     "output_type": "stream",
     "text": [
      "INFO:tensorflow:Assets written to: model\\assets\n"
     ]
    },
    {
     "name": "stdout",
     "output_type": "stream",
     "text": [
      "114/114 [==============================] - 5s 48ms/step - loss: 31.0223 - root_mean_squared_error: 5.5698 - val_loss: 38.9182 - val_root_mean_squared_error: 6.2384\n",
      "Epoch 35/50\n",
      "114/114 [==============================] - 2s 14ms/step - loss: 30.6230 - root_mean_squared_error: 5.5338 - val_loss: 39.1267 - val_root_mean_squared_error: 6.2551\n",
      "Epoch 36/50\n",
      "113/114 [============================>.] - ETA: 0s - loss: 30.4773 - root_mean_squared_error: 5.5206"
     ]
    },
    {
     "name": "stderr",
     "output_type": "stream",
     "text": [
      "WARNING:absl:Found untraced functions such as _update_step_xla, lstm_cell_layer_call_fn, lstm_cell_layer_call_and_return_conditional_losses while saving (showing 3 of 3). These functions will not be directly callable after loading.\n"
     ]
    },
    {
     "name": "stdout",
     "output_type": "stream",
     "text": [
      "INFO:tensorflow:Assets written to: model\\assets\n"
     ]
    },
    {
     "name": "stderr",
     "output_type": "stream",
     "text": [
      "INFO:tensorflow:Assets written to: model\\assets\n"
     ]
    },
    {
     "name": "stdout",
     "output_type": "stream",
     "text": [
      "114/114 [==============================] - 5s 45ms/step - loss: 30.5510 - root_mean_squared_error: 5.5273 - val_loss: 38.4008 - val_root_mean_squared_error: 6.1968\n",
      "Epoch 37/50\n",
      "112/114 [============================>.] - ETA: 0s - loss: 29.9760 - root_mean_squared_error: 5.4750"
     ]
    },
    {
     "name": "stderr",
     "output_type": "stream",
     "text": [
      "WARNING:absl:Found untraced functions such as _update_step_xla, lstm_cell_layer_call_fn, lstm_cell_layer_call_and_return_conditional_losses while saving (showing 3 of 3). These functions will not be directly callable after loading.\n"
     ]
    },
    {
     "name": "stdout",
     "output_type": "stream",
     "text": [
      "INFO:tensorflow:Assets written to: model\\assets\n"
     ]
    },
    {
     "name": "stderr",
     "output_type": "stream",
     "text": [
      "INFO:tensorflow:Assets written to: model\\assets\n"
     ]
    },
    {
     "name": "stdout",
     "output_type": "stream",
     "text": [
      "114/114 [==============================] - 5s 46ms/step - loss: 30.0211 - root_mean_squared_error: 5.4792 - val_loss: 38.3417 - val_root_mean_squared_error: 6.1921\n",
      "Epoch 38/50\n",
      "114/114 [==============================] - 2s 13ms/step - loss: 30.3220 - root_mean_squared_error: 5.5065 - val_loss: 38.4615 - val_root_mean_squared_error: 6.2017\n",
      "Epoch 39/50\n",
      "113/114 [============================>.] - ETA: 0s - loss: 30.0094 - root_mean_squared_error: 5.4781"
     ]
    },
    {
     "name": "stderr",
     "output_type": "stream",
     "text": [
      "WARNING:absl:Found untraced functions such as _update_step_xla, lstm_cell_layer_call_fn, lstm_cell_layer_call_and_return_conditional_losses while saving (showing 3 of 3). These functions will not be directly callable after loading.\n"
     ]
    },
    {
     "name": "stdout",
     "output_type": "stream",
     "text": [
      "INFO:tensorflow:Assets written to: model\\assets\n"
     ]
    },
    {
     "name": "stderr",
     "output_type": "stream",
     "text": [
      "INFO:tensorflow:Assets written to: model\\assets\n"
     ]
    },
    {
     "name": "stdout",
     "output_type": "stream",
     "text": [
      "114/114 [==============================] - 5s 45ms/step - loss: 29.9986 - root_mean_squared_error: 5.4771 - val_loss: 37.8896 - val_root_mean_squared_error: 6.1555\n",
      "Epoch 40/50\n",
      "111/114 [============================>.] - ETA: 0s - loss: 29.6697 - root_mean_squared_error: 5.4470"
     ]
    },
    {
     "name": "stderr",
     "output_type": "stream",
     "text": [
      "WARNING:absl:Found untraced functions such as _update_step_xla, lstm_cell_layer_call_fn, lstm_cell_layer_call_and_return_conditional_losses while saving (showing 3 of 3). These functions will not be directly callable after loading.\n"
     ]
    },
    {
     "name": "stdout",
     "output_type": "stream",
     "text": [
      "INFO:tensorflow:Assets written to: model\\assets\n"
     ]
    },
    {
     "name": "stderr",
     "output_type": "stream",
     "text": [
      "INFO:tensorflow:Assets written to: model\\assets\n"
     ]
    },
    {
     "name": "stdout",
     "output_type": "stream",
     "text": [
      "114/114 [==============================] - 6s 49ms/step - loss: 29.5665 - root_mean_squared_error: 5.4375 - val_loss: 36.7388 - val_root_mean_squared_error: 6.0613\n",
      "Epoch 41/50\n",
      "114/114 [==============================] - 1s 12ms/step - loss: 29.3905 - root_mean_squared_error: 5.4213 - val_loss: 37.1155 - val_root_mean_squared_error: 6.0922\n",
      "Epoch 42/50\n",
      "114/114 [==============================] - 1s 11ms/step - loss: 29.2900 - root_mean_squared_error: 5.4120 - val_loss: 36.9695 - val_root_mean_squared_error: 6.0803\n",
      "Epoch 43/50\n",
      "110/114 [===========================>..] - ETA: 0s - loss: 28.9567 - root_mean_squared_error: 5.3811"
     ]
    },
    {
     "name": "stderr",
     "output_type": "stream",
     "text": [
      "WARNING:absl:Found untraced functions such as _update_step_xla, lstm_cell_layer_call_fn, lstm_cell_layer_call_and_return_conditional_losses while saving (showing 3 of 3). These functions will not be directly callable after loading.\n"
     ]
    },
    {
     "name": "stdout",
     "output_type": "stream",
     "text": [
      "INFO:tensorflow:Assets written to: model\\assets\n"
     ]
    },
    {
     "name": "stderr",
     "output_type": "stream",
     "text": [
      "INFO:tensorflow:Assets written to: model\\assets\n"
     ]
    },
    {
     "name": "stdout",
     "output_type": "stream",
     "text": [
      "114/114 [==============================] - 5s 46ms/step - loss: 28.9254 - root_mean_squared_error: 5.3782 - val_loss: 36.2524 - val_root_mean_squared_error: 6.0210\n",
      "Epoch 44/50\n",
      "111/114 [============================>.] - ETA: 0s - loss: 28.9641 - root_mean_squared_error: 5.3818"
     ]
    },
    {
     "name": "stderr",
     "output_type": "stream",
     "text": [
      "WARNING:absl:Found untraced functions such as _update_step_xla, lstm_cell_layer_call_fn, lstm_cell_layer_call_and_return_conditional_losses while saving (showing 3 of 3). These functions will not be directly callable after loading.\n"
     ]
    },
    {
     "name": "stdout",
     "output_type": "stream",
     "text": [
      "INFO:tensorflow:Assets written to: model\\assets\n"
     ]
    },
    {
     "name": "stderr",
     "output_type": "stream",
     "text": [
      "INFO:tensorflow:Assets written to: model\\assets\n"
     ]
    },
    {
     "name": "stdout",
     "output_type": "stream",
     "text": [
      "114/114 [==============================] - 5s 47ms/step - loss: 29.0418 - root_mean_squared_error: 5.3890 - val_loss: 35.6268 - val_root_mean_squared_error: 5.9688\n",
      "Epoch 45/50\n",
      "110/114 [===========================>..] - ETA: 0s - loss: 28.7543 - root_mean_squared_error: 5.3623"
     ]
    },
    {
     "name": "stderr",
     "output_type": "stream",
     "text": [
      "WARNING:absl:Found untraced functions such as _update_step_xla, lstm_cell_layer_call_fn, lstm_cell_layer_call_and_return_conditional_losses while saving (showing 3 of 3). These functions will not be directly callable after loading.\n"
     ]
    },
    {
     "name": "stdout",
     "output_type": "stream",
     "text": [
      "INFO:tensorflow:Assets written to: model\\assets\n"
     ]
    },
    {
     "name": "stderr",
     "output_type": "stream",
     "text": [
      "INFO:tensorflow:Assets written to: model\\assets\n"
     ]
    },
    {
     "name": "stdout",
     "output_type": "stream",
     "text": [
      "114/114 [==============================] - 6s 49ms/step - loss: 28.6605 - root_mean_squared_error: 5.3536 - val_loss: 35.2394 - val_root_mean_squared_error: 5.9363\n",
      "Epoch 46/50\n",
      "111/114 [============================>.] - ETA: 0s - loss: 28.2840 - root_mean_squared_error: 5.3183"
     ]
    },
    {
     "name": "stderr",
     "output_type": "stream",
     "text": [
      "WARNING:absl:Found untraced functions such as _update_step_xla, lstm_cell_layer_call_fn, lstm_cell_layer_call_and_return_conditional_losses while saving (showing 3 of 3). These functions will not be directly callable after loading.\n"
     ]
    },
    {
     "name": "stdout",
     "output_type": "stream",
     "text": [
      "INFO:tensorflow:Assets written to: model\\assets\n"
     ]
    },
    {
     "name": "stderr",
     "output_type": "stream",
     "text": [
      "INFO:tensorflow:Assets written to: model\\assets\n"
     ]
    },
    {
     "name": "stdout",
     "output_type": "stream",
     "text": [
      "114/114 [==============================] - 5s 43ms/step - loss: 28.5287 - root_mean_squared_error: 5.3412 - val_loss: 35.1521 - val_root_mean_squared_error: 5.9289\n",
      "Epoch 47/50\n",
      "114/114 [==============================] - 1s 13ms/step - loss: 28.6703 - root_mean_squared_error: 5.3545 - val_loss: 36.7162 - val_root_mean_squared_error: 6.0594\n",
      "Epoch 48/50\n",
      "112/114 [============================>.] - ETA: 0s - loss: 29.0142 - root_mean_squared_error: 5.3865"
     ]
    },
    {
     "name": "stderr",
     "output_type": "stream",
     "text": [
      "WARNING:absl:Found untraced functions such as _update_step_xla, lstm_cell_layer_call_fn, lstm_cell_layer_call_and_return_conditional_losses while saving (showing 3 of 3). These functions will not be directly callable after loading.\n"
     ]
    },
    {
     "name": "stdout",
     "output_type": "stream",
     "text": [
      "INFO:tensorflow:Assets written to: model\\assets\n"
     ]
    },
    {
     "name": "stderr",
     "output_type": "stream",
     "text": [
      "INFO:tensorflow:Assets written to: model\\assets\n"
     ]
    },
    {
     "name": "stdout",
     "output_type": "stream",
     "text": [
      "114/114 [==============================] - 5s 48ms/step - loss: 28.8707 - root_mean_squared_error: 5.3731 - val_loss: 34.3205 - val_root_mean_squared_error: 5.8584\n",
      "Epoch 49/50\n",
      "114/114 [==============================] - 2s 14ms/step - loss: 28.0959 - root_mean_squared_error: 5.3006 - val_loss: 35.8725 - val_root_mean_squared_error: 5.9894\n",
      "Epoch 50/50\n",
      "114/114 [==============================] - 1s 12ms/step - loss: 27.9471 - root_mean_squared_error: 5.2865 - val_loss: 36.6174 - val_root_mean_squared_error: 6.0512\n"
     ]
    }
   ],
   "source": [
    "# train lstm model\n",
    "history = lstm_model.fit(x_train_lstm, y_train_lstm, validation_data=(x_test_lstm, y_test_lstm), epochs=50, batch_size=32, callbacks=[cp])"
   ]
  },
  {
   "cell_type": "code",
   "execution_count": 21,
   "id": "285f1955",
   "metadata": {},
   "outputs": [
    {
     "data": {
      "image/png": "[encoded data removed]",
      "text/plain": [
       "<Figure size 640x480 with 1 Axes>"
      ]
     },
     "metadata": {},
     "output_type": "display_data"
    }
   ],
   "source": [
    "# plot train and test loss values\n",
    "plt.plot(history.history['loss'])\n",
    "plt.plot(history.history['val_loss'])\n",
    "plt.title('lstm_model252 Loss')\n",
    "plt.ylabel('Loss')\n",
    "plt.xlabel('Epoch')\n",
    "plt.legend(['Train', 'Test'])\n",
    "plt.show()"
   ]
  },
  {
   "cell_type": "code",
   "execution_count": 22,
   "id": "d6587ca9",
   "metadata": {},
   "outputs": [
    {
     "name": "stdout",
     "output_type": "stream",
     "text": [
      "loss        27.947100\n",
      "val_loss    34.320522\n",
      "dtype: float64\n"
     ]
    }
   ],
   "source": [
    "loss_df = pd.DataFrame({'loss': history.history['loss'], 'val_loss': history.history['val_loss']})\n",
    "loss = pd.DataFrame({'min': loss_df.min(), 'max': loss_df.max()})\n",
    "loss\n",
    "print(loss_df.min())"
   ]
  },
  {
   "cell_type": "code",
   "execution_count": 23,
   "id": "db502839",
   "metadata": {},
   "outputs": [],
   "source": [
    "def model_forecast(model, series, window_size):\n",
    "    ds = tf.data.Dataset.from_tensor_slices(series)\n",
    "    ds = ds.window(window_size, shift=1, drop_remainder=True)\n",
    "    ds = ds.flat_map(lambda w: w.batch(window_size))\n",
    "    ds = ds.batch(32).prefetch(1)\n",
    "    forecast = model.predict(ds)\n",
    "    return forecast"
   ]
  },
  {
   "cell_type": "code",
   "execution_count": 24,
   "id": "ddd0af62",
   "metadata": {},
   "outputs": [
    {
     "name": "stdout",
     "output_type": "stream",
     "text": [
      "12/12 [==============================] - 2s 121ms/step\n"
     ]
    }
   ],
   "source": [
    "forecast = model_forecast(lstm_model, series[split_time - window_size:-1], window_size)[:,0]"
   ]
  },
  {
   "cell_type": "code",
   "execution_count": 25,
   "id": "67d014ac",
   "metadata": {},
   "outputs": [
    {
     "data": {
      "image/png": "[encoded data removed]",
      "text/plain": [
       "<Figure size 640x480 with 1 Axes>"
      ]
     },
     "metadata": {},
     "output_type": "display_data"
    }
   ],
   "source": [
    "plot_series(time_valid, x_valid)\n",
    "plot_series(time_valid, forecast)"
   ]
  },
  {
   "cell_type": "code",
   "execution_count": 26,
   "id": "a62a1efe",
   "metadata": {},
   "outputs": [
    {
     "name": "stdout",
     "output_type": "stream",
     "text": [
      "RMSE :  5.971326548922406\n"
     ]
    }
   ],
   "source": [
    "print('RMSE : ',np.sqrt(((x_valid - forecast)**2).mean()))"
   ]
  },
  {
   "cell_type": "code",
   "execution_count": null,
   "id": "a42a1c8d",
   "metadata": {},
   "outputs": [],
   "source": []
  },
  {
   "cell_type": "code",
   "execution_count": null,
   "id": "23f46780",
   "metadata": {},
   "outputs": [],
   "source": []
  }
 ],
 "metadata": {
  "kernelspec": {
   "display_name": "Python 3 (ipykernel)",
   "language": "python",
   "name": "python3"
  },
  "language_info": {
   "codemirror_mode": {
    "name": "ipython",
    "version": 3
   },
   "file_extension": ".py",
   "mimetype": "text/x-python",
   "name": "python",
   "nbconvert_exporter": "python",
   "pygments_lexer": "ipython3",
   "version": "3.10.9"
  }
 },
 "nbformat": 4,
 "nbformat_minor": 5
}
